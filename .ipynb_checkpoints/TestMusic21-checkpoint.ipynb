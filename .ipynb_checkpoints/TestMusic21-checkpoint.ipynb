{
 "cells": [
  {
   "cell_type": "code",
   "execution_count": 1,
   "metadata": {},
   "outputs": [],
   "source": [
    "from music21 import *\n",
    "from scipy import *\n",
    "from ipynb.fs.full.ScoreViewer import showScore"
   ]
  },
  {
   "cell_type": "code",
   "execution_count": 9,
   "metadata": {},
   "outputs": [
    {
     "name": "stdout",
     "output_type": "stream",
     "text": [
      "DIV_ID OSMD-div-614360\n"
     ]
    },
    {
     "data": {
      "text/html": [
       "<div id=\"OSMD-div-614360\">loading OpenSheetMusicDisplay</div>"
      ],
      "text/plain": [
       "<IPython.core.display.HTML object>"
      ]
     },
     "metadata": {},
     "output_type": "display_data"
    },
    {
     "name": "stdout",
     "output_type": "stream",
     "text": [
      "xml length: 1781\n"
     ]
    },
    {
     "data": {
      "application/javascript": [
       "\n",
       "    console.log(\"loadOSMD()\");\n",
       "    function loadOSMD() { \n",
       "        return new Promise(function(resolve, reject){\n",
       "\n",
       "            if (window.opensheetmusicdisplay) {\n",
       "                console.log(\"already loaded\")\n",
       "                return resolve(window.opensheetmusicdisplay)\n",
       "            }\n",
       "            console.log(\"loading osmd for the first time\")\n",
       "            // OSMD script has a 'define' call which conflicts with requirejs\n",
       "            var _define = window.define // save the define object \n",
       "            window.define = undefined // now the loaded script will ignore requirejs\n",
       "            var s = document.createElement( 'script' );\n",
       "            s.setAttribute( 'src', \"https://cdn.jsdelivr.net/npm/opensheetmusicdisplay@0.3.1/build/opensheetmusicdisplay.min.js\" );\n",
       "            //s.setAttribute( 'src', \"/custom/opensheetmusicdisplay.js\" );\n",
       "            s.onload=function(){\n",
       "                window.define = _define\n",
       "                console.log(\"loaded OSMD for the first time\",opensheetmusicdisplay)\n",
       "                resolve(opensheetmusicdisplay);\n",
       "            };\n",
       "            document.body.appendChild( s ); // browser will try to load the new script tag\n",
       "        }) \n",
       "    }\n",
       "    loadOSMD().then((OSMD)=>{\n",
       "        console.log(\"loaded OSMD\",OSMD)\n",
       "        var div_id = \"OSMD-div-614360\";\n",
       "            console.log(div_id)\n",
       "        window.openSheetMusicDisplay = new OSMD.OpenSheetMusicDisplay(div_id);\n",
       "        openSheetMusicDisplay\n",
       "            .load(\"<?xml version=\\\"1.0\\\" encoding=\\\"utf-8\\\"?>\\n<!DOCTYPE score-partwise  PUBLIC \\\"-//Recordare//DTD MusicXML 3.0 Partwise//EN\\\" \\\"http://www.musicxml.org/dtds/partwise.dtd\\\">\\n<score-partwise version=\\\"3.0\\\">\\n  <movement-title>Music21 Fragment</movement-title>\\n  <identification>\\n    <creator type=\\\"composer\\\">Music21</creator>\\n    <encoding>\\n      <encoding-date>2020-02-09</encoding-date>\\n      <software>music21 v.5.7.2</software>\\n    </encoding>\\n  </identification>\\n  <defaults>\\n    <scaling>\\n      <millimeters>7</millimeters>\\n      <tenths>40</tenths>\\n    </scaling>\\n  </defaults>\\n  <part-list>\\n    <score-part id=\\\"P3e2cb28c173c97b4b5ae6437c529820d\\\">\\n      <part-name />\\n    </score-part>\\n  </part-list>\\n  <!--=========================== Part 1 ===========================-->\\n  <part id=\\\"P3e2cb28c173c97b4b5ae6437c529820d\\\">\\n    <!--========================= Measure 1 ==========================-->\\n    <measure number=\\\"1\\\">\\n      <attributes>\\n        <divisions>10080</divisions>\\n        <time>\\n          <beats>4</beats>\\n          <beat-type>4</beat-type>\\n        </time>\\n        <clef>\\n          <sign>G</sign>\\n          <line>2</line>\\n        </clef>\\n      </attributes>\\n      <note>\\n        <pitch>\\n          <step>C</step>\\n          <alter>1</alter>\\n          <octave>4</octave>\\n        </pitch>\\n        <duration>20160</duration>\\n        <type>half</type>\\n        <accidental>sharp</accidental>\\n      </note>\\n      <note>\\n        <pitch>\\n          <step>D</step>\\n          <alter>1</alter>\\n          <octave>4</octave>\\n        </pitch>\\n        <duration>20160</duration>\\n        <type>half</type>\\n        <accidental>sharp</accidental>\\n      </note>\\n      <barline location=\\\"right\\\">\\n        <bar-style>light-heavy</bar-style>\\n      </barline>\\n    </measure>\\n  </part>\\n</score-partwise>\\n\")\n",
       "            .then(\n",
       "              function() {\n",
       "                console.log(\"rendering data\")\n",
       "                openSheetMusicDisplay.render();\n",
       "              }\n",
       "            );\n",
       "    })\n",
       "    "
      ],
      "text/plain": [
       "<IPython.core.display.Javascript object>"
      ]
     },
     "metadata": {},
     "output_type": "display_data"
    }
   ],
   "source": [
    "s1 = stream.Stream()\n",
    "s1.append(note.Note('C#4', type='half'))\n",
    "s1.append(note.Note('D#4', type='half'))\n",
    "showScore(s1)"
   ]
  },
  {
   "cell_type": "code",
   "execution_count": null,
   "metadata": {},
   "outputs": [],
   "source": []
  }
 ],
 "metadata": {
  "kernelspec": {
   "display_name": "Python 3",
   "language": "python",
   "name": "python3"
  },
  "language_info": {
   "codemirror_mode": {
    "name": "ipython",
    "version": 3
   },
   "file_extension": ".py",
   "mimetype": "text/x-python",
   "name": "python",
   "nbconvert_exporter": "python",
   "pygments_lexer": "ipython3",
   "version": "3.7.3"
  }
 },
 "nbformat": 4,
 "nbformat_minor": 4
}
