{
 "cells": [
  {
   "cell_type": "markdown",
   "metadata": {},
   "source": [
    "The purpose of this class is to convert common forms of data into musical concepts with hash functions. These include types such as words (Strings) or colors (RGB Integers)."
   ]
  },
  {
   "cell_type": "markdown",
   "metadata": {},
   "source": [
    "This function turns a String into a list of ints for durations"
   ]
  },
  {
   "cell_type": "code",
   "execution_count": 1,
   "metadata": {},
   "outputs": [],
   "source": [
    "def stringToDurs(str = \"\"):\n",
    "    length = len(str)\n",
    "    result = []\n",
    "    for c in str:\n",
    "        result.append(int(ord(c)%length % 16 + 1))\n",
    "    \n",
    "    return result"
   ]
  },
  {
   "cell_type": "code",
   "execution_count": 2,
   "metadata": {},
   "outputs": [
    {
     "name": "stdout",
     "output_type": "stream",
     "text": [
      "[4, 3, 3, 9, 6, 4, 2, 3, 3]\n"
     ]
    }
   ],
   "source": [
    "print(stringToDurs(\"Beethoven\"))"
   ]
  },
  {
   "cell_type": "markdown",
   "metadata": {},
   "source": [
    "This function is for adding all of the digits in a number"
   ]
  },
  {
   "cell_type": "code",
   "execution_count": 3,
   "metadata": {},
   "outputs": [],
   "source": [
    "def getDigitSum(n = 0):\n",
    "    total = 0;\n",
    "    while(n != 0):\n",
    "        total += n % 10\n",
    "        n = int(n/10)\n",
    "        \n",
    "    return total"
   ]
  },
  {
   "cell_type": "code",
   "execution_count": 4,
   "metadata": {},
   "outputs": [
    {
     "name": "stdout",
     "output_type": "stream",
     "text": [
      "12\n"
     ]
    }
   ],
   "source": [
    "print(getDigitSum(255))"
   ]
  },
  {
   "cell_type": "markdown",
   "metadata": {},
   "source": [
    "This function turns a color (rgb values in int list) into a list of durations (ints)"
   ]
  },
  {
   "cell_type": "code",
   "execution_count": 5,
   "metadata": {},
   "outputs": [],
   "source": [
    "def rgbToDurs(rgb = [255, 255, 255]):\n",
    "    rgb = list(map((lambda a: a + 1), rgb))\n",
    "    num = max(map(getDigitSum, rgb))\n",
    "    result = []\n",
    "    for i in range(num):\n",
    "        result.append(int((rgb[i%3] + i) % rgb[(i+1)%3] % 16 + 1))\n",
    "    \n",
    "    return result"
   ]
  },
  {
   "cell_type": "code",
   "execution_count": 6,
   "metadata": {},
   "outputs": [
    {
     "name": "stdout",
     "output_type": "stream",
     "text": [
      "[5, 2, 6, 8, 5, 9, 11, 8, 12, 14, 11, 15, 1, 14, 2, 4, 1]\n"
     ]
    }
   ],
   "source": [
    "print(rgbToDurs([178, 34, 34])) #firebrick"
   ]
  },
  {
   "cell_type": "markdown",
   "metadata": {},
   "source": [
    "This function will allow the merging of two duration lists into one"
   ]
  },
  {
   "cell_type": "code",
   "execution_count": 17,
   "metadata": {},
   "outputs": [],
   "source": [
    "def mergeDurs(durs = []):\n",
    "    if(len(durs)==0):\n",
    "        return []\n",
    "    combo = []\n",
    "    for dur in durs:\n",
    "        combo.extend(dur)\n",
    "    result = []\n",
    "    i = 0\n",
    "    length = int(len(combo)/len(durs))\n",
    "    for j in range(length):\n",
    "        val = combo.pop(i)\n",
    "        i = val % len(combo)\n",
    "        result.append(val)\n",
    "    \n",
    "    return result"
   ]
  },
  {
   "cell_type": "code",
   "execution_count": 18,
   "metadata": {},
   "outputs": [
    {
     "name": "stdout",
     "output_type": "stream",
     "text": [
      "[2, 2, 7, 7, 2, 6, 9, 8, 5, 4]\n",
      "[11, 1, 4, 14, 1, 7, 1, 1, 10, 4, 1, 13, 7]\n",
      "[1, 3, 1, 1, 6, 1, 1, 9, 1, 1, 12, 1, 1]\n",
      "\n",
      "[2, 7, 4, 9, 14, 4, 8, 1, 7, 7, 1, 2]\n"
     ]
    }
   ],
   "source": [
    "l1 = stringToDurs(\"Gettysburg\")\n",
    "l2 = rgbToDurs([255, 165, 0]) # Orange\n",
    "l3 = rgbToDurs([0, 0, 255]) # Blue\n",
    "ls = mergeDurs([l1, l2, l3])\n",
    "print(l1)\n",
    "print(l2)\n",
    "print(l3)\n",
    "print()\n",
    "print(ls)"
   ]
  },
  {
   "cell_type": "code",
   "execution_count": null,
   "metadata": {},
   "outputs": [],
   "source": [
    "def rgbToPitches(rgb = [255, 255, 255]):\n",
    "    if(len(rgb) != 3):\n",
    "        return []\n",
    "    result = []\n",
    "    result.append(rgb[0]%12)\n",
    "    result.append(rgb[1]%12)\n",
    "    result.append(rgb[2]%12)\n",
    "    return result"
   ]
  }
 ],
 "metadata": {
  "kernelspec": {
   "display_name": "Python 3",
   "language": "python",
   "name": "python3"
  },
  "language_info": {
   "codemirror_mode": {
    "name": "ipython",
    "version": 3
   },
   "file_extension": ".py",
   "mimetype": "text/x-python",
   "name": "python",
   "nbconvert_exporter": "python",
   "pygments_lexer": "ipython3",
   "version": "3.7.3"
  }
 },
 "nbformat": 4,
 "nbformat_minor": 4
}
