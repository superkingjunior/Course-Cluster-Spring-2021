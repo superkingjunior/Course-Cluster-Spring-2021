{
 "cells": [
  {
   "cell_type": "code",
   "execution_count": 1,
   "metadata": {},
   "outputs": [
    {
     "name": "stdout",
     "output_type": "stream",
     "text": [
      "pygame 1.9.6\n",
      "Hello from the pygame community. https://www.pygame.org/contribute.html\n"
     ]
    }
   ],
   "source": [
    "from music21 import *\n",
    "from numpy import *\n",
    "from ipynb.fs.full.ScoreViewer import showScore\n",
    "from pattern import *\n",
    "from pygame import *"
   ]
  },
  {
   "cell_type": "markdown",
   "metadata": {},
   "source": [
    "My project will use pitch string lists a lot, so here's a conversion function for converting to a Note Stream:"
   ]
  },
  {
   "cell_type": "code",
   "execution_count": 2,
   "metadata": {},
   "outputs": [],
   "source": [
    "def listToStream(ls = []):\n",
    "    myStream = stream.Stream()\n",
    "    for p in ls:\n",
    "        myStream.append(note.Note(p))\n",
    "    return myStream"
   ]
  },
  {
   "cell_type": "markdown",
   "metadata": {},
   "source": [
    "I will start my assignment by creating a function which gets the list of generic intervals (int) from a melodic line (pitches in a list):"
   ]
  },
  {
   "cell_type": "code",
   "execution_count": 3,
   "metadata": {},
   "outputs": [],
   "source": [
    "def getContour(myPitches = []):\n",
    "    myIntervals = []\n",
    "    for i in range(0, len(myPitches)-1):\n",
    "        p1 = pitch.Pitch(myPitches[i])\n",
    "        p2 = pitch.Pitch(myPitches[i+1])\n",
    "        curr = interval.notesToGeneric(p1, p2)\n",
    "        myIntervals.append(curr.staffDistance)\n",
    "    return myIntervals"
   ]
  },
  {
   "cell_type": "markdown",
   "metadata": {},
   "source": [
    "Next, I will write a function to turn these interval values into notes on the whole tone scale:"
   ]
  },
  {
   "cell_type": "code",
   "execution_count": 4,
   "metadata": {},
   "outputs": [],
   "source": [
    "def convertToWholeTone(myIntervals = [], keyCenter = 'C4'):\n",
    "    myPitches = [keyCenter]\n",
    "    keyCenter = pitch.Pitch(keyCenter)\n",
    "    prev = 0\n",
    "    for i in myIntervals:\n",
    "        prev = prev + i\n",
    "        myPitches.append(keyCenter.transpose(prev*2).nameWithOctave)\n",
    "    return myPitches"
   ]
  },
  {
   "cell_type": "markdown",
   "metadata": {},
   "source": [
    "Now I will test these methods to see if they work properly:"
   ]
  },
  {
   "cell_type": "code",
   "execution_count": 5,
   "metadata": {},
   "outputs": [
    {
     "name": "stdout",
     "output_type": "stream",
     "text": [
      "[-1, -1, -1, -1, -1, -1, -1]\n"
     ]
    }
   ],
   "source": [
    "testPitches = ['A4', 'G4', 'F4', 'E4', 'D4', 'C4', 'B3', 'A3']\n",
    "testContour = getContour(testPitches)\n",
    "print(testContour)\n",
    "#should be [-1, 2, 7, -1]"
   ]
  },
  {
   "cell_type": "code",
   "execution_count": 6,
   "metadata": {},
   "outputs": [
    {
     "name": "stdout",
     "output_type": "stream",
     "text": [
      "['A4', 'G4', 'F4', 'E-4', 'C#4', 'B3', 'A3', 'G3']\n"
     ]
    }
   ],
   "source": [
    "testConversion = convertToWholeTone(testContour, testPitches[0])\n",
    "print(testConversion)\n",
    "#should be ['A4', 'G4', 'B4', 'C#6', 'B5']"
   ]
  },
  {
   "cell_type": "markdown",
   "metadata": {},
   "source": [
    "Because whole tone conversion didn't do that much, I'll make a new function which will convert it to a half-whole octatonic scale:"
   ]
  },
  {
   "cell_type": "code",
   "execution_count": 7,
   "metadata": {},
   "outputs": [],
   "source": [
    "def convertToHWOctatonic(myIntervals = [], keyCenter = 'C4'):\n",
    "    myPitches = [keyCenter]\n",
    "    keyCenter = pitch.Pitch(keyCenter)\n",
    "    prev = 0\n",
    "    for i in myIntervals:\n",
    "        prev = prev + i\n",
    "        #only change needed here (will alternate 1 and 2 half steps)\n",
    "        #print(\"prev: \" + str(prev))\n",
    "        if(prev < 0 and (prev % 4) == 3):\n",
    "            val = int(round(prev*3/2))\n",
    "            #print(val)\n",
    "            myPitches.append(keyCenter.transpose(val).nameWithOctave)\n",
    "        else:\n",
    "            val = int(prev*3/2)\n",
    "            #print(val)\n",
    "            myPitches.append(keyCenter.transpose(val).nameWithOctave)\n",
    "    return myPitches"
   ]
  },
  {
   "cell_type": "markdown",
   "metadata": {},
   "source": [
    "Now to test this function:"
   ]
  },
  {
   "cell_type": "code",
   "execution_count": 8,
   "metadata": {},
   "outputs": [
    {
     "name": "stdout",
     "output_type": "stream",
     "text": [
      "['A4', 'G4', 'F#4', 'F4', 'E-4', 'C#4', 'C4', 'B3']\n"
     ]
    }
   ],
   "source": [
    "#continuing to use testPitches/testContour\n",
    "testOct = convertToHWOctatonic(testContour, testPitches[0])\n",
    "print(testOct)\n",
    "#should be ['A4', 'G4', 'B-4', 'A5', 'G5']"
   ]
  },
  {
   "cell_type": "markdown",
   "metadata": {},
   "source": [
    "Now that I have some basic melodic conversion functions, I can pick a melodic source. For my first adaptation, I will use the \"Summertime\" jazz melody by Gershwin:"
   ]
  },
  {
   "cell_type": "code",
   "execution_count": 9,
   "metadata": {},
   "outputs": [
    {
     "name": "stdout",
     "output_type": "stream",
     "text": [
      "[-2, 2, -1, -1, 1, 1, -2, -2, -3, 7, -2, 1, -1, -2, 2, -2, 2, -1, 3, -2, 2, -1, -1, 1, 1, -2, -2, -3, 2, -2, 2, 1, 2, 2, -1, -1, -2]\n"
     ]
    }
   ],
   "source": [
    "summer = ['E5', 'C5', 'E5', 'D5', 'C5', 'D5', 'E5', 'C5', 'A4', 'E4', 'E5', 'C5', 'D5', 'C5', 'A4', 'C5', 'A4', 'C5', 'B4', 'E5', 'C5', 'E5', 'D5', 'C5', 'D5', 'E5', 'C5', 'A4', 'E4', 'G4', 'E4', 'G4', 'A4', 'C5', 'E5', 'D5', 'C5', 'A4']\n",
    "summerContour = getContour(summer)\n",
    "print(summerContour)"
   ]
  },
  {
   "cell_type": "markdown",
   "metadata": {},
   "source": [
    "Let's see how much the song changes with the conversions:"
   ]
  },
  {
   "cell_type": "code",
   "execution_count": 10,
   "metadata": {},
   "outputs": [
    {
     "name": "stdout",
     "output_type": "stream",
     "text": [
      "original: ['E5', 'C5', 'E5', 'D5', 'C5', 'D5', 'E5', 'C5', 'A4', 'E4', 'E5', 'C5', 'D5', 'C5', 'A4', 'C5', 'A4', 'C5', 'B4', 'E5', 'C5', 'E5', 'D5', 'C5', 'D5', 'E5', 'C5', 'A4', 'E4', 'G4', 'E4', 'G4', 'A4', 'C5', 'E5', 'D5', 'C5', 'A4']\n",
      "WT:   ['E5', 'C5', 'E5', 'D5', 'C5', 'D5', 'E5', 'C5', 'G#4', 'D4', 'E5', 'C5', 'D5', 'C5', 'G#4', 'C5', 'G#4', 'C5', 'B-4', 'E5', 'C5', 'E5', 'D5', 'C5', 'D5', 'E5', 'C5', 'G#4', 'D4', 'F#4', 'D4', 'F#4', 'G#4', 'C5', 'E5', 'D5', 'C5', 'G#4']\n",
      "Oct:   ['E5', 'C#5', 'E5', 'D5', 'C#5', 'D5', 'E5', 'C#5', 'B-4', 'F#4', 'E5', 'C#5', 'D5', 'C#5', 'B-4', 'C#5', 'B-4', 'C#5', 'C5', 'E5', 'C#5', 'E5', 'D5', 'C#5', 'D5', 'E5', 'C#5', 'B-4', 'F#4', 'G#4', 'F#4', 'G#4', 'B-4', 'C#5', 'E5', 'D5', 'C#5', 'B-4']\n",
      "DIV_ID OSMD-div-309413\n"
     ]
    },
    {
     "data": {
      "text/html": [
       "<div id=\"OSMD-div-309413\">loading OpenSheetMusicDisplay</div>"
      ],
      "text/plain": [
       "<IPython.core.display.HTML object>"
      ]
     },
     "metadata": {},
     "output_type": "display_data"
    },
    {
     "name": "stdout",
     "output_type": "stream",
     "text": [
      "xml length: 9090\n"
     ]
    },
    {
     "data": {
      "application/javascript": [
       "\n",
       "    console.log(\"loadOSMD()\");\n",
       "    function loadOSMD() { \n",
       "        return new Promise(function(resolve, reject){\n",
       "\n",
       "            if (window.opensheetmusicdisplay) {\n",
       "                console.log(\"already loaded\")\n",
       "                return resolve(window.opensheetmusicdisplay)\n",
       "            }\n",
       "            console.log(\"loading osmd for the first time\")\n",
       "            // OSMD script has a 'define' call which conflicts with requirejs\n",
       "            var _define = window.define // save the define object \n",
       "            window.define = undefined // now the loaded script will ignore requirejs\n",
       "            var s = document.createElement( 'script' );\n",
       "            s.setAttribute( 'src', \"https://cdn.jsdelivr.net/npm/opensheetmusicdisplay@0.3.1/build/opensheetmusicdisplay.min.js\" );\n",
       "            //s.setAttribute( 'src', \"/custom/opensheetmusicdisplay.js\" );\n",
       "            s.onload=function(){\n",
       "                window.define = _define\n",
       "                console.log(\"loaded OSMD for the first time\",opensheetmusicdisplay)\n",
       "                resolve(opensheetmusicdisplay);\n",
       "            };\n",
       "            document.body.appendChild( s ); // browser will try to load the new script tag\n",
       "        }) \n",
       "    }\n",
       "    loadOSMD().then((OSMD)=>{\n",
       "        console.log(\"loaded OSMD\",OSMD)\n",
       "        var div_id = \"OSMD-div-309413\";\n",
       "            console.log(div_id)\n",
       "        window.openSheetMusicDisplay = new OSMD.OpenSheetMusicDisplay(div_id);\n",
       "        openSheetMusicDisplay\n",
       "            .load(\"<?xml version=\\\"1.0\\\" encoding=\\\"utf-8\\\"?>\\n<!DOCTYPE score-partwise  PUBLIC \\\"-//Recordare//DTD MusicXML 3.0 Partwise//EN\\\" \\\"http://www.musicxml.org/dtds/partwise.dtd\\\">\\n<score-partwise version=\\\"3.0\\\">\\n  <movement-title>Music21 Fragment</movement-title>\\n  <identification>\\n    <creator type=\\\"composer\\\">Music21</creator>\\n    <encoding>\\n      <encoding-date>2020-02-27</encoding-date>\\n      <software>music21 v.5.7.2</software>\\n    </encoding>\\n  </identification>\\n  <defaults>\\n    <scaling>\\n      <millimeters>7</millimeters>\\n      <tenths>40</tenths>\\n    </scaling>\\n  </defaults>\\n  <part-list>\\n    <score-part id=\\\"P96d8102ab2e72aab6069fc25c1f3e061\\\">\\n      <part-name />\\n    </score-part>\\n  </part-list>\\n  <!--=========================== Part 1 ===========================-->\\n  <part id=\\\"P96d8102ab2e72aab6069fc25c1f3e061\\\">\\n    <!--========================= Measure 1 ==========================-->\\n    <measure number=\\\"1\\\">\\n      <attributes>\\n        <divisions>10080</divisions>\\n        <time>\\n          <beats>4</beats>\\n          <beat-type>4</beat-type>\\n        </time>\\n        <clef>\\n          <sign>G</sign>\\n          <line>2</line>\\n        </clef>\\n      </attributes>\\n      <note>\\n        <pitch>\\n          <step>E</step>\\n          <octave>5</octave>\\n        </pitch>\\n        <duration>10080</duration>\\n        <type>quarter</type>\\n      </note>\\n      <note>\\n        <pitch>\\n          <step>C</step>\\n          <octave>5</octave>\\n        </pitch>\\n        <duration>10080</duration>\\n        <type>quarter</type>\\n      </note>\\n      <note>\\n        <pitch>\\n          <step>E</step>\\n          <octave>5</octave>\\n        </pitch>\\n        <duration>10080</duration>\\n        <type>quarter</type>\\n      </note>\\n      <note>\\n        <pitch>\\n          <step>D</step>\\n          <octave>5</octave>\\n        </pitch>\\n        <duration>10080</duration>\\n        <type>quarter</type>\\n      </note>\\n    </measure>\\n    <!--========================= Measure 2 ==========================-->\\n    <measure number=\\\"2\\\">\\n      <note>\\n        <pitch>\\n          <step>C</step>\\n          <octave>5</octave>\\n        </pitch>\\n        <duration>10080</duration>\\n        <type>quarter</type>\\n      </note>\\n      <note>\\n        <pitch>\\n          <step>D</step>\\n          <octave>5</octave>\\n        </pitch>\\n        <duration>10080</duration>\\n        <type>quarter</type>\\n      </note>\\n      <note>\\n        <pitch>\\n          <step>E</step>\\n          <octave>5</octave>\\n        </pitch>\\n        <duration>10080</duration>\\n        <type>quarter</type>\\n      </note>\\n      <note>\\n        <pitch>\\n          <step>C</step>\\n          <octave>5</octave>\\n        </pitch>\\n        <duration>10080</duration>\\n        <type>quarter</type>\\n      </note>\\n    </measure>\\n    <!--========================= Measure 3 ==========================-->\\n    <measure number=\\\"3\\\">\\n      <note>\\n        <pitch>\\n          <step>A</step>\\n          <octave>4</octave>\\n        </pitch>\\n        <duration>10080</duration>\\n        <type>quarter</type>\\n      </note>\\n      <note>\\n        <pitch>\\n          <step>E</step>\\n          <octave>4</octave>\\n        </pitch>\\n        <duration>10080</duration>\\n        <type>quarter</type>\\n      </note>\\n      <note>\\n        <pitch>\\n          <step>E</step>\\n          <octave>5</octave>\\n        </pitch>\\n        <duration>10080</duration>\\n        <type>quarter</type>\\n      </note>\\n      <note>\\n        <pitch>\\n          <step>C</step>\\n          <octave>5</octave>\\n        </pitch>\\n        <duration>10080</duration>\\n        <type>quarter</type>\\n      </note>\\n    </measure>\\n    <!--========================= Measure 4 ==========================-->\\n    <measure number=\\\"4\\\">\\n      <note>\\n        <pitch>\\n          <step>D</step>\\n          <octave>5</octave>\\n        </pitch>\\n        <duration>10080</duration>\\n        <type>quarter</type>\\n      </note>\\n      <note>\\n        <pitch>\\n          <step>C</step>\\n          <octave>5</octave>\\n        </pitch>\\n        <duration>10080</duration>\\n        <type>quarter</type>\\n      </note>\\n      <note>\\n        <pitch>\\n          <step>A</step>\\n          <octave>4</octave>\\n        </pitch>\\n        <duration>10080</duration>\\n        <type>quarter</type>\\n      </note>\\n      <note>\\n        <pitch>\\n          <step>C</step>\\n          <octave>5</octave>\\n        </pitch>\\n        <duration>10080</duration>\\n        <type>quarter</type>\\n      </note>\\n    </measure>\\n    <!--========================= Measure 5 ==========================-->\\n    <measure number=\\\"5\\\">\\n      <note>\\n        <pitch>\\n          <step>A</step>\\n          <octave>4</octave>\\n        </pitch>\\n        <duration>10080</duration>\\n        <type>quarter</type>\\n      </note>\\n      <note>\\n        <pitch>\\n          <step>C</step>\\n          <octave>5</octave>\\n        </pitch>\\n        <duration>10080</duration>\\n        <type>quarter</type>\\n      </note>\\n      <note>\\n        <pitch>\\n          <step>B</step>\\n          <octave>4</octave>\\n        </pitch>\\n        <duration>10080</duration>\\n        <type>quarter</type>\\n      </note>\\n      <note>\\n        <pitch>\\n          <step>E</step>\\n          <octave>5</octave>\\n        </pitch>\\n        <duration>10080</duration>\\n        <type>quarter</type>\\n      </note>\\n    </measure>\\n    <!--========================= Measure 6 ==========================-->\\n    <measure number=\\\"6\\\">\\n      <note>\\n        <pitch>\\n          <step>C</step>\\n          <octave>5</octave>\\n        </pitch>\\n        <duration>10080</duration>\\n        <type>quarter</type>\\n      </note>\\n      <note>\\n        <pitch>\\n          <step>E</step>\\n          <octave>5</octave>\\n        </pitch>\\n        <duration>10080</duration>\\n        <type>quarter</type>\\n      </note>\\n      <note>\\n        <pitch>\\n          <step>D</step>\\n          <octave>5</octave>\\n        </pitch>\\n        <duration>10080</duration>\\n        <type>quarter</type>\\n      </note>\\n      <note>\\n        <pitch>\\n          <step>C</step>\\n          <octave>5</octave>\\n        </pitch>\\n        <duration>10080</duration>\\n        <type>quarter</type>\\n      </note>\\n    </measure>\\n    <!--========================= Measure 7 ==========================-->\\n    <measure number=\\\"7\\\">\\n      <note>\\n        <pitch>\\n          <step>D</step>\\n          <octave>5</octave>\\n        </pitch>\\n        <duration>10080</duration>\\n        <type>quarter</type>\\n      </note>\\n      <note>\\n        <pitch>\\n          <step>E</step>\\n          <octave>5</octave>\\n        </pitch>\\n        <duration>10080</duration>\\n        <type>quarter</type>\\n      </note>\\n      <note>\\n        <pitch>\\n          <step>C</step>\\n          <octave>5</octave>\\n        </pitch>\\n        <duration>10080</duration>\\n        <type>quarter</type>\\n      </note>\\n      <note>\\n        <pitch>\\n          <step>A</step>\\n          <octave>4</octave>\\n        </pitch>\\n        <duration>10080</duration>\\n        <type>quarter</type>\\n      </note>\\n    </measure>\\n    <!--========================= Measure 8 ==========================-->\\n    <measure number=\\\"8\\\">\\n      <note>\\n        <pitch>\\n          <step>E</step>\\n          <octave>4</octave>\\n        </pitch>\\n        <duration>10080</duration>\\n        <type>quarter</type>\\n      </note>\\n      <note>\\n        <pitch>\\n          <step>G</step>\\n          <octave>4</octave>\\n        </pitch>\\n        <duration>10080</duration>\\n        <type>quarter</type>\\n      </note>\\n      <note>\\n        <pitch>\\n          <step>E</step>\\n          <octave>4</octave>\\n        </pitch>\\n        <duration>10080</duration>\\n        <type>quarter</type>\\n      </note>\\n      <note>\\n        <pitch>\\n          <step>G</step>\\n          <octave>4</octave>\\n        </pitch>\\n        <duration>10080</duration>\\n        <type>quarter</type>\\n      </note>\\n    </measure>\\n    <!--========================= Measure 9 ==========================-->\\n    <measure number=\\\"9\\\">\\n      <note>\\n        <pitch>\\n          <step>A</step>\\n          <octave>4</octave>\\n        </pitch>\\n        <duration>10080</duration>\\n        <type>quarter</type>\\n      </note>\\n      <note>\\n        <pitch>\\n          <step>C</step>\\n          <octave>5</octave>\\n        </pitch>\\n        <duration>10080</duration>\\n        <type>quarter</type>\\n      </note>\\n      <note>\\n        <pitch>\\n          <step>E</step>\\n          <octave>5</octave>\\n        </pitch>\\n        <duration>10080</duration>\\n        <type>quarter</type>\\n      </note>\\n      <note>\\n        <pitch>\\n          <step>D</step>\\n          <octave>5</octave>\\n        </pitch>\\n        <duration>10080</duration>\\n        <type>quarter</type>\\n      </note>\\n    </measure>\\n    <!--========================= Measure 10 =========================-->\\n    <measure number=\\\"10\\\">\\n      <note>\\n        <pitch>\\n          <step>C</step>\\n          <octave>5</octave>\\n        </pitch>\\n        <duration>10080</duration>\\n        <type>quarter</type>\\n      </note>\\n      <note>\\n        <pitch>\\n          <step>A</step>\\n          <octave>4</octave>\\n        </pitch>\\n        <duration>10080</duration>\\n        <type>quarter</type>\\n      </note>\\n      <barline location=\\\"right\\\">\\n        <bar-style>light-heavy</bar-style>\\n      </barline>\\n    </measure>\\n  </part>\\n</score-partwise>\\n\")\n",
       "            .then(\n",
       "              function() {\n",
       "                console.log(\"rendering data\")\n",
       "                openSheetMusicDisplay.render();\n",
       "              }\n",
       "            );\n",
       "    })\n",
       "    "
      ],
      "text/plain": [
       "<IPython.core.display.Javascript object>"
      ]
     },
     "metadata": {},
     "output_type": "display_data"
    },
    {
     "name": "stdout",
     "output_type": "stream",
     "text": [
      "DIV_ID OSMD-div-298831\n"
     ]
    },
    {
     "data": {
      "text/html": [
       "<div id=\"OSMD-div-298831\">loading OpenSheetMusicDisplay</div>"
      ],
      "text/plain": [
       "<IPython.core.display.HTML object>"
      ]
     },
     "metadata": {},
     "output_type": "display_data"
    },
    {
     "name": "stdout",
     "output_type": "stream",
     "text": [
      "xml length: 9684\n"
     ]
    },
    {
     "data": {
      "application/javascript": [
       "\n",
       "    console.log(\"loadOSMD()\");\n",
       "    function loadOSMD() { \n",
       "        return new Promise(function(resolve, reject){\n",
       "\n",
       "            if (window.opensheetmusicdisplay) {\n",
       "                console.log(\"already loaded\")\n",
       "                return resolve(window.opensheetmusicdisplay)\n",
       "            }\n",
       "            console.log(\"loading osmd for the first time\")\n",
       "            // OSMD script has a 'define' call which conflicts with requirejs\n",
       "            var _define = window.define // save the define object \n",
       "            window.define = undefined // now the loaded script will ignore requirejs\n",
       "            var s = document.createElement( 'script' );\n",
       "            s.setAttribute( 'src', \"https://cdn.jsdelivr.net/npm/opensheetmusicdisplay@0.3.1/build/opensheetmusicdisplay.min.js\" );\n",
       "            //s.setAttribute( 'src', \"/custom/opensheetmusicdisplay.js\" );\n",
       "            s.onload=function(){\n",
       "                window.define = _define\n",
       "                console.log(\"loaded OSMD for the first time\",opensheetmusicdisplay)\n",
       "                resolve(opensheetmusicdisplay);\n",
       "            };\n",
       "            document.body.appendChild( s ); // browser will try to load the new script tag\n",
       "        }) \n",
       "    }\n",
       "    loadOSMD().then((OSMD)=>{\n",
       "        console.log(\"loaded OSMD\",OSMD)\n",
       "        var div_id = \"OSMD-div-298831\";\n",
       "            console.log(div_id)\n",
       "        window.openSheetMusicDisplay = new OSMD.OpenSheetMusicDisplay(div_id);\n",
       "        openSheetMusicDisplay\n",
       "            .load(\"<?xml version=\\\"1.0\\\" encoding=\\\"utf-8\\\"?>\\n<!DOCTYPE score-partwise  PUBLIC \\\"-//Recordare//DTD MusicXML 3.0 Partwise//EN\\\" \\\"http://www.musicxml.org/dtds/partwise.dtd\\\">\\n<score-partwise version=\\\"3.0\\\">\\n  <movement-title>Music21 Fragment</movement-title>\\n  <identification>\\n    <creator type=\\\"composer\\\">Music21</creator>\\n    <encoding>\\n      <encoding-date>2020-02-27</encoding-date>\\n      <software>music21 v.5.7.2</software>\\n    </encoding>\\n  </identification>\\n  <defaults>\\n    <scaling>\\n      <millimeters>7</millimeters>\\n      <tenths>40</tenths>\\n    </scaling>\\n  </defaults>\\n  <part-list>\\n    <score-part id=\\\"P9ea42e67454899a893e2c406b90411d6\\\">\\n      <part-name />\\n    </score-part>\\n  </part-list>\\n  <!--=========================== Part 1 ===========================-->\\n  <part id=\\\"P9ea42e67454899a893e2c406b90411d6\\\">\\n    <!--========================= Measure 1 ==========================-->\\n    <measure number=\\\"1\\\">\\n      <attributes>\\n        <divisions>10080</divisions>\\n        <time>\\n          <beats>4</beats>\\n          <beat-type>4</beat-type>\\n        </time>\\n        <clef>\\n          <sign>G</sign>\\n          <line>2</line>\\n        </clef>\\n      </attributes>\\n      <note>\\n        <pitch>\\n          <step>E</step>\\n          <octave>5</octave>\\n        </pitch>\\n        <duration>10080</duration>\\n        <type>quarter</type>\\n      </note>\\n      <note>\\n        <pitch>\\n          <step>C</step>\\n          <octave>5</octave>\\n        </pitch>\\n        <duration>10080</duration>\\n        <type>quarter</type>\\n      </note>\\n      <note>\\n        <pitch>\\n          <step>E</step>\\n          <octave>5</octave>\\n        </pitch>\\n        <duration>10080</duration>\\n        <type>quarter</type>\\n      </note>\\n      <note>\\n        <pitch>\\n          <step>D</step>\\n          <octave>5</octave>\\n        </pitch>\\n        <duration>10080</duration>\\n        <type>quarter</type>\\n      </note>\\n    </measure>\\n    <!--========================= Measure 2 ==========================-->\\n    <measure number=\\\"2\\\">\\n      <note>\\n        <pitch>\\n          <step>C</step>\\n          <octave>5</octave>\\n        </pitch>\\n        <duration>10080</duration>\\n        <type>quarter</type>\\n      </note>\\n      <note>\\n        <pitch>\\n          <step>D</step>\\n          <octave>5</octave>\\n        </pitch>\\n        <duration>10080</duration>\\n        <type>quarter</type>\\n      </note>\\n      <note>\\n        <pitch>\\n          <step>E</step>\\n          <octave>5</octave>\\n        </pitch>\\n        <duration>10080</duration>\\n        <type>quarter</type>\\n      </note>\\n      <note>\\n        <pitch>\\n          <step>C</step>\\n          <octave>5</octave>\\n        </pitch>\\n        <duration>10080</duration>\\n        <type>quarter</type>\\n      </note>\\n    </measure>\\n    <!--========================= Measure 3 ==========================-->\\n    <measure number=\\\"3\\\">\\n      <note>\\n        <pitch>\\n          <step>G</step>\\n          <alter>1</alter>\\n          <octave>4</octave>\\n        </pitch>\\n        <duration>10080</duration>\\n        <type>quarter</type>\\n        <accidental>sharp</accidental>\\n      </note>\\n      <note>\\n        <pitch>\\n          <step>D</step>\\n          <octave>4</octave>\\n        </pitch>\\n        <duration>10080</duration>\\n        <type>quarter</type>\\n      </note>\\n      <note>\\n        <pitch>\\n          <step>E</step>\\n          <octave>5</octave>\\n        </pitch>\\n        <duration>10080</duration>\\n        <type>quarter</type>\\n      </note>\\n      <note>\\n        <pitch>\\n          <step>C</step>\\n          <octave>5</octave>\\n        </pitch>\\n        <duration>10080</duration>\\n        <type>quarter</type>\\n      </note>\\n    </measure>\\n    <!--========================= Measure 4 ==========================-->\\n    <measure number=\\\"4\\\">\\n      <note>\\n        <pitch>\\n          <step>D</step>\\n          <octave>5</octave>\\n        </pitch>\\n        <duration>10080</duration>\\n        <type>quarter</type>\\n      </note>\\n      <note>\\n        <pitch>\\n          <step>C</step>\\n          <octave>5</octave>\\n        </pitch>\\n        <duration>10080</duration>\\n        <type>quarter</type>\\n      </note>\\n      <note>\\n        <pitch>\\n          <step>G</step>\\n          <alter>1</alter>\\n          <octave>4</octave>\\n        </pitch>\\n        <duration>10080</duration>\\n        <type>quarter</type>\\n        <accidental>sharp</accidental>\\n      </note>\\n      <note>\\n        <pitch>\\n          <step>C</step>\\n          <octave>5</octave>\\n        </pitch>\\n        <duration>10080</duration>\\n        <type>quarter</type>\\n      </note>\\n    </measure>\\n    <!--========================= Measure 5 ==========================-->\\n    <measure number=\\\"5\\\">\\n      <note>\\n        <pitch>\\n          <step>G</step>\\n          <alter>1</alter>\\n          <octave>4</octave>\\n        </pitch>\\n        <duration>10080</duration>\\n        <type>quarter</type>\\n        <accidental>sharp</accidental>\\n      </note>\\n      <note>\\n        <pitch>\\n          <step>C</step>\\n          <octave>5</octave>\\n        </pitch>\\n        <duration>10080</duration>\\n        <type>quarter</type>\\n      </note>\\n      <note>\\n        <pitch>\\n          <step>B</step>\\n          <alter>-1</alter>\\n          <octave>4</octave>\\n        </pitch>\\n        <duration>10080</duration>\\n        <type>quarter</type>\\n        <accidental>flat</accidental>\\n      </note>\\n      <note>\\n        <pitch>\\n          <step>E</step>\\n          <octave>5</octave>\\n        </pitch>\\n        <duration>10080</duration>\\n        <type>quarter</type>\\n      </note>\\n    </measure>\\n    <!--========================= Measure 6 ==========================-->\\n    <measure number=\\\"6\\\">\\n      <note>\\n        <pitch>\\n          <step>C</step>\\n          <octave>5</octave>\\n        </pitch>\\n        <duration>10080</duration>\\n        <type>quarter</type>\\n      </note>\\n      <note>\\n        <pitch>\\n          <step>E</step>\\n          <octave>5</octave>\\n        </pitch>\\n        <duration>10080</duration>\\n        <type>quarter</type>\\n      </note>\\n      <note>\\n        <pitch>\\n          <step>D</step>\\n          <octave>5</octave>\\n        </pitch>\\n        <duration>10080</duration>\\n        <type>quarter</type>\\n      </note>\\n      <note>\\n        <pitch>\\n          <step>C</step>\\n          <octave>5</octave>\\n        </pitch>\\n        <duration>10080</duration>\\n        <type>quarter</type>\\n      </note>\\n    </measure>\\n    <!--========================= Measure 7 ==========================-->\\n    <measure number=\\\"7\\\">\\n      <note>\\n        <pitch>\\n          <step>D</step>\\n          <octave>5</octave>\\n        </pitch>\\n        <duration>10080</duration>\\n        <type>quarter</type>\\n      </note>\\n      <note>\\n        <pitch>\\n          <step>E</step>\\n          <octave>5</octave>\\n        </pitch>\\n        <duration>10080</duration>\\n        <type>quarter</type>\\n      </note>\\n      <note>\\n        <pitch>\\n          <step>C</step>\\n          <octave>5</octave>\\n        </pitch>\\n        <duration>10080</duration>\\n        <type>quarter</type>\\n      </note>\\n      <note>\\n        <pitch>\\n          <step>G</step>\\n          <alter>1</alter>\\n          <octave>4</octave>\\n        </pitch>\\n        <duration>10080</duration>\\n        <type>quarter</type>\\n        <accidental>sharp</accidental>\\n      </note>\\n    </measure>\\n    <!--========================= Measure 8 ==========================-->\\n    <measure number=\\\"8\\\">\\n      <note>\\n        <pitch>\\n          <step>D</step>\\n          <octave>4</octave>\\n        </pitch>\\n        <duration>10080</duration>\\n        <type>quarter</type>\\n      </note>\\n      <note>\\n        <pitch>\\n          <step>F</step>\\n          <alter>1</alter>\\n          <octave>4</octave>\\n        </pitch>\\n        <duration>10080</duration>\\n        <type>quarter</type>\\n        <accidental>sharp</accidental>\\n      </note>\\n      <note>\\n        <pitch>\\n          <step>D</step>\\n          <octave>4</octave>\\n        </pitch>\\n        <duration>10080</duration>\\n        <type>quarter</type>\\n      </note>\\n      <note>\\n        <pitch>\\n          <step>F</step>\\n          <alter>1</alter>\\n          <octave>4</octave>\\n        </pitch>\\n        <duration>10080</duration>\\n        <type>quarter</type>\\n        <accidental>sharp</accidental>\\n      </note>\\n    </measure>\\n    <!--========================= Measure 9 ==========================-->\\n    <measure number=\\\"9\\\">\\n      <note>\\n        <pitch>\\n          <step>G</step>\\n          <alter>1</alter>\\n          <octave>4</octave>\\n        </pitch>\\n        <duration>10080</duration>\\n        <type>quarter</type>\\n        <accidental>sharp</accidental>\\n      </note>\\n      <note>\\n        <pitch>\\n          <step>C</step>\\n          <octave>5</octave>\\n        </pitch>\\n        <duration>10080</duration>\\n        <type>quarter</type>\\n      </note>\\n      <note>\\n        <pitch>\\n          <step>E</step>\\n          <octave>5</octave>\\n        </pitch>\\n        <duration>10080</duration>\\n        <type>quarter</type>\\n      </note>\\n      <note>\\n        <pitch>\\n          <step>D</step>\\n          <octave>5</octave>\\n        </pitch>\\n        <duration>10080</duration>\\n        <type>quarter</type>\\n      </note>\\n    </measure>\\n    <!--========================= Measure 10 =========================-->\\n    <measure number=\\\"10\\\">\\n      <note>\\n        <pitch>\\n          <step>C</step>\\n          <octave>5</octave>\\n        </pitch>\\n        <duration>10080</duration>\\n        <type>quarter</type>\\n      </note>\\n      <note>\\n        <pitch>\\n          <step>G</step>\\n          <alter>1</alter>\\n          <octave>4</octave>\\n        </pitch>\\n        <duration>10080</duration>\\n        <type>quarter</type>\\n        <accidental>sharp</accidental>\\n      </note>\\n      <barline location=\\\"right\\\">\\n        <bar-style>light-heavy</bar-style>\\n      </barline>\\n    </measure>\\n  </part>\\n</score-partwise>\\n\")\n",
       "            .then(\n",
       "              function() {\n",
       "                console.log(\"rendering data\")\n",
       "                openSheetMusicDisplay.render();\n",
       "              }\n",
       "            );\n",
       "    })\n",
       "    "
      ],
      "text/plain": [
       "<IPython.core.display.Javascript object>"
      ]
     },
     "metadata": {},
     "output_type": "display_data"
    },
    {
     "name": "stdout",
     "output_type": "stream",
     "text": [
      "DIV_ID OSMD-div-309212\n"
     ]
    },
    {
     "data": {
      "text/html": [
       "<div id=\"OSMD-div-309212\">loading OpenSheetMusicDisplay</div>"
      ],
      "text/plain": [
       "<IPython.core.display.HTML object>"
      ]
     },
     "metadata": {},
     "output_type": "display_data"
    },
    {
     "name": "stdout",
     "output_type": "stream",
     "text": [
      "xml length: 10676\n"
     ]
    },
    {
     "data": {
      "application/javascript": [
       "\n",
       "    console.log(\"loadOSMD()\");\n",
       "    function loadOSMD() { \n",
       "        return new Promise(function(resolve, reject){\n",
       "\n",
       "            if (window.opensheetmusicdisplay) {\n",
       "                console.log(\"already loaded\")\n",
       "                return resolve(window.opensheetmusicdisplay)\n",
       "            }\n",
       "            console.log(\"loading osmd for the first time\")\n",
       "            // OSMD script has a 'define' call which conflicts with requirejs\n",
       "            var _define = window.define // save the define object \n",
       "            window.define = undefined // now the loaded script will ignore requirejs\n",
       "            var s = document.createElement( 'script' );\n",
       "            s.setAttribute( 'src', \"https://cdn.jsdelivr.net/npm/opensheetmusicdisplay@0.3.1/build/opensheetmusicdisplay.min.js\" );\n",
       "            //s.setAttribute( 'src', \"/custom/opensheetmusicdisplay.js\" );\n",
       "            s.onload=function(){\n",
       "                window.define = _define\n",
       "                console.log(\"loaded OSMD for the first time\",opensheetmusicdisplay)\n",
       "                resolve(opensheetmusicdisplay);\n",
       "            };\n",
       "            document.body.appendChild( s ); // browser will try to load the new script tag\n",
       "        }) \n",
       "    }\n",
       "    loadOSMD().then((OSMD)=>{\n",
       "        console.log(\"loaded OSMD\",OSMD)\n",
       "        var div_id = \"OSMD-div-309212\";\n",
       "            console.log(div_id)\n",
       "        window.openSheetMusicDisplay = new OSMD.OpenSheetMusicDisplay(div_id);\n",
       "        openSheetMusicDisplay\n",
       "            .load(\"<?xml version=\\\"1.0\\\" encoding=\\\"utf-8\\\"?>\\n<!DOCTYPE score-partwise  PUBLIC \\\"-//Recordare//DTD MusicXML 3.0 Partwise//EN\\\" \\\"http://www.musicxml.org/dtds/partwise.dtd\\\">\\n<score-partwise version=\\\"3.0\\\">\\n  <movement-title>Music21 Fragment</movement-title>\\n  <identification>\\n    <creator type=\\\"composer\\\">Music21</creator>\\n    <encoding>\\n      <encoding-date>2020-02-27</encoding-date>\\n      <software>music21 v.5.7.2</software>\\n    </encoding>\\n  </identification>\\n  <defaults>\\n    <scaling>\\n      <millimeters>7</millimeters>\\n      <tenths>40</tenths>\\n    </scaling>\\n  </defaults>\\n  <part-list>\\n    <score-part id=\\\"Pf12f4fcae31b8a8fa9b87beb9458fe35\\\">\\n      <part-name />\\n    </score-part>\\n  </part-list>\\n  <!--=========================== Part 1 ===========================-->\\n  <part id=\\\"Pf12f4fcae31b8a8fa9b87beb9458fe35\\\">\\n    <!--========================= Measure 1 ==========================-->\\n    <measure number=\\\"1\\\">\\n      <attributes>\\n        <divisions>10080</divisions>\\n        <time>\\n          <beats>4</beats>\\n          <beat-type>4</beat-type>\\n        </time>\\n        <clef>\\n          <sign>G</sign>\\n          <line>2</line>\\n        </clef>\\n      </attributes>\\n      <note>\\n        <pitch>\\n          <step>E</step>\\n          <octave>5</octave>\\n        </pitch>\\n        <duration>10080</duration>\\n        <type>quarter</type>\\n      </note>\\n      <note>\\n        <pitch>\\n          <step>C</step>\\n          <alter>1</alter>\\n          <octave>5</octave>\\n        </pitch>\\n        <duration>10080</duration>\\n        <type>quarter</type>\\n        <accidental>sharp</accidental>\\n      </note>\\n      <note>\\n        <pitch>\\n          <step>E</step>\\n          <octave>5</octave>\\n        </pitch>\\n        <duration>10080</duration>\\n        <type>quarter</type>\\n      </note>\\n      <note>\\n        <pitch>\\n          <step>D</step>\\n          <octave>5</octave>\\n        </pitch>\\n        <duration>10080</duration>\\n        <type>quarter</type>\\n      </note>\\n    </measure>\\n    <!--========================= Measure 2 ==========================-->\\n    <measure number=\\\"2\\\">\\n      <note>\\n        <pitch>\\n          <step>C</step>\\n          <alter>1</alter>\\n          <octave>5</octave>\\n        </pitch>\\n        <duration>10080</duration>\\n        <type>quarter</type>\\n        <accidental>sharp</accidental>\\n      </note>\\n      <note>\\n        <pitch>\\n          <step>D</step>\\n          <octave>5</octave>\\n        </pitch>\\n        <duration>10080</duration>\\n        <type>quarter</type>\\n      </note>\\n      <note>\\n        <pitch>\\n          <step>E</step>\\n          <octave>5</octave>\\n        </pitch>\\n        <duration>10080</duration>\\n        <type>quarter</type>\\n      </note>\\n      <note>\\n        <pitch>\\n          <step>C</step>\\n          <alter>1</alter>\\n          <octave>5</octave>\\n        </pitch>\\n        <duration>10080</duration>\\n        <type>quarter</type>\\n        <accidental>sharp</accidental>\\n      </note>\\n    </measure>\\n    <!--========================= Measure 3 ==========================-->\\n    <measure number=\\\"3\\\">\\n      <note>\\n        <pitch>\\n          <step>B</step>\\n          <alter>-1</alter>\\n          <octave>4</octave>\\n        </pitch>\\n        <duration>10080</duration>\\n        <type>quarter</type>\\n        <accidental>flat</accidental>\\n      </note>\\n      <note>\\n        <pitch>\\n          <step>F</step>\\n          <alter>1</alter>\\n          <octave>4</octave>\\n        </pitch>\\n        <duration>10080</duration>\\n        <type>quarter</type>\\n        <accidental>sharp</accidental>\\n      </note>\\n      <note>\\n        <pitch>\\n          <step>E</step>\\n          <octave>5</octave>\\n        </pitch>\\n        <duration>10080</duration>\\n        <type>quarter</type>\\n      </note>\\n      <note>\\n        <pitch>\\n          <step>C</step>\\n          <alter>1</alter>\\n          <octave>5</octave>\\n        </pitch>\\n        <duration>10080</duration>\\n        <type>quarter</type>\\n        <accidental>sharp</accidental>\\n      </note>\\n    </measure>\\n    <!--========================= Measure 4 ==========================-->\\n    <measure number=\\\"4\\\">\\n      <note>\\n        <pitch>\\n          <step>D</step>\\n          <octave>5</octave>\\n        </pitch>\\n        <duration>10080</duration>\\n        <type>quarter</type>\\n      </note>\\n      <note>\\n        <pitch>\\n          <step>C</step>\\n          <alter>1</alter>\\n          <octave>5</octave>\\n        </pitch>\\n        <duration>10080</duration>\\n        <type>quarter</type>\\n        <accidental>sharp</accidental>\\n      </note>\\n      <note>\\n        <pitch>\\n          <step>B</step>\\n          <alter>-1</alter>\\n          <octave>4</octave>\\n        </pitch>\\n        <duration>10080</duration>\\n        <type>quarter</type>\\n        <accidental>flat</accidental>\\n      </note>\\n      <note>\\n        <pitch>\\n          <step>C</step>\\n          <alter>1</alter>\\n          <octave>5</octave>\\n        </pitch>\\n        <duration>10080</duration>\\n        <type>quarter</type>\\n        <accidental>sharp</accidental>\\n      </note>\\n    </measure>\\n    <!--========================= Measure 5 ==========================-->\\n    <measure number=\\\"5\\\">\\n      <note>\\n        <pitch>\\n          <step>B</step>\\n          <alter>-1</alter>\\n          <octave>4</octave>\\n        </pitch>\\n        <duration>10080</duration>\\n        <type>quarter</type>\\n        <accidental>flat</accidental>\\n      </note>\\n      <note>\\n        <pitch>\\n          <step>C</step>\\n          <alter>1</alter>\\n          <octave>5</octave>\\n        </pitch>\\n        <duration>10080</duration>\\n        <type>quarter</type>\\n        <accidental>sharp</accidental>\\n      </note>\\n      <note>\\n        <pitch>\\n          <step>C</step>\\n          <alter>0</alter>\\n          <octave>5</octave>\\n        </pitch>\\n        <duration>10080</duration>\\n        <type>quarter</type>\\n        <accidental>natural</accidental>\\n      </note>\\n      <note>\\n        <pitch>\\n          <step>E</step>\\n          <octave>5</octave>\\n        </pitch>\\n        <duration>10080</duration>\\n        <type>quarter</type>\\n      </note>\\n    </measure>\\n    <!--========================= Measure 6 ==========================-->\\n    <measure number=\\\"6\\\">\\n      <note>\\n        <pitch>\\n          <step>C</step>\\n          <alter>1</alter>\\n          <octave>5</octave>\\n        </pitch>\\n        <duration>10080</duration>\\n        <type>quarter</type>\\n        <accidental>sharp</accidental>\\n      </note>\\n      <note>\\n        <pitch>\\n          <step>E</step>\\n          <octave>5</octave>\\n        </pitch>\\n        <duration>10080</duration>\\n        <type>quarter</type>\\n      </note>\\n      <note>\\n        <pitch>\\n          <step>D</step>\\n          <octave>5</octave>\\n        </pitch>\\n        <duration>10080</duration>\\n        <type>quarter</type>\\n      </note>\\n      <note>\\n        <pitch>\\n          <step>C</step>\\n          <alter>1</alter>\\n          <octave>5</octave>\\n        </pitch>\\n        <duration>10080</duration>\\n        <type>quarter</type>\\n        <accidental>sharp</accidental>\\n      </note>\\n    </measure>\\n    <!--========================= Measure 7 ==========================-->\\n    <measure number=\\\"7\\\">\\n      <note>\\n        <pitch>\\n          <step>D</step>\\n          <octave>5</octave>\\n        </pitch>\\n        <duration>10080</duration>\\n        <type>quarter</type>\\n      </note>\\n      <note>\\n        <pitch>\\n          <step>E</step>\\n          <octave>5</octave>\\n        </pitch>\\n        <duration>10080</duration>\\n        <type>quarter</type>\\n      </note>\\n      <note>\\n        <pitch>\\n          <step>C</step>\\n          <alter>1</alter>\\n          <octave>5</octave>\\n        </pitch>\\n        <duration>10080</duration>\\n        <type>quarter</type>\\n        <accidental>sharp</accidental>\\n      </note>\\n      <note>\\n        <pitch>\\n          <step>B</step>\\n          <alter>-1</alter>\\n          <octave>4</octave>\\n        </pitch>\\n        <duration>10080</duration>\\n        <type>quarter</type>\\n        <accidental>flat</accidental>\\n      </note>\\n    </measure>\\n    <!--========================= Measure 8 ==========================-->\\n    <measure number=\\\"8\\\">\\n      <note>\\n        <pitch>\\n          <step>F</step>\\n          <alter>1</alter>\\n          <octave>4</octave>\\n        </pitch>\\n        <duration>10080</duration>\\n        <type>quarter</type>\\n        <accidental>sharp</accidental>\\n      </note>\\n      <note>\\n        <pitch>\\n          <step>G</step>\\n          <alter>1</alter>\\n          <octave>4</octave>\\n        </pitch>\\n        <duration>10080</duration>\\n        <type>quarter</type>\\n        <accidental>sharp</accidental>\\n      </note>\\n      <note>\\n        <pitch>\\n          <step>F</step>\\n          <alter>1</alter>\\n          <octave>4</octave>\\n        </pitch>\\n        <duration>10080</duration>\\n        <type>quarter</type>\\n        <accidental>sharp</accidental>\\n      </note>\\n      <note>\\n        <pitch>\\n          <step>G</step>\\n          <alter>1</alter>\\n          <octave>4</octave>\\n        </pitch>\\n        <duration>10080</duration>\\n        <type>quarter</type>\\n        <accidental>sharp</accidental>\\n      </note>\\n    </measure>\\n    <!--========================= Measure 9 ==========================-->\\n    <measure number=\\\"9\\\">\\n      <note>\\n        <pitch>\\n          <step>B</step>\\n          <alter>-1</alter>\\n          <octave>4</octave>\\n        </pitch>\\n        <duration>10080</duration>\\n        <type>quarter</type>\\n        <accidental>flat</accidental>\\n      </note>\\n      <note>\\n        <pitch>\\n          <step>C</step>\\n          <alter>1</alter>\\n          <octave>5</octave>\\n        </pitch>\\n        <duration>10080</duration>\\n        <type>quarter</type>\\n        <accidental>sharp</accidental>\\n      </note>\\n      <note>\\n        <pitch>\\n          <step>E</step>\\n          <octave>5</octave>\\n        </pitch>\\n        <duration>10080</duration>\\n        <type>quarter</type>\\n      </note>\\n      <note>\\n        <pitch>\\n          <step>D</step>\\n          <octave>5</octave>\\n        </pitch>\\n        <duration>10080</duration>\\n        <type>quarter</type>\\n      </note>\\n    </measure>\\n    <!--========================= Measure 10 =========================-->\\n    <measure number=\\\"10\\\">\\n      <note>\\n        <pitch>\\n          <step>C</step>\\n          <alter>1</alter>\\n          <octave>5</octave>\\n        </pitch>\\n        <duration>10080</duration>\\n        <type>quarter</type>\\n        <accidental>sharp</accidental>\\n      </note>\\n      <note>\\n        <pitch>\\n          <step>B</step>\\n          <alter>-1</alter>\\n          <octave>4</octave>\\n        </pitch>\\n        <duration>10080</duration>\\n        <type>quarter</type>\\n        <accidental>flat</accidental>\\n      </note>\\n      <barline location=\\\"right\\\">\\n        <bar-style>light-heavy</bar-style>\\n      </barline>\\n    </measure>\\n  </part>\\n</score-partwise>\\n\")\n",
       "            .then(\n",
       "              function() {\n",
       "                console.log(\"rendering data\")\n",
       "                openSheetMusicDisplay.render();\n",
       "              }\n",
       "            );\n",
       "    })\n",
       "    "
      ],
      "text/plain": [
       "<IPython.core.display.Javascript object>"
      ]
     },
     "metadata": {},
     "output_type": "display_data"
    }
   ],
   "source": [
    "summerWT = convertToWholeTone(summerContour, summer[0])\n",
    "summerOct = convertToHWOctatonic(summerContour, summer[0])\n",
    "print(\"original: \" + str(summer))\n",
    "print(\"WT:   \" + str(summerWT))\n",
    "print(\"Oct:   \" + str(summerOct))\n",
    "summerStream = listToStream(summer)\n",
    "summerWTStream = listToStream(summerWT)\n",
    "summerOctStream = listToStream(summerOct)\n",
    "showScore(summerStream)\n",
    "showScore(summerWTStream)\n",
    "showScore(summerOctStream)\n",
    "#sp = midi.realtime.StreamPlayer(summerStream)\n",
    "#sp.play()\n",
    "#sp = midi.realtime.StreamPlayer(summerWTStream)\n",
    "#sp.play()\n",
    "#sp = midi.realtime.StreamPlayer(summerOctStream)\n",
    "#sp.play()"
   ]
  },
  {
   "cell_type": "markdown",
   "metadata": {},
   "source": [
    "I prefer the octatonic conversion, mostly because it is more varied than the whole tone one. Now to work on durations:"
   ]
  },
  {
   "cell_type": "code",
   "execution_count": 11,
   "metadata": {},
   "outputs": [
    {
     "name": "stdout",
     "output_type": "stream",
     "text": [
      "# of pitches: 38\n"
     ]
    }
   ],
   "source": [
    "print(\"# of pitches: \" + str(len(summerOct)))"
   ]
  },
  {
   "cell_type": "code",
   "execution_count": 12,
   "metadata": {},
   "outputs": [
    {
     "name": "stdout",
     "output_type": "stream",
     "text": [
      "sum of 8ths: 88\n"
     ]
    }
   ],
   "source": [
    "durations = [3, 2, 1, 4, 2, 2, 2, 3, 2, 2, 2, 3, 2, 2, 2, 4, 1, 2, 3, 3, 2, 3, 2, 2, 2, 3, 1, 2, 3, 3, 2, 2, 2, 2, 3, 2, 2, 3]\n",
    "print(\"sum of 8ths: \" + str(sum(durations)))"
   ]
  },
  {
   "cell_type": "markdown",
   "metadata": {},
   "source": [
    "I just put values to best fit the contour as I saw fit."
   ]
  },
  {
   "cell_type": "markdown",
   "metadata": {},
   "source": [
    "Here is a method to turn durations and pitches as I have them into a Stream:"
   ]
  },
  {
   "cell_type": "code",
   "execution_count": 13,
   "metadata": {},
   "outputs": [],
   "source": [
    "def durAndPitchToStream(pitches = [], durs = []):\n",
    "    if(len(pitches)!=len(durs)):\n",
    "        return\n",
    "    s = stream.Stream()\n",
    "    for i in range(len(pitches)):\n",
    "        n = note.Note(pitches[i])\n",
    "        n.duration.quarterLength = durs[i]*0.5\n",
    "        s.append(n)\n",
    "    return s"
   ]
  },
  {
   "cell_type": "markdown",
   "metadata": {},
   "source": [
    "Here's what the A part looks and sounds like so far:"
   ]
  },
  {
   "cell_type": "code",
   "execution_count": 14,
   "metadata": {},
   "outputs": [
    {
     "name": "stdout",
     "output_type": "stream",
     "text": [
      "DIV_ID OSMD-div-438175\n"
     ]
    },
    {
     "data": {
      "text/html": [
       "<div id=\"OSMD-div-438175\">loading OpenSheetMusicDisplay</div>"
      ],
      "text/plain": [
       "<IPython.core.display.HTML object>"
      ]
     },
     "metadata": {},
     "output_type": "display_data"
    },
    {
     "name": "stdout",
     "output_type": "stream",
     "text": [
      "xml length: 12956\n"
     ]
    },
    {
     "data": {
      "application/javascript": [
       "\n",
       "    console.log(\"loadOSMD()\");\n",
       "    function loadOSMD() { \n",
       "        return new Promise(function(resolve, reject){\n",
       "\n",
       "            if (window.opensheetmusicdisplay) {\n",
       "                console.log(\"already loaded\")\n",
       "                return resolve(window.opensheetmusicdisplay)\n",
       "            }\n",
       "            console.log(\"loading osmd for the first time\")\n",
       "            // OSMD script has a 'define' call which conflicts with requirejs\n",
       "            var _define = window.define // save the define object \n",
       "            window.define = undefined // now the loaded script will ignore requirejs\n",
       "            var s = document.createElement( 'script' );\n",
       "            s.setAttribute( 'src', \"https://cdn.jsdelivr.net/npm/opensheetmusicdisplay@0.3.1/build/opensheetmusicdisplay.min.js\" );\n",
       "            //s.setAttribute( 'src', \"/custom/opensheetmusicdisplay.js\" );\n",
       "            s.onload=function(){\n",
       "                window.define = _define\n",
       "                console.log(\"loaded OSMD for the first time\",opensheetmusicdisplay)\n",
       "                resolve(opensheetmusicdisplay);\n",
       "            };\n",
       "            document.body.appendChild( s ); // browser will try to load the new script tag\n",
       "        }) \n",
       "    }\n",
       "    loadOSMD().then((OSMD)=>{\n",
       "        console.log(\"loaded OSMD\",OSMD)\n",
       "        var div_id = \"OSMD-div-438175\";\n",
       "            console.log(div_id)\n",
       "        window.openSheetMusicDisplay = new OSMD.OpenSheetMusicDisplay(div_id);\n",
       "        openSheetMusicDisplay\n",
       "            .load(\"<?xml version=\\\"1.0\\\" encoding=\\\"utf-8\\\"?>\\n<!DOCTYPE score-partwise  PUBLIC \\\"-//Recordare//DTD MusicXML 3.0 Partwise//EN\\\" \\\"http://www.musicxml.org/dtds/partwise.dtd\\\">\\n<score-partwise version=\\\"3.0\\\">\\n  <movement-title>Music21 Fragment</movement-title>\\n  <identification>\\n    <creator type=\\\"composer\\\">Music21</creator>\\n    <encoding>\\n      <encoding-date>2020-02-27</encoding-date>\\n      <software>music21 v.5.7.2</software>\\n    </encoding>\\n  </identification>\\n  <defaults>\\n    <scaling>\\n      <millimeters>7</millimeters>\\n      <tenths>40</tenths>\\n    </scaling>\\n  </defaults>\\n  <part-list>\\n    <score-part id=\\\"P806f089c4dbf32e26fe81a52424c7957\\\">\\n      <part-name />\\n    </score-part>\\n  </part-list>\\n  <!--=========================== Part 1 ===========================-->\\n  <part id=\\\"P806f089c4dbf32e26fe81a52424c7957\\\">\\n    <!--========================= Measure 1 ==========================-->\\n    <measure number=\\\"1\\\">\\n      <attributes>\\n        <divisions>10080</divisions>\\n        <time>\\n          <beats>4</beats>\\n          <beat-type>4</beat-type>\\n        </time>\\n        <clef>\\n          <sign>G</sign>\\n          <line>2</line>\\n        </clef>\\n      </attributes>\\n      <note>\\n        <pitch>\\n          <step>E</step>\\n          <octave>5</octave>\\n        </pitch>\\n        <duration>15120</duration>\\n        <type>quarter</type>\\n        <dot />\\n      </note>\\n      <note>\\n        <pitch>\\n          <step>C</step>\\n          <alter>1</alter>\\n          <octave>5</octave>\\n        </pitch>\\n        <duration>10080</duration>\\n        <type>quarter</type>\\n        <accidental>sharp</accidental>\\n      </note>\\n      <note>\\n        <pitch>\\n          <step>E</step>\\n          <octave>5</octave>\\n        </pitch>\\n        <duration>5040</duration>\\n        <type>eighth</type>\\n      </note>\\n      <note>\\n        <pitch>\\n          <step>D</step>\\n          <octave>5</octave>\\n        </pitch>\\n        <duration>10080</duration>\\n        <tie type=\\\"start\\\" />\\n        <type>quarter</type>\\n        <notations>\\n          <tied type=\\\"start\\\" />\\n        </notations>\\n      </note>\\n    </measure>\\n    <!--========================= Measure 2 ==========================-->\\n    <measure number=\\\"2\\\">\\n      <note>\\n        <pitch>\\n          <step>D</step>\\n          <octave>5</octave>\\n        </pitch>\\n        <duration>10080</duration>\\n        <tie type=\\\"stop\\\" />\\n        <type>quarter</type>\\n        <notations>\\n          <tied type=\\\"stop\\\" />\\n        </notations>\\n      </note>\\n      <note>\\n        <pitch>\\n          <step>C</step>\\n          <alter>1</alter>\\n          <octave>5</octave>\\n        </pitch>\\n        <duration>10080</duration>\\n        <type>quarter</type>\\n        <accidental>sharp</accidental>\\n      </note>\\n      <note>\\n        <pitch>\\n          <step>D</step>\\n          <octave>5</octave>\\n        </pitch>\\n        <duration>10080</duration>\\n        <type>quarter</type>\\n      </note>\\n      <note>\\n        <pitch>\\n          <step>E</step>\\n          <octave>5</octave>\\n        </pitch>\\n        <duration>10080</duration>\\n        <type>quarter</type>\\n      </note>\\n    </measure>\\n    <!--========================= Measure 3 ==========================-->\\n    <measure number=\\\"3\\\">\\n      <note>\\n        <pitch>\\n          <step>C</step>\\n          <alter>1</alter>\\n          <octave>5</octave>\\n        </pitch>\\n        <duration>15120</duration>\\n        <type>quarter</type>\\n        <dot />\\n        <accidental>sharp</accidental>\\n      </note>\\n      <note>\\n        <pitch>\\n          <step>B</step>\\n          <alter>-1</alter>\\n          <octave>4</octave>\\n        </pitch>\\n        <duration>10080</duration>\\n        <type>quarter</type>\\n        <accidental>flat</accidental>\\n      </note>\\n      <note>\\n        <pitch>\\n          <step>F</step>\\n          <alter>1</alter>\\n          <octave>4</octave>\\n        </pitch>\\n        <duration>10080</duration>\\n        <type>quarter</type>\\n        <accidental>sharp</accidental>\\n      </note>\\n      <note>\\n        <pitch>\\n          <step>E</step>\\n          <octave>5</octave>\\n        </pitch>\\n        <duration>5040</duration>\\n        <tie type=\\\"start\\\" />\\n        <type>eighth</type>\\n        <notations>\\n          <tied type=\\\"start\\\" />\\n        </notations>\\n      </note>\\n    </measure>\\n    <!--========================= Measure 4 ==========================-->\\n    <measure number=\\\"4\\\">\\n      <note>\\n        <pitch>\\n          <step>E</step>\\n          <octave>5</octave>\\n        </pitch>\\n        <duration>5040</duration>\\n        <tie type=\\\"stop\\\" />\\n        <type>eighth</type>\\n        <notations>\\n          <tied type=\\\"stop\\\" />\\n        </notations>\\n      </note>\\n      <note>\\n        <pitch>\\n          <step>C</step>\\n          <alter>1</alter>\\n          <octave>5</octave>\\n        </pitch>\\n        <duration>15120</duration>\\n        <type>quarter</type>\\n        <dot />\\n        <accidental>sharp</accidental>\\n      </note>\\n      <note>\\n        <pitch>\\n          <step>D</step>\\n          <octave>5</octave>\\n        </pitch>\\n        <duration>10080</duration>\\n        <type>quarter</type>\\n      </note>\\n      <note>\\n        <pitch>\\n          <step>C</step>\\n          <alter>1</alter>\\n          <octave>5</octave>\\n        </pitch>\\n        <duration>10080</duration>\\n        <type>quarter</type>\\n        <accidental>sharp</accidental>\\n      </note>\\n    </measure>\\n    <!--========================= Measure 5 ==========================-->\\n    <measure number=\\\"5\\\">\\n      <note>\\n        <pitch>\\n          <step>B</step>\\n          <alter>-1</alter>\\n          <octave>4</octave>\\n        </pitch>\\n        <duration>10080</duration>\\n        <type>quarter</type>\\n        <accidental>flat</accidental>\\n      </note>\\n      <note>\\n        <pitch>\\n          <step>C</step>\\n          <alter>1</alter>\\n          <octave>5</octave>\\n        </pitch>\\n        <duration>20160</duration>\\n        <type>half</type>\\n        <accidental>sharp</accidental>\\n      </note>\\n      <note>\\n        <pitch>\\n          <step>B</step>\\n          <alter>-1</alter>\\n          <octave>4</octave>\\n        </pitch>\\n        <duration>5040</duration>\\n        <type>eighth</type>\\n        <accidental>flat</accidental>\\n        <beam number=\\\"1\\\">begin</beam>\\n      </note>\\n      <note>\\n        <pitch>\\n          <step>C</step>\\n          <alter>1</alter>\\n          <octave>5</octave>\\n        </pitch>\\n        <duration>5040</duration>\\n        <tie type=\\\"start\\\" />\\n        <type>eighth</type>\\n        <accidental>sharp</accidental>\\n        <beam number=\\\"1\\\">end</beam>\\n        <notations>\\n          <tied type=\\\"start\\\" />\\n        </notations>\\n      </note>\\n    </measure>\\n    <!--========================= Measure 6 ==========================-->\\n    <measure number=\\\"6\\\">\\n      <note>\\n        <pitch>\\n          <step>C</step>\\n          <alter>1</alter>\\n          <octave>5</octave>\\n        </pitch>\\n        <duration>5040</duration>\\n        <tie type=\\\"stop\\\" />\\n        <type>eighth</type>\\n        <notations>\\n          <tied type=\\\"stop\\\" />\\n        </notations>\\n      </note>\\n      <note>\\n        <pitch>\\n          <step>C</step>\\n          <alter>0</alter>\\n          <octave>5</octave>\\n        </pitch>\\n        <duration>15120</duration>\\n        <type>quarter</type>\\n        <dot />\\n        <accidental>natural</accidental>\\n      </note>\\n      <note>\\n        <pitch>\\n          <step>E</step>\\n          <octave>5</octave>\\n        </pitch>\\n        <duration>15120</duration>\\n        <type>quarter</type>\\n        <dot />\\n      </note>\\n      <note>\\n        <pitch>\\n          <step>C</step>\\n          <alter>1</alter>\\n          <octave>5</octave>\\n        </pitch>\\n        <duration>5040</duration>\\n        <tie type=\\\"start\\\" />\\n        <type>eighth</type>\\n        <accidental>sharp</accidental>\\n        <notations>\\n          <tied type=\\\"start\\\" />\\n        </notations>\\n      </note>\\n    </measure>\\n    <!--========================= Measure 7 ==========================-->\\n    <measure number=\\\"7\\\">\\n      <note>\\n        <pitch>\\n          <step>C</step>\\n          <alter>1</alter>\\n          <octave>5</octave>\\n        </pitch>\\n        <duration>5040</duration>\\n        <tie type=\\\"stop\\\" />\\n        <type>eighth</type>\\n        <notations>\\n          <tied type=\\\"stop\\\" />\\n        </notations>\\n      </note>\\n      <note>\\n        <pitch>\\n          <step>E</step>\\n          <octave>5</octave>\\n        </pitch>\\n        <duration>15120</duration>\\n        <type>quarter</type>\\n        <dot />\\n      </note>\\n      <note>\\n        <pitch>\\n          <step>D</step>\\n          <octave>5</octave>\\n        </pitch>\\n        <duration>10080</duration>\\n        <type>quarter</type>\\n      </note>\\n      <note>\\n        <pitch>\\n          <step>C</step>\\n          <alter>1</alter>\\n          <octave>5</octave>\\n        </pitch>\\n        <duration>10080</duration>\\n        <type>quarter</type>\\n        <accidental>sharp</accidental>\\n      </note>\\n    </measure>\\n    <!--========================= Measure 8 ==========================-->\\n    <measure number=\\\"8\\\">\\n      <note>\\n        <pitch>\\n          <step>D</step>\\n          <octave>5</octave>\\n        </pitch>\\n        <duration>10080</duration>\\n        <type>quarter</type>\\n      </note>\\n      <note>\\n        <pitch>\\n          <step>E</step>\\n          <octave>5</octave>\\n        </pitch>\\n        <duration>15120</duration>\\n        <type>quarter</type>\\n        <dot />\\n      </note>\\n      <note>\\n        <pitch>\\n          <step>C</step>\\n          <alter>1</alter>\\n          <octave>5</octave>\\n        </pitch>\\n        <duration>5040</duration>\\n        <type>eighth</type>\\n        <accidental>sharp</accidental>\\n      </note>\\n      <note>\\n        <pitch>\\n          <step>B</step>\\n          <alter>-1</alter>\\n          <octave>4</octave>\\n        </pitch>\\n        <duration>10080</duration>\\n        <type>quarter</type>\\n        <accidental>flat</accidental>\\n      </note>\\n    </measure>\\n    <!--========================= Measure 9 ==========================-->\\n    <measure number=\\\"9\\\">\\n      <note>\\n        <pitch>\\n          <step>F</step>\\n          <alter>1</alter>\\n          <octave>4</octave>\\n        </pitch>\\n        <duration>15120</duration>\\n        <type>quarter</type>\\n        <dot />\\n        <accidental>sharp</accidental>\\n      </note>\\n      <note>\\n        <pitch>\\n          <step>G</step>\\n          <alter>1</alter>\\n          <octave>4</octave>\\n        </pitch>\\n        <duration>15120</duration>\\n        <type>quarter</type>\\n        <dot />\\n        <accidental>sharp</accidental>\\n      </note>\\n      <note>\\n        <pitch>\\n          <step>F</step>\\n          <alter>1</alter>\\n          <octave>4</octave>\\n        </pitch>\\n        <duration>10080</duration>\\n        <type>quarter</type>\\n        <accidental>sharp</accidental>\\n      </note>\\n    </measure>\\n    <!--========================= Measure 10 =========================-->\\n    <measure number=\\\"10\\\">\\n      <note>\\n        <pitch>\\n          <step>G</step>\\n          <alter>1</alter>\\n          <octave>4</octave>\\n        </pitch>\\n        <duration>10080</duration>\\n        <type>quarter</type>\\n        <accidental>sharp</accidental>\\n      </note>\\n      <note>\\n        <pitch>\\n          <step>B</step>\\n          <alter>-1</alter>\\n          <octave>4</octave>\\n        </pitch>\\n        <duration>10080</duration>\\n        <type>quarter</type>\\n        <accidental>flat</accidental>\\n      </note>\\n      <note>\\n        <pitch>\\n          <step>C</step>\\n          <alter>1</alter>\\n          <octave>5</octave>\\n        </pitch>\\n        <duration>10080</duration>\\n        <type>quarter</type>\\n        <accidental>sharp</accidental>\\n      </note>\\n      <note>\\n        <pitch>\\n          <step>E</step>\\n          <octave>5</octave>\\n        </pitch>\\n        <duration>10080</duration>\\n        <tie type=\\\"start\\\" />\\n        <type>quarter</type>\\n        <notations>\\n          <tied type=\\\"start\\\" />\\n        </notations>\\n      </note>\\n    </measure>\\n    <!--========================= Measure 11 =========================-->\\n    <measure number=\\\"11\\\">\\n      <note>\\n        <pitch>\\n          <step>E</step>\\n          <octave>5</octave>\\n        </pitch>\\n        <duration>5040</duration>\\n        <tie type=\\\"stop\\\" />\\n        <type>eighth</type>\\n        <notations>\\n          <tied type=\\\"stop\\\" />\\n        </notations>\\n      </note>\\n      <note>\\n        <pitch>\\n          <step>D</step>\\n          <octave>5</octave>\\n        </pitch>\\n        <duration>10080</duration>\\n        <type>quarter</type>\\n      </note>\\n      <note>\\n        <pitch>\\n          <step>C</step>\\n          <alter>1</alter>\\n          <octave>5</octave>\\n        </pitch>\\n        <duration>10080</duration>\\n        <type>quarter</type>\\n        <accidental>sharp</accidental>\\n      </note>\\n      <note>\\n        <pitch>\\n          <step>B</step>\\n          <alter>-1</alter>\\n          <octave>4</octave>\\n        </pitch>\\n        <duration>15120</duration>\\n        <type>quarter</type>\\n        <dot />\\n        <accidental>flat</accidental>\\n      </note>\\n      <barline location=\\\"right\\\">\\n        <bar-style>light-heavy</bar-style>\\n      </barline>\\n    </measure>\\n  </part>\\n</score-partwise>\\n\")\n",
       "            .then(\n",
       "              function() {\n",
       "                console.log(\"rendering data\")\n",
       "                openSheetMusicDisplay.render();\n",
       "              }\n",
       "            );\n",
       "    })\n",
       "    "
      ],
      "text/plain": [
       "<IPython.core.display.Javascript object>"
      ]
     },
     "metadata": {},
     "output_type": "display_data"
    }
   ],
   "source": [
    "aStream = durAndPitchToStream(summerOct, durations)\n",
    "showScore(aStream)\n",
    "#sp = midi.realtime.StreamPlayer(aStream)\n",
    "#sp.play()"
   ]
  },
  {
   "cell_type": "markdown",
   "metadata": {},
   "source": [
    "After realizing that my notes were wrong, Dr. Dorman helped me fix them, here's the new function:"
   ]
  },
  {
   "cell_type": "markdown",
   "metadata": {},
   "source": [
    "def mapScale (myIntervals = [], firstNote = 'C4', newScale = []):\n",
    "\n",
    "    currentIndex = -1\n",
    "\n",
    "    for i in range(len(newScale.pitches)):\n",
    "\n",
    "        if firstNote == newScale.pitches[i]:\n",
    "\n",
    "            currentIndex = i\n",
    "\n",
    "           \n",
    "\n",
    "    print (currentIndex)\n",
    "\n",
    "       \n",
    "\n",
    "    indexes = []\n",
    "\n",
    "    res = []\n",
    "\n",
    "   \n",
    "\n",
    "    for j in myIntervals:\n",
    "\n",
    "        res.append (newScale.pitches[currentIndex])\n",
    "\n",
    "        currentIndex += j\n",
    "\n",
    "       \n",
    "\n",
    "    return (res)"
   ]
  },
  {
   "cell_type": "markdown",
   "metadata": {},
   "source": [
    "myScale = scale.ConcreteScale(pitches=['C4', 'D-4', 'E-4', 'E4', 'G-4', 'A-4', 'A4', 'B4'])\n",
    "fixedSummerOct = mapScale(summerContour, summer[0], myScale)\n",
    "fixedSummerStream = durAndPitchToStream(fixedSummerOct, durations)\n",
    "showScore(fixedSummerStream)\n",
    "sp = midi.realtime.StreamPlayer(fixedSummerStream)\n",
    "sp.play()"
   ]
  },
  {
   "cell_type": "markdown",
   "metadata": {},
   "source": [
    "The scale function decided not to work for me, so to stop spending time debugging, I'll write the pitches by hand:"
   ]
  },
  {
   "cell_type": "code",
   "execution_count": 15,
   "metadata": {},
   "outputs": [
    {
     "name": "stdout",
     "output_type": "stream",
     "text": [
      "DIV_ID OSMD-div-953017\n"
     ]
    },
    {
     "data": {
      "text/html": [
       "<div id=\"OSMD-div-953017\">loading OpenSheetMusicDisplay</div>"
      ],
      "text/plain": [
       "<IPython.core.display.HTML object>"
      ]
     },
     "metadata": {},
     "output_type": "display_data"
    },
    {
     "name": "stdout",
     "output_type": "stream",
     "text": [
      "xml length: 12758\n"
     ]
    },
    {
     "data": {
      "application/javascript": [
       "\n",
       "    console.log(\"loadOSMD()\");\n",
       "    function loadOSMD() { \n",
       "        return new Promise(function(resolve, reject){\n",
       "\n",
       "            if (window.opensheetmusicdisplay) {\n",
       "                console.log(\"already loaded\")\n",
       "                return resolve(window.opensheetmusicdisplay)\n",
       "            }\n",
       "            console.log(\"loading osmd for the first time\")\n",
       "            // OSMD script has a 'define' call which conflicts with requirejs\n",
       "            var _define = window.define // save the define object \n",
       "            window.define = undefined // now the loaded script will ignore requirejs\n",
       "            var s = document.createElement( 'script' );\n",
       "            s.setAttribute( 'src', \"https://cdn.jsdelivr.net/npm/opensheetmusicdisplay@0.3.1/build/opensheetmusicdisplay.min.js\" );\n",
       "            //s.setAttribute( 'src', \"/custom/opensheetmusicdisplay.js\" );\n",
       "            s.onload=function(){\n",
       "                window.define = _define\n",
       "                console.log(\"loaded OSMD for the first time\",opensheetmusicdisplay)\n",
       "                resolve(opensheetmusicdisplay);\n",
       "            };\n",
       "            document.body.appendChild( s ); // browser will try to load the new script tag\n",
       "        }) \n",
       "    }\n",
       "    loadOSMD().then((OSMD)=>{\n",
       "        console.log(\"loaded OSMD\",OSMD)\n",
       "        var div_id = \"OSMD-div-953017\";\n",
       "            console.log(div_id)\n",
       "        window.openSheetMusicDisplay = new OSMD.OpenSheetMusicDisplay(div_id);\n",
       "        openSheetMusicDisplay\n",
       "            .load(\"<?xml version=\\\"1.0\\\" encoding=\\\"utf-8\\\"?>\\n<!DOCTYPE score-partwise  PUBLIC \\\"-//Recordare//DTD MusicXML 3.0 Partwise//EN\\\" \\\"http://www.musicxml.org/dtds/partwise.dtd\\\">\\n<score-partwise version=\\\"3.0\\\">\\n  <movement-title>Music21 Fragment</movement-title>\\n  <identification>\\n    <creator type=\\\"composer\\\">Music21</creator>\\n    <encoding>\\n      <encoding-date>2020-02-27</encoding-date>\\n      <software>music21 v.5.7.2</software>\\n    </encoding>\\n  </identification>\\n  <defaults>\\n    <scaling>\\n      <millimeters>7</millimeters>\\n      <tenths>40</tenths>\\n    </scaling>\\n  </defaults>\\n  <part-list>\\n    <score-part id=\\\"Pdc0f3dbae1190ca2e51f53a1dd11e252\\\">\\n      <part-name />\\n    </score-part>\\n  </part-list>\\n  <!--=========================== Part 1 ===========================-->\\n  <part id=\\\"Pdc0f3dbae1190ca2e51f53a1dd11e252\\\">\\n    <!--========================= Measure 1 ==========================-->\\n    <measure number=\\\"1\\\">\\n      <attributes>\\n        <divisions>10080</divisions>\\n        <time>\\n          <beats>4</beats>\\n          <beat-type>4</beat-type>\\n        </time>\\n        <clef>\\n          <sign>G</sign>\\n          <line>2</line>\\n        </clef>\\n      </attributes>\\n      <note>\\n        <pitch>\\n          <step>E</step>\\n          <octave>5</octave>\\n        </pitch>\\n        <duration>15120</duration>\\n        <type>quarter</type>\\n        <dot />\\n      </note>\\n      <note>\\n        <pitch>\\n          <step>C</step>\\n          <alter>1</alter>\\n          <octave>5</octave>\\n        </pitch>\\n        <duration>10080</duration>\\n        <type>quarter</type>\\n        <accidental>sharp</accidental>\\n      </note>\\n      <note>\\n        <pitch>\\n          <step>E</step>\\n          <octave>5</octave>\\n        </pitch>\\n        <duration>5040</duration>\\n        <type>eighth</type>\\n      </note>\\n      <note>\\n        <pitch>\\n          <step>D</step>\\n          <octave>5</octave>\\n        </pitch>\\n        <duration>10080</duration>\\n        <tie type=\\\"start\\\" />\\n        <type>quarter</type>\\n        <notations>\\n          <tied type=\\\"start\\\" />\\n        </notations>\\n      </note>\\n    </measure>\\n    <!--========================= Measure 2 ==========================-->\\n    <measure number=\\\"2\\\">\\n      <note>\\n        <pitch>\\n          <step>D</step>\\n          <octave>5</octave>\\n        </pitch>\\n        <duration>10080</duration>\\n        <tie type=\\\"stop\\\" />\\n        <type>quarter</type>\\n        <notations>\\n          <tied type=\\\"stop\\\" />\\n        </notations>\\n      </note>\\n      <note>\\n        <pitch>\\n          <step>C</step>\\n          <alter>1</alter>\\n          <octave>5</octave>\\n        </pitch>\\n        <duration>10080</duration>\\n        <type>quarter</type>\\n        <accidental>sharp</accidental>\\n      </note>\\n      <note>\\n        <pitch>\\n          <step>D</step>\\n          <octave>5</octave>\\n        </pitch>\\n        <duration>10080</duration>\\n        <type>quarter</type>\\n      </note>\\n      <note>\\n        <pitch>\\n          <step>E</step>\\n          <octave>5</octave>\\n        </pitch>\\n        <duration>10080</duration>\\n        <type>quarter</type>\\n      </note>\\n    </measure>\\n    <!--========================= Measure 3 ==========================-->\\n    <measure number=\\\"3\\\">\\n      <note>\\n        <pitch>\\n          <step>C</step>\\n          <alter>1</alter>\\n          <octave>5</octave>\\n        </pitch>\\n        <duration>15120</duration>\\n        <type>quarter</type>\\n        <dot />\\n        <accidental>sharp</accidental>\\n      </note>\\n      <note>\\n        <pitch>\\n          <step>B</step>\\n          <alter>-1</alter>\\n          <octave>4</octave>\\n        </pitch>\\n        <duration>10080</duration>\\n        <type>quarter</type>\\n        <accidental>flat</accidental>\\n      </note>\\n      <note>\\n        <pitch>\\n          <step>F</step>\\n          <octave>4</octave>\\n        </pitch>\\n        <duration>10080</duration>\\n        <type>quarter</type>\\n      </note>\\n      <note>\\n        <pitch>\\n          <step>E</step>\\n          <octave>5</octave>\\n        </pitch>\\n        <duration>5040</duration>\\n        <tie type=\\\"start\\\" />\\n        <type>eighth</type>\\n        <notations>\\n          <tied type=\\\"start\\\" />\\n        </notations>\\n      </note>\\n    </measure>\\n    <!--========================= Measure 4 ==========================-->\\n    <measure number=\\\"4\\\">\\n      <note>\\n        <pitch>\\n          <step>E</step>\\n          <octave>5</octave>\\n        </pitch>\\n        <duration>5040</duration>\\n        <tie type=\\\"stop\\\" />\\n        <type>eighth</type>\\n        <notations>\\n          <tied type=\\\"stop\\\" />\\n        </notations>\\n      </note>\\n      <note>\\n        <pitch>\\n          <step>C</step>\\n          <alter>1</alter>\\n          <octave>5</octave>\\n        </pitch>\\n        <duration>15120</duration>\\n        <type>quarter</type>\\n        <dot />\\n        <accidental>sharp</accidental>\\n      </note>\\n      <note>\\n        <pitch>\\n          <step>D</step>\\n          <octave>5</octave>\\n        </pitch>\\n        <duration>10080</duration>\\n        <type>quarter</type>\\n      </note>\\n      <note>\\n        <pitch>\\n          <step>C</step>\\n          <alter>1</alter>\\n          <octave>5</octave>\\n        </pitch>\\n        <duration>10080</duration>\\n        <type>quarter</type>\\n        <accidental>sharp</accidental>\\n      </note>\\n    </measure>\\n    <!--========================= Measure 5 ==========================-->\\n    <measure number=\\\"5\\\">\\n      <note>\\n        <pitch>\\n          <step>B</step>\\n          <alter>-1</alter>\\n          <octave>4</octave>\\n        </pitch>\\n        <duration>10080</duration>\\n        <type>quarter</type>\\n        <accidental>flat</accidental>\\n      </note>\\n      <note>\\n        <pitch>\\n          <step>C</step>\\n          <alter>1</alter>\\n          <octave>5</octave>\\n        </pitch>\\n        <duration>20160</duration>\\n        <type>half</type>\\n        <accidental>sharp</accidental>\\n      </note>\\n      <note>\\n        <pitch>\\n          <step>B</step>\\n          <alter>-1</alter>\\n          <octave>4</octave>\\n        </pitch>\\n        <duration>5040</duration>\\n        <type>eighth</type>\\n        <accidental>flat</accidental>\\n        <beam number=\\\"1\\\">begin</beam>\\n      </note>\\n      <note>\\n        <pitch>\\n          <step>C</step>\\n          <alter>1</alter>\\n          <octave>5</octave>\\n        </pitch>\\n        <duration>5040</duration>\\n        <tie type=\\\"start\\\" />\\n        <type>eighth</type>\\n        <accidental>sharp</accidental>\\n        <beam number=\\\"1\\\">end</beam>\\n        <notations>\\n          <tied type=\\\"start\\\" />\\n        </notations>\\n      </note>\\n    </measure>\\n    <!--========================= Measure 6 ==========================-->\\n    <measure number=\\\"6\\\">\\n      <note>\\n        <pitch>\\n          <step>C</step>\\n          <alter>1</alter>\\n          <octave>5</octave>\\n        </pitch>\\n        <duration>5040</duration>\\n        <tie type=\\\"stop\\\" />\\n        <type>eighth</type>\\n        <notations>\\n          <tied type=\\\"stop\\\" />\\n        </notations>\\n      </note>\\n      <note>\\n        <pitch>\\n          <step>B</step>\\n          <alter>0</alter>\\n          <octave>4</octave>\\n        </pitch>\\n        <duration>15120</duration>\\n        <type>quarter</type>\\n        <dot />\\n        <accidental>natural</accidental>\\n      </note>\\n      <note>\\n        <pitch>\\n          <step>E</step>\\n          <octave>5</octave>\\n        </pitch>\\n        <duration>15120</duration>\\n        <type>quarter</type>\\n        <dot />\\n      </note>\\n      <note>\\n        <pitch>\\n          <step>C</step>\\n          <alter>1</alter>\\n          <octave>5</octave>\\n        </pitch>\\n        <duration>5040</duration>\\n        <tie type=\\\"start\\\" />\\n        <type>eighth</type>\\n        <accidental>sharp</accidental>\\n        <notations>\\n          <tied type=\\\"start\\\" />\\n        </notations>\\n      </note>\\n    </measure>\\n    <!--========================= Measure 7 ==========================-->\\n    <measure number=\\\"7\\\">\\n      <note>\\n        <pitch>\\n          <step>C</step>\\n          <alter>1</alter>\\n          <octave>5</octave>\\n        </pitch>\\n        <duration>5040</duration>\\n        <tie type=\\\"stop\\\" />\\n        <type>eighth</type>\\n        <notations>\\n          <tied type=\\\"stop\\\" />\\n        </notations>\\n      </note>\\n      <note>\\n        <pitch>\\n          <step>E</step>\\n          <octave>5</octave>\\n        </pitch>\\n        <duration>15120</duration>\\n        <type>quarter</type>\\n        <dot />\\n      </note>\\n      <note>\\n        <pitch>\\n          <step>D</step>\\n          <octave>5</octave>\\n        </pitch>\\n        <duration>10080</duration>\\n        <type>quarter</type>\\n      </note>\\n      <note>\\n        <pitch>\\n          <step>C</step>\\n          <alter>1</alter>\\n          <octave>5</octave>\\n        </pitch>\\n        <duration>10080</duration>\\n        <type>quarter</type>\\n        <accidental>sharp</accidental>\\n      </note>\\n    </measure>\\n    <!--========================= Measure 8 ==========================-->\\n    <measure number=\\\"8\\\">\\n      <note>\\n        <pitch>\\n          <step>D</step>\\n          <octave>5</octave>\\n        </pitch>\\n        <duration>10080</duration>\\n        <type>quarter</type>\\n      </note>\\n      <note>\\n        <pitch>\\n          <step>E</step>\\n          <octave>5</octave>\\n        </pitch>\\n        <duration>15120</duration>\\n        <type>quarter</type>\\n        <dot />\\n      </note>\\n      <note>\\n        <pitch>\\n          <step>C</step>\\n          <alter>1</alter>\\n          <octave>5</octave>\\n        </pitch>\\n        <duration>5040</duration>\\n        <type>eighth</type>\\n        <accidental>sharp</accidental>\\n      </note>\\n      <note>\\n        <pitch>\\n          <step>B</step>\\n          <alter>-1</alter>\\n          <octave>4</octave>\\n        </pitch>\\n        <duration>10080</duration>\\n        <type>quarter</type>\\n        <accidental>flat</accidental>\\n      </note>\\n    </measure>\\n    <!--========================= Measure 9 ==========================-->\\n    <measure number=\\\"9\\\">\\n      <note>\\n        <pitch>\\n          <step>F</step>\\n          <octave>4</octave>\\n        </pitch>\\n        <duration>15120</duration>\\n        <type>quarter</type>\\n        <dot />\\n      </note>\\n      <note>\\n        <pitch>\\n          <step>G</step>\\n          <alter>1</alter>\\n          <octave>4</octave>\\n        </pitch>\\n        <duration>15120</duration>\\n        <type>quarter</type>\\n        <dot />\\n        <accidental>sharp</accidental>\\n      </note>\\n      <note>\\n        <pitch>\\n          <step>F</step>\\n          <octave>4</octave>\\n        </pitch>\\n        <duration>10080</duration>\\n        <type>quarter</type>\\n      </note>\\n    </measure>\\n    <!--========================= Measure 10 =========================-->\\n    <measure number=\\\"10\\\">\\n      <note>\\n        <pitch>\\n          <step>G</step>\\n          <alter>1</alter>\\n          <octave>4</octave>\\n        </pitch>\\n        <duration>10080</duration>\\n        <type>quarter</type>\\n        <accidental>sharp</accidental>\\n      </note>\\n      <note>\\n        <pitch>\\n          <step>B</step>\\n          <alter>-1</alter>\\n          <octave>4</octave>\\n        </pitch>\\n        <duration>10080</duration>\\n        <type>quarter</type>\\n        <accidental>flat</accidental>\\n      </note>\\n      <note>\\n        <pitch>\\n          <step>C</step>\\n          <alter>1</alter>\\n          <octave>5</octave>\\n        </pitch>\\n        <duration>10080</duration>\\n        <type>quarter</type>\\n        <accidental>sharp</accidental>\\n      </note>\\n      <note>\\n        <pitch>\\n          <step>E</step>\\n          <octave>5</octave>\\n        </pitch>\\n        <duration>10080</duration>\\n        <tie type=\\\"start\\\" />\\n        <type>quarter</type>\\n        <notations>\\n          <tied type=\\\"start\\\" />\\n        </notations>\\n      </note>\\n    </measure>\\n    <!--========================= Measure 11 =========================-->\\n    <measure number=\\\"11\\\">\\n      <note>\\n        <pitch>\\n          <step>E</step>\\n          <octave>5</octave>\\n        </pitch>\\n        <duration>5040</duration>\\n        <tie type=\\\"stop\\\" />\\n        <type>eighth</type>\\n        <notations>\\n          <tied type=\\\"stop\\\" />\\n        </notations>\\n      </note>\\n      <note>\\n        <pitch>\\n          <step>D</step>\\n          <octave>5</octave>\\n        </pitch>\\n        <duration>10080</duration>\\n        <type>quarter</type>\\n      </note>\\n      <note>\\n        <pitch>\\n          <step>C</step>\\n          <alter>1</alter>\\n          <octave>5</octave>\\n        </pitch>\\n        <duration>10080</duration>\\n        <type>quarter</type>\\n        <accidental>sharp</accidental>\\n      </note>\\n      <note>\\n        <pitch>\\n          <step>B</step>\\n          <alter>-1</alter>\\n          <octave>4</octave>\\n        </pitch>\\n        <duration>15120</duration>\\n        <type>quarter</type>\\n        <dot />\\n        <accidental>flat</accidental>\\n      </note>\\n      <barline location=\\\"right\\\">\\n        <bar-style>light-heavy</bar-style>\\n      </barline>\\n    </measure>\\n  </part>\\n</score-partwise>\\n\")\n",
       "            .then(\n",
       "              function() {\n",
       "                console.log(\"rendering data\")\n",
       "                openSheetMusicDisplay.render();\n",
       "              }\n",
       "            );\n",
       "    })\n",
       "    "
      ],
      "text/plain": [
       "<IPython.core.display.Javascript object>"
      ]
     },
     "metadata": {},
     "output_type": "display_data"
    }
   ],
   "source": [
    "fixedSummerOct = ['E5', 'C#5', 'E5', 'D5', 'C#5', 'D5', 'E5', 'C#5', 'B-4', 'F4', 'E5', 'C#5', 'D5', 'C#5', 'B-4', 'C#5', 'B-4', 'C#5', 'B4', 'E5', 'C#5', 'E5', 'D5', 'C#5', 'D5', 'E5', 'C#5', 'B-4', 'F4', 'G#4', 'F4', 'G#4', 'B-4', 'C#5', 'E5', 'D5', 'C#5', 'B-4']\n",
    "aStream = durAndPitchToStream(fixedSummerOct, durations)\n",
    "showScore(aStream)\n",
    "#sp = midi.realtime.StreamPlayer(aStream)\n",
    "#sp.play()"
   ]
  },
  {
   "cell_type": "markdown",
   "metadata": {},
   "source": [
    "Now to put this in a binary sentence form by making a method that will write a commentary:"
   ]
  },
  {
   "cell_type": "code",
   "execution_count": 16,
   "metadata": {},
   "outputs": [],
   "source": [
    "def writeSummerCommentary(pitches = [], durs = []): #going to fill in everything knowing there are 38 notes\n",
    "    newPitches = []\n",
    "    newDurs = []\n",
    "    for i in range(len(pitches)):\n",
    "        if(i % 4 == 0):\n",
    "            newPitches.append(pitches[(i + 3) % len(pitches)])\n",
    "            newPitches.append(pitches[(i + 2) % len(pitches)])\n",
    "            newPitches.append(pitches[(i + 1) % len(pitches)])\n",
    "            newPitches.append(pitches[i])\n",
    "            newDurs.append(durs[len(durs)-i-4])\n",
    "            newDurs.append(durs[len(durs)-i-3])\n",
    "            newDurs.append(durs[len(durs)-i-2])\n",
    "            newDurs.append(durs[len(durs)-i-1])\n",
    "    #print(newDurs)\n",
    "    newPitches.append(pitches[0])\n",
    "    newDurs.append(2)\n",
    "    print(len(newPitches))\n",
    "    print(len(newDurs))\n",
    "    s = stream.Stream()\n",
    "    for i in range(len(durs)):\n",
    "        n = note.Note(pitches[i])\n",
    "        n.duration.quarterLength = durs[i]*0.5\n",
    "        s.append(n)\n",
    "    for i in range(len(newPitches)):\n",
    "        n = note.Note(newPitches[i])\n",
    "        n.duration.quarterLength = newDurs[i]*0.5\n",
    "        s.append(n.transpose(-5))\n",
    "    for i in range(len(durs)):\n",
    "        n = note.Note(pitches[i])\n",
    "        n.duration.quarterLength = durs[i]*0.5\n",
    "        s.append(n)\n",
    "    for i in range(len(newPitches)):\n",
    "        n = note.Note(newPitches[i])\n",
    "        n.duration.quarterLength = newDurs[i]*0.5\n",
    "        s.append(n)\n",
    "    return s"
   ]
  },
  {
   "cell_type": "code",
   "execution_count": 17,
   "metadata": {},
   "outputs": [
    {
     "name": "stdout",
     "output_type": "stream",
     "text": [
      "41\n",
      "41\n",
      "DIV_ID OSMD-div-55397\n"
     ]
    },
    {
     "data": {
      "text/html": [
       "<div id=\"OSMD-div-55397\">loading OpenSheetMusicDisplay</div>"
      ],
      "text/plain": [
       "<IPython.core.display.HTML object>"
      ]
     },
     "metadata": {},
     "output_type": "display_data"
    },
    {
     "name": "stdout",
     "output_type": "stream",
     "text": [
      "xml length: 50915\n"
     ]
    },
    {
     "data": {
      "application/javascript": [
       "\n",
       "    console.log(\"loadOSMD()\");\n",
       "    function loadOSMD() { \n",
       "        return new Promise(function(resolve, reject){\n",
       "\n",
       "            if (window.opensheetmusicdisplay) {\n",
       "                console.log(\"already loaded\")\n",
       "                return resolve(window.opensheetmusicdisplay)\n",
       "            }\n",
       "            console.log(\"loading osmd for the first time\")\n",
       "            // OSMD script has a 'define' call which conflicts with requirejs\n",
       "            var _define = window.define // save the define object \n",
       "            window.define = undefined // now the loaded script will ignore requirejs\n",
       "            var s = document.createElement( 'script' );\n",
       "            s.setAttribute( 'src', \"https://cdn.jsdelivr.net/npm/opensheetmusicdisplay@0.3.1/build/opensheetmusicdisplay.min.js\" );\n",
       "            //s.setAttribute( 'src', \"/custom/opensheetmusicdisplay.js\" );\n",
       "            s.onload=function(){\n",
       "                window.define = _define\n",
       "                console.log(\"loaded OSMD for the first time\",opensheetmusicdisplay)\n",
       "                resolve(opensheetmusicdisplay);\n",
       "            };\n",
       "            document.body.appendChild( s ); // browser will try to load the new script tag\n",
       "        }) \n",
       "    }\n",
       "    loadOSMD().then((OSMD)=>{\n",
       "        console.log(\"loaded OSMD\",OSMD)\n",
       "        var div_id = \"OSMD-div-55397\";\n",
       "            console.log(div_id)\n",
       "        window.openSheetMusicDisplay = new OSMD.OpenSheetMusicDisplay(div_id);\n",
       "        openSheetMusicDisplay\n",
       "            .load(\"<?xml version=\\\"1.0\\\" encoding=\\\"utf-8\\\"?>\\n<!DOCTYPE score-partwise  PUBLIC \\\"-//Recordare//DTD MusicXML 3.0 Partwise//EN\\\" \\\"http://www.musicxml.org/dtds/partwise.dtd\\\">\\n<score-partwise version=\\\"3.0\\\">\\n  <movement-title>Music21 Fragment</movement-title>\\n  <identification>\\n    <creator type=\\\"composer\\\">Music21</creator>\\n    <encoding>\\n      <encoding-date>2020-02-27</encoding-date>\\n      <software>music21 v.5.7.2</software>\\n    </encoding>\\n  </identification>\\n  <defaults>\\n    <scaling>\\n      <millimeters>7</millimeters>\\n      <tenths>40</tenths>\\n    </scaling>\\n  </defaults>\\n  <part-list>\\n    <score-part id=\\\"P1fb6fda2d7eb4ca74e779218e04897e3\\\">\\n      <part-name />\\n    </score-part>\\n  </part-list>\\n  <!--=========================== Part 1 ===========================-->\\n  <part id=\\\"P1fb6fda2d7eb4ca74e779218e04897e3\\\">\\n    <!--========================= Measure 1 ==========================-->\\n    <measure number=\\\"1\\\">\\n      <attributes>\\n        <divisions>10080</divisions>\\n        <time>\\n          <beats>4</beats>\\n          <beat-type>4</beat-type>\\n        </time>\\n        <clef>\\n          <sign>G</sign>\\n          <line>2</line>\\n        </clef>\\n      </attributes>\\n      <note>\\n        <pitch>\\n          <step>E</step>\\n          <octave>5</octave>\\n        </pitch>\\n        <duration>15120</duration>\\n        <type>quarter</type>\\n        <dot />\\n      </note>\\n      <note>\\n        <pitch>\\n          <step>C</step>\\n          <alter>1</alter>\\n          <octave>5</octave>\\n        </pitch>\\n        <duration>10080</duration>\\n        <type>quarter</type>\\n        <accidental>sharp</accidental>\\n      </note>\\n      <note>\\n        <pitch>\\n          <step>E</step>\\n          <octave>5</octave>\\n        </pitch>\\n        <duration>5040</duration>\\n        <type>eighth</type>\\n      </note>\\n      <note>\\n        <pitch>\\n          <step>D</step>\\n          <octave>5</octave>\\n        </pitch>\\n        <duration>10080</duration>\\n        <tie type=\\\"start\\\" />\\n        <type>quarter</type>\\n        <notations>\\n          <tied type=\\\"start\\\" />\\n        </notations>\\n      </note>\\n    </measure>\\n    <!--========================= Measure 2 ==========================-->\\n    <measure number=\\\"2\\\">\\n      <note>\\n        <pitch>\\n          <step>D</step>\\n          <octave>5</octave>\\n        </pitch>\\n        <duration>10080</duration>\\n        <tie type=\\\"stop\\\" />\\n        <type>quarter</type>\\n        <notations>\\n          <tied type=\\\"stop\\\" />\\n        </notations>\\n      </note>\\n      <note>\\n        <pitch>\\n          <step>C</step>\\n          <alter>1</alter>\\n          <octave>5</octave>\\n        </pitch>\\n        <duration>10080</duration>\\n        <type>quarter</type>\\n        <accidental>sharp</accidental>\\n      </note>\\n      <note>\\n        <pitch>\\n          <step>D</step>\\n          <octave>5</octave>\\n        </pitch>\\n        <duration>10080</duration>\\n        <type>quarter</type>\\n      </note>\\n      <note>\\n        <pitch>\\n          <step>E</step>\\n          <octave>5</octave>\\n        </pitch>\\n        <duration>10080</duration>\\n        <type>quarter</type>\\n      </note>\\n    </measure>\\n    <!--========================= Measure 3 ==========================-->\\n    <measure number=\\\"3\\\">\\n      <note>\\n        <pitch>\\n          <step>C</step>\\n          <alter>1</alter>\\n          <octave>5</octave>\\n        </pitch>\\n        <duration>15120</duration>\\n        <type>quarter</type>\\n        <dot />\\n        <accidental>sharp</accidental>\\n      </note>\\n      <note>\\n        <pitch>\\n          <step>B</step>\\n          <alter>-1</alter>\\n          <octave>4</octave>\\n        </pitch>\\n        <duration>10080</duration>\\n        <type>quarter</type>\\n        <accidental>flat</accidental>\\n      </note>\\n      <note>\\n        <pitch>\\n          <step>F</step>\\n          <octave>4</octave>\\n        </pitch>\\n        <duration>10080</duration>\\n        <type>quarter</type>\\n      </note>\\n      <note>\\n        <pitch>\\n          <step>E</step>\\n          <octave>5</octave>\\n        </pitch>\\n        <duration>5040</duration>\\n        <tie type=\\\"start\\\" />\\n        <type>eighth</type>\\n        <notations>\\n          <tied type=\\\"start\\\" />\\n        </notations>\\n      </note>\\n    </measure>\\n    <!--========================= Measure 4 ==========================-->\\n    <measure number=\\\"4\\\">\\n      <note>\\n        <pitch>\\n          <step>E</step>\\n          <octave>5</octave>\\n        </pitch>\\n        <duration>5040</duration>\\n        <tie type=\\\"stop\\\" />\\n        <type>eighth</type>\\n        <notations>\\n          <tied type=\\\"stop\\\" />\\n        </notations>\\n      </note>\\n      <note>\\n        <pitch>\\n          <step>C</step>\\n          <alter>1</alter>\\n          <octave>5</octave>\\n        </pitch>\\n        <duration>15120</duration>\\n        <type>quarter</type>\\n        <dot />\\n        <accidental>sharp</accidental>\\n      </note>\\n      <note>\\n        <pitch>\\n          <step>D</step>\\n          <octave>5</octave>\\n        </pitch>\\n        <duration>10080</duration>\\n        <type>quarter</type>\\n      </note>\\n      <note>\\n        <pitch>\\n          <step>C</step>\\n          <alter>1</alter>\\n          <octave>5</octave>\\n        </pitch>\\n        <duration>10080</duration>\\n        <type>quarter</type>\\n        <accidental>sharp</accidental>\\n      </note>\\n    </measure>\\n    <!--========================= Measure 5 ==========================-->\\n    <measure number=\\\"5\\\">\\n      <note>\\n        <pitch>\\n          <step>B</step>\\n          <alter>-1</alter>\\n          <octave>4</octave>\\n        </pitch>\\n        <duration>10080</duration>\\n        <type>quarter</type>\\n        <accidental>flat</accidental>\\n      </note>\\n      <note>\\n        <pitch>\\n          <step>C</step>\\n          <alter>1</alter>\\n          <octave>5</octave>\\n        </pitch>\\n        <duration>20160</duration>\\n        <type>half</type>\\n        <accidental>sharp</accidental>\\n      </note>\\n      <note>\\n        <pitch>\\n          <step>B</step>\\n          <alter>-1</alter>\\n          <octave>4</octave>\\n        </pitch>\\n        <duration>5040</duration>\\n        <type>eighth</type>\\n        <accidental>flat</accidental>\\n        <beam number=\\\"1\\\">begin</beam>\\n      </note>\\n      <note>\\n        <pitch>\\n          <step>C</step>\\n          <alter>1</alter>\\n          <octave>5</octave>\\n        </pitch>\\n        <duration>5040</duration>\\n        <tie type=\\\"start\\\" />\\n        <type>eighth</type>\\n        <accidental>sharp</accidental>\\n        <beam number=\\\"1\\\">end</beam>\\n        <notations>\\n          <tied type=\\\"start\\\" />\\n        </notations>\\n      </note>\\n    </measure>\\n    <!--========================= Measure 6 ==========================-->\\n    <measure number=\\\"6\\\">\\n      <note>\\n        <pitch>\\n          <step>C</step>\\n          <alter>1</alter>\\n          <octave>5</octave>\\n        </pitch>\\n        <duration>5040</duration>\\n        <tie type=\\\"stop\\\" />\\n        <type>eighth</type>\\n        <notations>\\n          <tied type=\\\"stop\\\" />\\n        </notations>\\n      </note>\\n      <note>\\n        <pitch>\\n          <step>B</step>\\n          <alter>0</alter>\\n          <octave>4</octave>\\n        </pitch>\\n        <duration>15120</duration>\\n        <type>quarter</type>\\n        <dot />\\n        <accidental>natural</accidental>\\n      </note>\\n      <note>\\n        <pitch>\\n          <step>E</step>\\n          <octave>5</octave>\\n        </pitch>\\n        <duration>15120</duration>\\n        <type>quarter</type>\\n        <dot />\\n      </note>\\n      <note>\\n        <pitch>\\n          <step>C</step>\\n          <alter>1</alter>\\n          <octave>5</octave>\\n        </pitch>\\n        <duration>5040</duration>\\n        <tie type=\\\"start\\\" />\\n        <type>eighth</type>\\n        <accidental>sharp</accidental>\\n        <notations>\\n          <tied type=\\\"start\\\" />\\n        </notations>\\n      </note>\\n    </measure>\\n    <!--========================= Measure 7 ==========================-->\\n    <measure number=\\\"7\\\">\\n      <note>\\n        <pitch>\\n          <step>C</step>\\n          <alter>1</alter>\\n          <octave>5</octave>\\n        </pitch>\\n        <duration>5040</duration>\\n        <tie type=\\\"stop\\\" />\\n        <type>eighth</type>\\n        <notations>\\n          <tied type=\\\"stop\\\" />\\n        </notations>\\n      </note>\\n      <note>\\n        <pitch>\\n          <step>E</step>\\n          <octave>5</octave>\\n        </pitch>\\n        <duration>15120</duration>\\n        <type>quarter</type>\\n        <dot />\\n      </note>\\n      <note>\\n        <pitch>\\n          <step>D</step>\\n          <octave>5</octave>\\n        </pitch>\\n        <duration>10080</duration>\\n        <type>quarter</type>\\n      </note>\\n      <note>\\n        <pitch>\\n          <step>C</step>\\n          <alter>1</alter>\\n          <octave>5</octave>\\n        </pitch>\\n        <duration>10080</duration>\\n        <type>quarter</type>\\n        <accidental>sharp</accidental>\\n      </note>\\n    </measure>\\n    <!--========================= Measure 8 ==========================-->\\n    <measure number=\\\"8\\\">\\n      <note>\\n        <pitch>\\n          <step>D</step>\\n          <octave>5</octave>\\n        </pitch>\\n        <duration>10080</duration>\\n        <type>quarter</type>\\n      </note>\\n      <note>\\n        <pitch>\\n          <step>E</step>\\n          <octave>5</octave>\\n        </pitch>\\n        <duration>15120</duration>\\n        <type>quarter</type>\\n        <dot />\\n      </note>\\n      <note>\\n        <pitch>\\n          <step>C</step>\\n          <alter>1</alter>\\n          <octave>5</octave>\\n        </pitch>\\n        <duration>5040</duration>\\n        <type>eighth</type>\\n        <accidental>sharp</accidental>\\n      </note>\\n      <note>\\n        <pitch>\\n          <step>B</step>\\n          <alter>-1</alter>\\n          <octave>4</octave>\\n        </pitch>\\n        <duration>10080</duration>\\n        <type>quarter</type>\\n        <accidental>flat</accidental>\\n      </note>\\n    </measure>\\n    <!--========================= Measure 9 ==========================-->\\n    <measure number=\\\"9\\\">\\n      <note>\\n        <pitch>\\n          <step>F</step>\\n          <octave>4</octave>\\n        </pitch>\\n        <duration>15120</duration>\\n        <type>quarter</type>\\n        <dot />\\n      </note>\\n      <note>\\n        <pitch>\\n          <step>G</step>\\n          <alter>1</alter>\\n          <octave>4</octave>\\n        </pitch>\\n        <duration>15120</duration>\\n        <type>quarter</type>\\n        <dot />\\n        <accidental>sharp</accidental>\\n      </note>\\n      <note>\\n        <pitch>\\n          <step>F</step>\\n          <octave>4</octave>\\n        </pitch>\\n        <duration>10080</duration>\\n        <type>quarter</type>\\n      </note>\\n    </measure>\\n    <!--========================= Measure 10 =========================-->\\n    <measure number=\\\"10\\\">\\n      <note>\\n        <pitch>\\n          <step>G</step>\\n          <alter>1</alter>\\n          <octave>4</octave>\\n        </pitch>\\n        <duration>10080</duration>\\n        <type>quarter</type>\\n        <accidental>sharp</accidental>\\n      </note>\\n      <note>\\n        <pitch>\\n          <step>B</step>\\n          <alter>-1</alter>\\n          <octave>4</octave>\\n        </pitch>\\n        <duration>10080</duration>\\n        <type>quarter</type>\\n        <accidental>flat</accidental>\\n      </note>\\n      <note>\\n        <pitch>\\n          <step>C</step>\\n          <alter>1</alter>\\n          <octave>5</octave>\\n        </pitch>\\n        <duration>10080</duration>\\n        <type>quarter</type>\\n        <accidental>sharp</accidental>\\n      </note>\\n      <note>\\n        <pitch>\\n          <step>E</step>\\n          <octave>5</octave>\\n        </pitch>\\n        <duration>10080</duration>\\n        <tie type=\\\"start\\\" />\\n        <type>quarter</type>\\n        <notations>\\n          <tied type=\\\"start\\\" />\\n        </notations>\\n      </note>\\n    </measure>\\n    <!--========================= Measure 11 =========================-->\\n    <measure number=\\\"11\\\">\\n      <note>\\n        <pitch>\\n          <step>E</step>\\n          <octave>5</octave>\\n        </pitch>\\n        <duration>5040</duration>\\n        <tie type=\\\"stop\\\" />\\n        <type>eighth</type>\\n        <notations>\\n          <tied type=\\\"stop\\\" />\\n        </notations>\\n      </note>\\n      <note>\\n        <pitch>\\n          <step>D</step>\\n          <octave>5</octave>\\n        </pitch>\\n        <duration>10080</duration>\\n        <type>quarter</type>\\n      </note>\\n      <note>\\n        <pitch>\\n          <step>C</step>\\n          <alter>1</alter>\\n          <octave>5</octave>\\n        </pitch>\\n        <duration>10080</duration>\\n        <type>quarter</type>\\n        <accidental>sharp</accidental>\\n      </note>\\n      <note>\\n        <pitch>\\n          <step>B</step>\\n          <alter>-1</alter>\\n          <octave>4</octave>\\n        </pitch>\\n        <duration>15120</duration>\\n        <type>quarter</type>\\n        <dot />\\n        <accidental>flat</accidental>\\n      </note>\\n    </measure>\\n    <!--========================= Measure 12 =========================-->\\n    <measure number=\\\"12\\\">\\n      <note>\\n        <pitch>\\n          <step>A</step>\\n          <octave>4</octave>\\n        </pitch>\\n        <duration>15120</duration>\\n        <type>quarter</type>\\n        <dot />\\n      </note>\\n      <note>\\n        <pitch>\\n          <step>B</step>\\n          <alter>0</alter>\\n          <octave>4</octave>\\n        </pitch>\\n        <duration>10080</duration>\\n        <type>quarter</type>\\n        <accidental>natural</accidental>\\n      </note>\\n      <note>\\n        <pitch>\\n          <step>G</step>\\n          <alter>1</alter>\\n          <octave>4</octave>\\n        </pitch>\\n        <duration>10080</duration>\\n        <type>quarter</type>\\n        <accidental>sharp</accidental>\\n      </note>\\n      <note>\\n        <pitch>\\n          <step>B</step>\\n          <octave>4</octave>\\n        </pitch>\\n        <duration>5040</duration>\\n        <tie type=\\\"start\\\" />\\n        <type>eighth</type>\\n        <notations>\\n          <tied type=\\\"start\\\" />\\n        </notations>\\n      </note>\\n    </measure>\\n    <!--========================= Measure 13 =========================-->\\n    <measure number=\\\"13\\\">\\n      <note>\\n        <pitch>\\n          <step>B</step>\\n          <octave>4</octave>\\n        </pitch>\\n        <duration>10080</duration>\\n        <tie type=\\\"stop\\\" />\\n        <type>quarter</type>\\n        <notations>\\n          <tied type=\\\"stop\\\" />\\n        </notations>\\n      </note>\\n      <note>\\n        <pitch>\\n          <step>G</step>\\n          <alter>1</alter>\\n          <octave>4</octave>\\n        </pitch>\\n        <duration>10080</duration>\\n        <type>quarter</type>\\n        <accidental>sharp</accidental>\\n      </note>\\n      <note>\\n        <pitch>\\n          <step>B</step>\\n          <octave>4</octave>\\n        </pitch>\\n        <duration>10080</duration>\\n        <type>quarter</type>\\n      </note>\\n      <note>\\n        <pitch>\\n          <step>A</step>\\n          <octave>4</octave>\\n        </pitch>\\n        <duration>10080</duration>\\n        <type>quarter</type>\\n      </note>\\n    </measure>\\n    <!--========================= Measure 14 =========================-->\\n    <measure number=\\\"14\\\">\\n      <note>\\n        <pitch>\\n          <step>G</step>\\n          <alter>1</alter>\\n          <octave>4</octave>\\n        </pitch>\\n        <duration>10080</duration>\\n        <type>quarter</type>\\n        <accidental>sharp</accidental>\\n      </note>\\n      <note>\\n        <pitch>\\n          <step>G</step>\\n          <alter>1</alter>\\n          <octave>4</octave>\\n        </pitch>\\n        <duration>5040</duration>\\n        <type>eighth</type>\\n      </note>\\n      <note>\\n        <pitch>\\n          <step>B</step>\\n          <octave>4</octave>\\n        </pitch>\\n        <duration>10080</duration>\\n        <type>quarter</type>\\n      </note>\\n      <note>\\n        <pitch>\\n          <step>C</step>\\n          <octave>4</octave>\\n        </pitch>\\n        <duration>15120</duration>\\n        <type>quarter</type>\\n        <dot />\\n      </note>\\n    </measure>\\n    <!--========================= Measure 15 =========================-->\\n    <measure number=\\\"15\\\">\\n      <note>\\n        <pitch>\\n          <step>F</step>\\n          <octave>4</octave>\\n        </pitch>\\n        <duration>15120</duration>\\n        <type>quarter</type>\\n        <dot />\\n      </note>\\n      <note>\\n        <pitch>\\n          <step>G</step>\\n          <alter>1</alter>\\n          <octave>4</octave>\\n        </pitch>\\n        <duration>10080</duration>\\n        <type>quarter</type>\\n        <accidental>sharp</accidental>\\n      </note>\\n      <note>\\n        <pitch>\\n          <step>F</step>\\n          <octave>4</octave>\\n        </pitch>\\n        <duration>10080</duration>\\n        <type>quarter</type>\\n      </note>\\n      <note>\\n        <pitch>\\n          <step>G</step>\\n          <alter>1</alter>\\n          <octave>4</octave>\\n        </pitch>\\n        <duration>5040</duration>\\n        <tie type=\\\"start\\\" />\\n        <type>eighth</type>\\n        <accidental>sharp</accidental>\\n        <notations>\\n          <tied type=\\\"start\\\" />\\n        </notations>\\n      </note>\\n    </measure>\\n    <!--========================= Measure 16 =========================-->\\n    <measure number=\\\"16\\\">\\n      <note>\\n        <pitch>\\n          <step>G</step>\\n          <alter>1</alter>\\n          <octave>4</octave>\\n        </pitch>\\n        <duration>5040</duration>\\n        <tie type=\\\"stop\\\" />\\n        <type>eighth</type>\\n        <notations>\\n          <tied type=\\\"stop\\\" />\\n        </notations>\\n      </note>\\n      <note>\\n        <pitch>\\n          <step>A</step>\\n          <octave>4</octave>\\n        </pitch>\\n        <duration>15120</duration>\\n        <type>quarter</type>\\n        <dot />\\n      </note>\\n      <note>\\n        <pitch>\\n          <step>B</step>\\n          <octave>4</octave>\\n        </pitch>\\n        <duration>15120</duration>\\n        <type>quarter</type>\\n        <dot />\\n      </note>\\n      <note>\\n        <pitch>\\n          <step>F</step>\\n          <alter>1</alter>\\n          <octave>4</octave>\\n        </pitch>\\n        <duration>5040</duration>\\n        <tie type=\\\"start\\\" />\\n        <type>eighth</type>\\n        <accidental>sharp</accidental>\\n        <notations>\\n          <tied type=\\\"start\\\" />\\n        </notations>\\n      </note>\\n    </measure>\\n    <!--========================= Measure 17 =========================-->\\n    <measure number=\\\"17\\\">\\n      <note>\\n        <pitch>\\n          <step>F</step>\\n          <alter>1</alter>\\n          <octave>4</octave>\\n        </pitch>\\n        <duration>10080</duration>\\n        <tie type=\\\"stop\\\" />\\n        <type>quarter</type>\\n        <notations>\\n          <tied type=\\\"stop\\\" />\\n        </notations>\\n      </note>\\n      <note>\\n        <pitch>\\n          <step>G</step>\\n          <alter>1</alter>\\n          <octave>4</octave>\\n        </pitch>\\n        <duration>10080</duration>\\n        <type>quarter</type>\\n        <accidental>sharp</accidental>\\n      </note>\\n      <note>\\n        <pitch>\\n          <step>F</step>\\n          <alter>0</alter>\\n          <octave>4</octave>\\n        </pitch>\\n        <duration>15120</duration>\\n        <type>quarter</type>\\n        <dot />\\n        <accidental>natural</accidental>\\n      </note>\\n      <note>\\n        <pitch>\\n          <step>G</step>\\n          <alter>1</alter>\\n          <octave>4</octave>\\n        </pitch>\\n        <duration>5040</duration>\\n        <tie type=\\\"start\\\" />\\n        <type>eighth</type>\\n        <accidental>sharp</accidental>\\n        <notations>\\n          <tied type=\\\"start\\\" />\\n        </notations>\\n      </note>\\n    </measure>\\n    <!--========================= Measure 18 =========================-->\\n    <measure number=\\\"18\\\">\\n      <note>\\n        <pitch>\\n          <step>G</step>\\n          <alter>1</alter>\\n          <octave>4</octave>\\n        </pitch>\\n        <duration>5040</duration>\\n        <tie type=\\\"stop\\\" />\\n        <type>eighth</type>\\n        <notations>\\n          <tied type=\\\"stop\\\" />\\n        </notations>\\n      </note>\\n      <note>\\n        <pitch>\\n          <step>A</step>\\n          <octave>4</octave>\\n        </pitch>\\n        <duration>20160</duration>\\n        <type>half</type>\\n      </note>\\n      <note>\\n        <pitch>\\n          <step>B</step>\\n          <octave>4</octave>\\n        </pitch>\\n        <duration>5040</duration>\\n        <type>eighth</type>\\n      </note>\\n      <note>\\n        <pitch>\\n          <step>G</step>\\n          <alter>1</alter>\\n          <octave>4</octave>\\n        </pitch>\\n        <duration>10080</duration>\\n        <type>quarter</type>\\n        <accidental>sharp</accidental>\\n      </note>\\n    </measure>\\n    <!--========================= Measure 19 =========================-->\\n    <measure number=\\\"19\\\">\\n      <note>\\n        <pitch>\\n          <step>F</step>\\n          <octave>4</octave>\\n        </pitch>\\n        <duration>10080</duration>\\n        <type>quarter</type>\\n      </note>\\n      <note>\\n        <pitch>\\n          <step>G</step>\\n          <alter>1</alter>\\n          <octave>4</octave>\\n        </pitch>\\n        <duration>15120</duration>\\n        <type>quarter</type>\\n        <dot />\\n        <accidental>sharp</accidental>\\n      </note>\\n      <note>\\n        <pitch>\\n          <step>B</step>\\n          <octave>4</octave>\\n        </pitch>\\n        <duration>10080</duration>\\n        <type>quarter</type>\\n      </note>\\n      <note>\\n        <pitch>\\n          <step>A</step>\\n          <octave>4</octave>\\n        </pitch>\\n        <duration>5040</duration>\\n        <tie type=\\\"start\\\" />\\n        <type>eighth</type>\\n        <notations>\\n          <tied type=\\\"start\\\" />\\n        </notations>\\n      </note>\\n    </measure>\\n    <!--========================= Measure 20 =========================-->\\n    <measure number=\\\"20\\\">\\n      <note>\\n        <pitch>\\n          <step>A</step>\\n          <octave>4</octave>\\n        </pitch>\\n        <duration>5040</duration>\\n        <tie type=\\\"stop\\\" />\\n        <type>eighth</type>\\n        <notations>\\n          <tied type=\\\"stop\\\" />\\n        </notations>\\n      </note>\\n      <note>\\n        <pitch>\\n          <step>E</step>\\n          <alter>-1</alter>\\n          <octave>4</octave>\\n        </pitch>\\n        <duration>10080</duration>\\n        <type>quarter</type>\\n        <accidental>flat</accidental>\\n      </note>\\n      <note>\\n        <pitch>\\n          <step>C</step>\\n          <octave>4</octave>\\n        </pitch>\\n        <duration>15120</duration>\\n        <type>quarter</type>\\n        <dot />\\n      </note>\\n      <note>\\n        <pitch>\\n          <step>E</step>\\n          <alter>-1</alter>\\n          <octave>4</octave>\\n        </pitch>\\n        <duration>10080</duration>\\n        <type>quarter</type>\\n        <accidental>flat</accidental>\\n      </note>\\n    </measure>\\n    <!--========================= Measure 21 =========================-->\\n    <measure number=\\\"21\\\">\\n      <note>\\n        <pitch>\\n          <step>C</step>\\n          <octave>4</octave>\\n        </pitch>\\n        <duration>10080</duration>\\n        <type>quarter</type>\\n      </note>\\n      <note>\\n        <pitch>\\n          <step>A</step>\\n          <octave>4</octave>\\n        </pitch>\\n        <duration>5040</duration>\\n        <type>eighth</type>\\n      </note>\\n      <note>\\n        <pitch>\\n          <step>B</step>\\n          <octave>4</octave>\\n        </pitch>\\n        <duration>20160</duration>\\n        <type>half</type>\\n      </note>\\n      <note>\\n        <pitch>\\n          <step>G</step>\\n          <alter>1</alter>\\n          <octave>4</octave>\\n        </pitch>\\n        <duration>5040</duration>\\n        <tie type=\\\"start\\\" />\\n        <type>eighth</type>\\n        <accidental>sharp</accidental>\\n        <notations>\\n          <tied type=\\\"start\\\" />\\n        </notations>\\n      </note>\\n    </measure>\\n    <!--========================= Measure 22 =========================-->\\n    <measure number=\\\"22\\\">\\n      <note>\\n        <pitch>\\n          <step>G</step>\\n          <alter>1</alter>\\n          <octave>4</octave>\\n        </pitch>\\n        <duration>5040</duration>\\n        <tie type=\\\"stop\\\" />\\n        <type>eighth</type>\\n        <notations>\\n          <tied type=\\\"stop\\\" />\\n        </notations>\\n      </note>\\n      <note>\\n        <pitch>\\n          <step>F</step>\\n          <octave>4</octave>\\n        </pitch>\\n        <duration>10080</duration>\\n        <type>quarter</type>\\n      </note>\\n      <note>\\n        <pitch>\\n          <step>G</step>\\n          <alter>1</alter>\\n          <octave>4</octave>\\n        </pitch>\\n        <duration>10080</duration>\\n        <type>quarter</type>\\n        <accidental>sharp</accidental>\\n      </note>\\n      <note>\\n        <pitch>\\n          <step>B</step>\\n          <octave>4</octave>\\n        </pitch>\\n        <duration>15120</duration>\\n        <type>quarter</type>\\n        <dot />\\n      </note>\\n    </measure>\\n    <!--========================= Measure 23 =========================-->\\n    <measure number=\\\"23\\\">\\n      <note>\\n        <pitch>\\n          <step>F</step>\\n          <octave>4</octave>\\n        </pitch>\\n        <duration>15120</duration>\\n        <type>quarter</type>\\n        <dot />\\n      </note>\\n      <note>\\n        <pitch>\\n          <step>G</step>\\n          <alter>1</alter>\\n          <octave>4</octave>\\n        </pitch>\\n        <duration>10080</duration>\\n        <type>quarter</type>\\n        <accidental>sharp</accidental>\\n      </note>\\n      <note>\\n        <pitch>\\n          <step>B</step>\\n          <octave>4</octave>\\n        </pitch>\\n        <duration>10080</duration>\\n        <type>quarter</type>\\n      </note>\\n      <note>\\n        <pitch>\\n          <step>E</step>\\n          <octave>5</octave>\\n        </pitch>\\n        <duration>5040</duration>\\n        <tie type=\\\"start\\\" />\\n        <type>eighth</type>\\n        <notations>\\n          <tied type=\\\"start\\\" />\\n        </notations>\\n      </note>\\n    </measure>\\n    <!--========================= Measure 24 =========================-->\\n    <measure number=\\\"24\\\">\\n      <note>\\n        <pitch>\\n          <step>E</step>\\n          <octave>5</octave>\\n        </pitch>\\n        <duration>10080</duration>\\n        <tie type=\\\"stop\\\" />\\n        <type>quarter</type>\\n        <notations>\\n          <tied type=\\\"stop\\\" />\\n        </notations>\\n      </note>\\n      <note>\\n        <pitch>\\n          <step>C</step>\\n          <alter>1</alter>\\n          <octave>5</octave>\\n        </pitch>\\n        <duration>10080</duration>\\n        <type>quarter</type>\\n        <accidental>sharp</accidental>\\n      </note>\\n      <note>\\n        <pitch>\\n          <step>E</step>\\n          <octave>5</octave>\\n        </pitch>\\n        <duration>5040</duration>\\n        <type>eighth</type>\\n      </note>\\n      <note>\\n        <pitch>\\n          <step>D</step>\\n          <octave>5</octave>\\n        </pitch>\\n        <duration>15120</duration>\\n        <tie type=\\\"start\\\" />\\n        <type>quarter</type>\\n        <dot />\\n        <notations>\\n          <tied type=\\\"start\\\" />\\n        </notations>\\n      </note>\\n    </measure>\\n    <!--========================= Measure 25 =========================-->\\n    <measure number=\\\"25\\\">\\n      <note>\\n        <pitch>\\n          <step>D</step>\\n          <octave>5</octave>\\n        </pitch>\\n        <duration>5040</duration>\\n        <tie type=\\\"stop\\\" />\\n        <type>eighth</type>\\n        <notations>\\n          <tied type=\\\"stop\\\" />\\n        </notations>\\n      </note>\\n      <note>\\n        <pitch>\\n          <step>C</step>\\n          <alter>1</alter>\\n          <octave>5</octave>\\n        </pitch>\\n        <duration>10080</duration>\\n        <type>quarter</type>\\n        <accidental>sharp</accidental>\\n      </note>\\n      <note>\\n        <pitch>\\n          <step>D</step>\\n          <octave>5</octave>\\n        </pitch>\\n        <duration>10080</duration>\\n        <type>quarter</type>\\n      </note>\\n      <note>\\n        <pitch>\\n          <step>E</step>\\n          <octave>5</octave>\\n        </pitch>\\n        <duration>10080</duration>\\n        <type>quarter</type>\\n      </note>\\n      <note>\\n        <pitch>\\n          <step>C</step>\\n          <alter>1</alter>\\n          <octave>5</octave>\\n        </pitch>\\n        <duration>5040</duration>\\n        <tie type=\\\"start\\\" />\\n        <type>eighth</type>\\n        <accidental>sharp</accidental>\\n        <notations>\\n          <tied type=\\\"start\\\" />\\n        </notations>\\n      </note>\\n    </measure>\\n    <!--========================= Measure 26 =========================-->\\n    <measure number=\\\"26\\\">\\n      <note>\\n        <pitch>\\n          <step>C</step>\\n          <alter>1</alter>\\n          <octave>5</octave>\\n        </pitch>\\n        <duration>10080</duration>\\n        <tie type=\\\"stop\\\" />\\n        <type>quarter</type>\\n        <notations>\\n          <tied type=\\\"stop\\\" />\\n        </notations>\\n      </note>\\n      <note>\\n        <pitch>\\n          <step>B</step>\\n          <alter>-1</alter>\\n          <octave>4</octave>\\n        </pitch>\\n        <duration>10080</duration>\\n        <type>quarter</type>\\n        <accidental>flat</accidental>\\n      </note>\\n      <note>\\n        <pitch>\\n          <step>F</step>\\n          <octave>4</octave>\\n        </pitch>\\n        <duration>10080</duration>\\n        <type>quarter</type>\\n      </note>\\n      <note>\\n        <pitch>\\n          <step>E</step>\\n          <octave>5</octave>\\n        </pitch>\\n        <duration>10080</duration>\\n        <type>quarter</type>\\n      </note>\\n    </measure>\\n    <!--========================= Measure 27 =========================-->\\n    <measure number=\\\"27\\\">\\n      <note>\\n        <pitch>\\n          <step>C</step>\\n          <alter>1</alter>\\n          <octave>5</octave>\\n        </pitch>\\n        <duration>15120</duration>\\n        <type>quarter</type>\\n        <dot />\\n        <accidental>sharp</accidental>\\n      </note>\\n      <note>\\n        <pitch>\\n          <step>D</step>\\n          <octave>5</octave>\\n        </pitch>\\n        <duration>10080</duration>\\n        <type>quarter</type>\\n      </note>\\n      <note>\\n        <pitch>\\n          <step>C</step>\\n          <alter>1</alter>\\n          <octave>5</octave>\\n        </pitch>\\n        <duration>10080</duration>\\n        <type>quarter</type>\\n        <accidental>sharp</accidental>\\n      </note>\\n      <note>\\n        <pitch>\\n          <step>B</step>\\n          <alter>-1</alter>\\n          <octave>4</octave>\\n        </pitch>\\n        <duration>5040</duration>\\n        <tie type=\\\"start\\\" />\\n        <type>eighth</type>\\n        <accidental>flat</accidental>\\n        <notations>\\n          <tied type=\\\"start\\\" />\\n        </notations>\\n      </note>\\n    </measure>\\n    <!--========================= Measure 28 =========================-->\\n    <measure number=\\\"28\\\">\\n      <note>\\n        <pitch>\\n          <step>B</step>\\n          <alter>-1</alter>\\n          <octave>4</octave>\\n        </pitch>\\n        <duration>5040</duration>\\n        <tie type=\\\"stop\\\" />\\n        <type>eighth</type>\\n        <notations>\\n          <tied type=\\\"stop\\\" />\\n        </notations>\\n      </note>\\n      <note>\\n        <pitch>\\n          <step>C</step>\\n          <alter>1</alter>\\n          <octave>5</octave>\\n        </pitch>\\n        <duration>20160</duration>\\n        <type>half</type>\\n        <accidental>sharp</accidental>\\n      </note>\\n      <note>\\n        <pitch>\\n          <step>B</step>\\n          <alter>-1</alter>\\n          <octave>4</octave>\\n        </pitch>\\n        <duration>5040</duration>\\n        <type>eighth</type>\\n        <accidental>flat</accidental>\\n      </note>\\n      <note>\\n        <pitch>\\n          <step>C</step>\\n          <alter>1</alter>\\n          <octave>5</octave>\\n        </pitch>\\n        <duration>10080</duration>\\n        <type>quarter</type>\\n        <accidental>sharp</accidental>\\n      </note>\\n    </measure>\\n    <!--========================= Measure 29 =========================-->\\n    <measure number=\\\"29\\\">\\n      <note>\\n        <pitch>\\n          <step>B</step>\\n          <alter>0</alter>\\n          <octave>4</octave>\\n        </pitch>\\n        <duration>15120</duration>\\n        <type>quarter</type>\\n        <dot />\\n        <accidental>natural</accidental>\\n      </note>\\n      <note>\\n        <pitch>\\n          <step>E</step>\\n          <octave>5</octave>\\n        </pitch>\\n        <duration>15120</duration>\\n        <type>quarter</type>\\n        <dot />\\n      </note>\\n      <note>\\n        <pitch>\\n          <step>C</step>\\n          <alter>1</alter>\\n          <octave>5</octave>\\n        </pitch>\\n        <duration>10080</duration>\\n        <type>quarter</type>\\n        <accidental>sharp</accidental>\\n      </note>\\n    </measure>\\n    <!--========================= Measure 30 =========================-->\\n    <measure number=\\\"30\\\">\\n      <note>\\n        <pitch>\\n          <step>E</step>\\n          <octave>5</octave>\\n        </pitch>\\n        <duration>15120</duration>\\n        <type>quarter</type>\\n        <dot />\\n      </note>\\n      <note>\\n        <pitch>\\n          <step>D</step>\\n          <octave>5</octave>\\n        </pitch>\\n        <duration>10080</duration>\\n        <type>quarter</type>\\n      </note>\\n      <note>\\n        <pitch>\\n          <step>C</step>\\n          <alter>1</alter>\\n          <octave>5</octave>\\n        </pitch>\\n        <duration>10080</duration>\\n        <type>quarter</type>\\n        <accidental>sharp</accidental>\\n      </note>\\n      <note>\\n        <pitch>\\n          <step>D</step>\\n          <octave>5</octave>\\n        </pitch>\\n        <duration>5040</duration>\\n        <tie type=\\\"start\\\" />\\n        <type>eighth</type>\\n        <notations>\\n          <tied type=\\\"start\\\" />\\n        </notations>\\n      </note>\\n    </measure>\\n    <!--========================= Measure 31 =========================-->\\n    <measure number=\\\"31\\\">\\n      <note>\\n        <pitch>\\n          <step>D</step>\\n          <octave>5</octave>\\n        </pitch>\\n        <duration>5040</duration>\\n        <tie type=\\\"stop\\\" />\\n        <type>eighth</type>\\n        <notations>\\n          <tied type=\\\"stop\\\" />\\n        </notations>\\n      </note>\\n      <note>\\n        <pitch>\\n          <step>E</step>\\n          <octave>5</octave>\\n        </pitch>\\n        <duration>15120</duration>\\n        <type>quarter</type>\\n        <dot />\\n      </note>\\n      <note>\\n        <pitch>\\n          <step>C</step>\\n          <alter>1</alter>\\n          <octave>5</octave>\\n        </pitch>\\n        <duration>5040</duration>\\n        <type>eighth</type>\\n        <accidental>sharp</accidental>\\n      </note>\\n      <note>\\n        <pitch>\\n          <step>B</step>\\n          <alter>-1</alter>\\n          <octave>4</octave>\\n        </pitch>\\n        <duration>10080</duration>\\n        <type>quarter</type>\\n        <accidental>flat</accidental>\\n      </note>\\n      <note>\\n        <pitch>\\n          <step>F</step>\\n          <octave>4</octave>\\n        </pitch>\\n        <duration>5040</duration>\\n        <tie type=\\\"start\\\" />\\n        <type>eighth</type>\\n        <notations>\\n          <tied type=\\\"start\\\" />\\n        </notations>\\n      </note>\\n    </measure>\\n    <!--========================= Measure 32 =========================-->\\n    <measure number=\\\"32\\\">\\n      <note>\\n        <pitch>\\n          <step>F</step>\\n          <octave>4</octave>\\n        </pitch>\\n        <duration>10080</duration>\\n        <tie type=\\\"stop\\\" />\\n        <type>quarter</type>\\n        <notations>\\n          <tied type=\\\"stop\\\" />\\n        </notations>\\n      </note>\\n      <note>\\n        <pitch>\\n          <step>G</step>\\n          <alter>1</alter>\\n          <octave>4</octave>\\n        </pitch>\\n        <duration>15120</duration>\\n        <type>quarter</type>\\n        <dot />\\n        <accidental>sharp</accidental>\\n      </note>\\n      <note>\\n        <pitch>\\n          <step>F</step>\\n          <octave>4</octave>\\n        </pitch>\\n        <duration>10080</duration>\\n        <type>quarter</type>\\n      </note>\\n      <note>\\n        <pitch>\\n          <step>G</step>\\n          <alter>1</alter>\\n          <octave>4</octave>\\n        </pitch>\\n        <duration>5040</duration>\\n        <tie type=\\\"start\\\" />\\n        <type>eighth</type>\\n        <accidental>sharp</accidental>\\n        <notations>\\n          <tied type=\\\"start\\\" />\\n        </notations>\\n      </note>\\n    </measure>\\n    <!--========================= Measure 33 =========================-->\\n    <measure number=\\\"33\\\">\\n      <note>\\n        <pitch>\\n          <step>G</step>\\n          <alter>1</alter>\\n          <octave>4</octave>\\n        </pitch>\\n        <duration>5040</duration>\\n        <tie type=\\\"stop\\\" />\\n        <type>eighth</type>\\n        <notations>\\n          <tied type=\\\"stop\\\" />\\n        </notations>\\n      </note>\\n      <note>\\n        <pitch>\\n          <step>B</step>\\n          <alter>-1</alter>\\n          <octave>4</octave>\\n        </pitch>\\n        <duration>10080</duration>\\n        <type>quarter</type>\\n        <accidental>flat</accidental>\\n      </note>\\n      <note>\\n        <pitch>\\n          <step>C</step>\\n          <alter>1</alter>\\n          <octave>5</octave>\\n        </pitch>\\n        <duration>10080</duration>\\n        <type>quarter</type>\\n        <accidental>sharp</accidental>\\n      </note>\\n      <note>\\n        <pitch>\\n          <step>E</step>\\n          <octave>5</octave>\\n        </pitch>\\n        <duration>15120</duration>\\n        <type>quarter</type>\\n        <dot />\\n      </note>\\n    </measure>\\n    <!--========================= Measure 34 =========================-->\\n    <measure number=\\\"34\\\">\\n      <note>\\n        <pitch>\\n          <step>D</step>\\n          <octave>5</octave>\\n        </pitch>\\n        <duration>10080</duration>\\n        <type>quarter</type>\\n      </note>\\n      <note>\\n        <pitch>\\n          <step>C</step>\\n          <alter>1</alter>\\n          <octave>5</octave>\\n        </pitch>\\n        <duration>10080</duration>\\n        <type>quarter</type>\\n        <accidental>sharp</accidental>\\n      </note>\\n      <note>\\n        <pitch>\\n          <step>B</step>\\n          <alter>-1</alter>\\n          <octave>4</octave>\\n        </pitch>\\n        <duration>15120</duration>\\n        <type>quarter</type>\\n        <dot />\\n        <accidental>flat</accidental>\\n      </note>\\n      <note>\\n        <pitch>\\n          <step>D</step>\\n          <octave>5</octave>\\n        </pitch>\\n        <duration>5040</duration>\\n        <tie type=\\\"start\\\" />\\n        <type>eighth</type>\\n        <notations>\\n          <tied type=\\\"start\\\" />\\n        </notations>\\n      </note>\\n    </measure>\\n    <!--========================= Measure 35 =========================-->\\n    <measure number=\\\"35\\\">\\n      <note>\\n        <pitch>\\n          <step>D</step>\\n          <octave>5</octave>\\n        </pitch>\\n        <duration>10080</duration>\\n        <tie type=\\\"stop\\\" />\\n        <type>quarter</type>\\n        <notations>\\n          <tied type=\\\"stop\\\" />\\n        </notations>\\n      </note>\\n      <note>\\n        <pitch>\\n          <step>E</step>\\n          <octave>5</octave>\\n        </pitch>\\n        <duration>10080</duration>\\n        <type>quarter</type>\\n      </note>\\n      <note>\\n        <pitch>\\n          <step>C</step>\\n          <alter>1</alter>\\n          <octave>5</octave>\\n        </pitch>\\n        <duration>10080</duration>\\n        <type>quarter</type>\\n        <accidental>sharp</accidental>\\n      </note>\\n      <note>\\n        <pitch>\\n          <step>E</step>\\n          <octave>5</octave>\\n        </pitch>\\n        <duration>10080</duration>\\n        <tie type=\\\"start\\\" />\\n        <type>quarter</type>\\n        <notations>\\n          <tied type=\\\"start\\\" />\\n        </notations>\\n      </note>\\n    </measure>\\n    <!--========================= Measure 36 =========================-->\\n    <measure number=\\\"36\\\">\\n      <note>\\n        <pitch>\\n          <step>E</step>\\n          <octave>5</octave>\\n        </pitch>\\n        <duration>5040</duration>\\n        <tie type=\\\"stop\\\" />\\n        <type>eighth</type>\\n        <notations>\\n          <tied type=\\\"stop\\\" />\\n        </notations>\\n      </note>\\n      <note>\\n        <pitch>\\n          <step>C</step>\\n          <alter>1</alter>\\n          <octave>5</octave>\\n        </pitch>\\n        <duration>10080</duration>\\n        <type>quarter</type>\\n        <accidental>sharp</accidental>\\n      </note>\\n      <note>\\n        <pitch>\\n          <step>E</step>\\n          <octave>5</octave>\\n        </pitch>\\n        <duration>10080</duration>\\n        <type>quarter</type>\\n      </note>\\n      <note>\\n        <pitch>\\n          <step>D</step>\\n          <octave>5</octave>\\n        </pitch>\\n        <duration>10080</duration>\\n        <type>quarter</type>\\n      </note>\\n      <note>\\n        <pitch>\\n          <step>C</step>\\n          <alter>1</alter>\\n          <octave>5</octave>\\n        </pitch>\\n        <duration>5040</duration>\\n        <tie type=\\\"start\\\" />\\n        <type>eighth</type>\\n        <accidental>sharp</accidental>\\n        <notations>\\n          <tied type=\\\"start\\\" />\\n        </notations>\\n      </note>\\n    </measure>\\n    <!--========================= Measure 37 =========================-->\\n    <measure number=\\\"37\\\">\\n      <note>\\n        <pitch>\\n          <step>C</step>\\n          <alter>1</alter>\\n          <octave>5</octave>\\n        </pitch>\\n        <duration>5040</duration>\\n        <tie type=\\\"stop\\\" />\\n        <type>eighth</type>\\n        <beam number=\\\"1\\\">begin</beam>\\n        <notations>\\n          <tied type=\\\"stop\\\" />\\n        </notations>\\n      </note>\\n      <note>\\n        <pitch>\\n          <step>C</step>\\n          <alter>1</alter>\\n          <octave>5</octave>\\n        </pitch>\\n        <duration>5040</duration>\\n        <type>eighth</type>\\n        <accidental>sharp</accidental>\\n        <beam number=\\\"1\\\">end</beam>\\n      </note>\\n      <note>\\n        <pitch>\\n          <step>E</step>\\n          <octave>5</octave>\\n        </pitch>\\n        <duration>10080</duration>\\n        <type>quarter</type>\\n      </note>\\n      <note>\\n        <pitch>\\n          <step>F</step>\\n          <octave>4</octave>\\n        </pitch>\\n        <duration>15120</duration>\\n        <type>quarter</type>\\n        <dot />\\n      </note>\\n      <note>\\n        <pitch>\\n          <step>B</step>\\n          <alter>-1</alter>\\n          <octave>4</octave>\\n        </pitch>\\n        <duration>5040</duration>\\n        <tie type=\\\"start\\\" />\\n        <type>eighth</type>\\n        <accidental>flat</accidental>\\n        <notations>\\n          <tied type=\\\"start\\\" />\\n        </notations>\\n      </note>\\n    </measure>\\n    <!--========================= Measure 38 =========================-->\\n    <measure number=\\\"38\\\">\\n      <note>\\n        <pitch>\\n          <step>B</step>\\n          <alter>-1</alter>\\n          <octave>4</octave>\\n        </pitch>\\n        <duration>10080</duration>\\n        <tie type=\\\"stop\\\" />\\n        <type>quarter</type>\\n        <notations>\\n          <tied type=\\\"stop\\\" />\\n        </notations>\\n      </note>\\n      <note>\\n        <pitch>\\n          <step>C</step>\\n          <alter>1</alter>\\n          <octave>5</octave>\\n        </pitch>\\n        <duration>10080</duration>\\n        <type>quarter</type>\\n        <accidental>sharp</accidental>\\n      </note>\\n      <note>\\n        <pitch>\\n          <step>B</step>\\n          <alter>-1</alter>\\n          <octave>4</octave>\\n        </pitch>\\n        <duration>10080</duration>\\n        <type>quarter</type>\\n        <accidental>flat</accidental>\\n      </note>\\n      <note>\\n        <pitch>\\n          <step>C</step>\\n          <alter>1</alter>\\n          <octave>5</octave>\\n        </pitch>\\n        <duration>10080</duration>\\n        <type>quarter</type>\\n        <accidental>sharp</accidental>\\n      </note>\\n    </measure>\\n    <!--========================= Measure 39 =========================-->\\n    <measure number=\\\"39\\\">\\n      <note>\\n        <pitch>\\n          <step>D</step>\\n          <octave>5</octave>\\n        </pitch>\\n        <duration>15120</duration>\\n        <type>quarter</type>\\n        <dot />\\n      </note>\\n      <note>\\n        <pitch>\\n          <step>E</step>\\n          <octave>5</octave>\\n        </pitch>\\n        <duration>15120</duration>\\n        <type>quarter</type>\\n        <dot />\\n      </note>\\n      <note>\\n        <pitch>\\n          <step>B</step>\\n          <alter>0</alter>\\n          <octave>4</octave>\\n        </pitch>\\n        <duration>10080</duration>\\n        <tie type=\\\"start\\\" />\\n        <type>quarter</type>\\n        <accidental>natural</accidental>\\n        <notations>\\n          <tied type=\\\"start\\\" />\\n        </notations>\\n      </note>\\n    </measure>\\n    <!--========================= Measure 40 =========================-->\\n    <measure number=\\\"40\\\">\\n      <note>\\n        <pitch>\\n          <step>B</step>\\n          <alter>0</alter>\\n          <octave>4</octave>\\n        </pitch>\\n        <duration>5040</duration>\\n        <tie type=\\\"stop\\\" />\\n        <type>eighth</type>\\n        <notations>\\n          <tied type=\\\"stop\\\" />\\n        </notations>\\n      </note>\\n      <note>\\n        <pitch>\\n          <step>C</step>\\n          <alter>1</alter>\\n          <octave>5</octave>\\n        </pitch>\\n        <duration>10080</duration>\\n        <type>quarter</type>\\n        <accidental>sharp</accidental>\\n      </note>\\n      <note>\\n        <pitch>\\n          <step>B</step>\\n          <alter>-1</alter>\\n          <octave>4</octave>\\n        </pitch>\\n        <duration>15120</duration>\\n        <type>quarter</type>\\n        <dot />\\n        <accidental>flat</accidental>\\n      </note>\\n      <note>\\n        <pitch>\\n          <step>C</step>\\n          <alter>1</alter>\\n          <octave>5</octave>\\n        </pitch>\\n        <duration>10080</duration>\\n        <type>quarter</type>\\n        <accidental>sharp</accidental>\\n      </note>\\n    </measure>\\n    <!--========================= Measure 41 =========================-->\\n    <measure number=\\\"41\\\">\\n      <note>\\n        <pitch>\\n          <step>D</step>\\n          <octave>5</octave>\\n        </pitch>\\n        <duration>20160</duration>\\n        <type>half</type>\\n      </note>\\n      <note>\\n        <pitch>\\n          <step>E</step>\\n          <octave>5</octave>\\n        </pitch>\\n        <duration>5040</duration>\\n        <type>eighth</type>\\n      </note>\\n      <note>\\n        <pitch>\\n          <step>C</step>\\n          <alter>1</alter>\\n          <octave>5</octave>\\n        </pitch>\\n        <duration>10080</duration>\\n        <type>quarter</type>\\n        <accidental>sharp</accidental>\\n      </note>\\n      <note>\\n        <pitch>\\n          <step>B</step>\\n          <alter>-1</alter>\\n          <octave>4</octave>\\n        </pitch>\\n        <duration>5040</duration>\\n        <tie type=\\\"start\\\" />\\n        <type>eighth</type>\\n        <accidental>flat</accidental>\\n        <notations>\\n          <tied type=\\\"start\\\" />\\n        </notations>\\n      </note>\\n    </measure>\\n    <!--========================= Measure 42 =========================-->\\n    <measure number=\\\"42\\\">\\n      <note>\\n        <pitch>\\n          <step>B</step>\\n          <alter>-1</alter>\\n          <octave>4</octave>\\n        </pitch>\\n        <duration>5040</duration>\\n        <tie type=\\\"stop\\\" />\\n        <type>eighth</type>\\n        <notations>\\n          <tied type=\\\"stop\\\" />\\n        </notations>\\n      </note>\\n      <note>\\n        <pitch>\\n          <step>C</step>\\n          <alter>1</alter>\\n          <octave>5</octave>\\n        </pitch>\\n        <duration>15120</duration>\\n        <type>quarter</type>\\n        <dot />\\n        <accidental>sharp</accidental>\\n      </note>\\n      <note>\\n        <pitch>\\n          <step>E</step>\\n          <octave>5</octave>\\n        </pitch>\\n        <duration>10080</duration>\\n        <type>quarter</type>\\n      </note>\\n      <note>\\n        <pitch>\\n          <step>D</step>\\n          <octave>5</octave>\\n        </pitch>\\n        <duration>10080</duration>\\n        <type>quarter</type>\\n      </note>\\n    </measure>\\n    <!--========================= Measure 43 =========================-->\\n    <measure number=\\\"43\\\">\\n      <note>\\n        <pitch>\\n          <step>G</step>\\n          <alter>1</alter>\\n          <octave>4</octave>\\n        </pitch>\\n        <duration>10080</duration>\\n        <type>quarter</type>\\n        <accidental>sharp</accidental>\\n      </note>\\n      <note>\\n        <pitch>\\n          <step>F</step>\\n          <octave>4</octave>\\n        </pitch>\\n        <duration>15120</duration>\\n        <type>quarter</type>\\n        <dot />\\n      </note>\\n      <note>\\n        <pitch>\\n          <step>G</step>\\n          <alter>1</alter>\\n          <octave>4</octave>\\n        </pitch>\\n        <duration>10080</duration>\\n        <type>quarter</type>\\n        <accidental>sharp</accidental>\\n      </note>\\n      <note>\\n        <pitch>\\n          <step>F</step>\\n          <octave>4</octave>\\n        </pitch>\\n        <duration>5040</duration>\\n        <tie type=\\\"start\\\" />\\n        <type>eighth</type>\\n        <notations>\\n          <tied type=\\\"start\\\" />\\n        </notations>\\n      </note>\\n    </measure>\\n    <!--========================= Measure 44 =========================-->\\n    <measure number=\\\"44\\\">\\n      <note>\\n        <pitch>\\n          <step>F</step>\\n          <octave>4</octave>\\n        </pitch>\\n        <duration>5040</duration>\\n        <tie type=\\\"stop\\\" />\\n        <type>eighth</type>\\n        <beam number=\\\"1\\\">begin</beam>\\n        <notations>\\n          <tied type=\\\"stop\\\" />\\n        </notations>\\n      </note>\\n      <note>\\n        <pitch>\\n          <step>D</step>\\n          <octave>5</octave>\\n        </pitch>\\n        <duration>5040</duration>\\n        <type>eighth</type>\\n        <beam number=\\\"1\\\">end</beam>\\n      </note>\\n      <note>\\n        <pitch>\\n          <step>E</step>\\n          <octave>5</octave>\\n        </pitch>\\n        <duration>20160</duration>\\n        <type>half</type>\\n      </note>\\n      <note>\\n        <pitch>\\n          <step>C</step>\\n          <alter>1</alter>\\n          <octave>5</octave>\\n        </pitch>\\n        <duration>10080</duration>\\n        <type>quarter</type>\\n        <accidental>sharp</accidental>\\n      </note>\\n    </measure>\\n    <!--========================= Measure 45 =========================-->\\n    <measure number=\\\"45\\\">\\n      <note>\\n        <pitch>\\n          <step>B</step>\\n          <alter>-1</alter>\\n          <octave>4</octave>\\n        </pitch>\\n        <duration>10080</duration>\\n        <type>quarter</type>\\n        <accidental>flat</accidental>\\n      </note>\\n      <note>\\n        <pitch>\\n          <step>C</step>\\n          <alter>1</alter>\\n          <octave>5</octave>\\n        </pitch>\\n        <duration>10080</duration>\\n        <type>quarter</type>\\n        <accidental>sharp</accidental>\\n      </note>\\n      <note>\\n        <pitch>\\n          <step>E</step>\\n          <octave>5</octave>\\n        </pitch>\\n        <duration>15120</duration>\\n        <type>quarter</type>\\n        <dot />\\n      </note>\\n      <note>\\n        <pitch>\\n          <step>B</step>\\n          <alter>-1</alter>\\n          <octave>4</octave>\\n        </pitch>\\n        <duration>5040</duration>\\n        <tie type=\\\"start\\\" />\\n        <type>eighth</type>\\n        <accidental>flat</accidental>\\n        <notations>\\n          <tied type=\\\"start\\\" />\\n        </notations>\\n      </note>\\n    </measure>\\n    <!--========================= Measure 46 =========================-->\\n    <measure number=\\\"46\\\">\\n      <note>\\n        <pitch>\\n          <step>B</step>\\n          <alter>-1</alter>\\n          <octave>4</octave>\\n        </pitch>\\n        <duration>10080</duration>\\n        <tie type=\\\"stop\\\" />\\n        <type>quarter</type>\\n        <notations>\\n          <tied type=\\\"stop\\\" />\\n        </notations>\\n      </note>\\n      <note>\\n        <pitch>\\n          <step>C</step>\\n          <alter>1</alter>\\n          <octave>5</octave>\\n        </pitch>\\n        <duration>10080</duration>\\n        <type>quarter</type>\\n        <accidental>sharp</accidental>\\n      </note>\\n      <note>\\n        <pitch>\\n          <step>E</step>\\n          <octave>5</octave>\\n        </pitch>\\n        <duration>10080</duration>\\n        <type>quarter</type>\\n      </note>\\n      <barline location=\\\"right\\\">\\n        <bar-style>light-heavy</bar-style>\\n      </barline>\\n    </measure>\\n  </part>\\n</score-partwise>\\n\")\n",
       "            .then(\n",
       "              function() {\n",
       "                console.log(\"rendering data\")\n",
       "                openSheetMusicDisplay.render();\n",
       "              }\n",
       "            );\n",
       "    })\n",
       "    "
      ],
      "text/plain": [
       "<IPython.core.display.Javascript object>"
      ]
     },
     "metadata": {},
     "output_type": "display_data"
    }
   ],
   "source": [
    "fixedSummerOct = ['E5', 'C#5', 'E5', 'D5', 'C#5', 'D5', 'E5', 'C#5', 'B-4', 'F4', 'E5', 'C#5', 'D5', 'C#5', 'B-4', 'C#5', 'B-4', 'C#5', 'B4', 'E5', 'C#5', 'E5', 'D5', 'C#5', 'D5', 'E5', 'C#5', 'B-4', 'F4', 'G#4', 'F4', 'G#4', 'B-4', 'C#5', 'E5', 'D5', 'C#5', 'B-4']\n",
    "currDurs = [3, 2, 1, 4, 2, 2, 2, 3, 2, 2, 2, 3, 2, 2, 2, 4, 1, 2, 3, 3, 2, 3, 2, 2, 2, 3, 1, 2, 3, 3, 2, 2, 2, 2, 3, 2, 2, 3]\n",
    "#theme1 = durAndPitchToStream(fixedSummerOct, durations)\n",
    "#theme2 = durAndPitchToStream(fixedSummerOct, durations)\n",
    "#comm1 = writeSummerCommentary(fixedSummerOct, durations, -5)\n",
    "#comm2 = writeSummerCommentary(fixedSummerOct, durations, 0)\n",
    "fullStream = writeSummerCommentary(fixedSummerOct, currDurs)\n",
    "showScore(fullStream)\n",
    "sp = midi.realtime.StreamPlayer(fullStream)\n",
    "sp.play()"
   ]
  },
  {
   "cell_type": "markdown",
   "metadata": {},
   "source": [
    "I apologize for the mess, but basically the commentary is made systematically by taking four pitches at a time, reversing them and placing the next 4 rhythms from the end with them. Then it is transposed (Dominant/Tonic)."
   ]
  },
  {
   "cell_type": "code",
   "execution_count": 18,
   "metadata": {},
   "outputs": [],
   "source": [
    "#fullStream.show('xml')"
   ]
  }
 ],
 "metadata": {
  "kernelspec": {
   "display_name": "Python 3",
   "language": "python",
   "name": "python3"
  },
  "language_info": {
   "codemirror_mode": {
    "name": "ipython",
    "version": 3
   },
   "file_extension": ".py",
   "mimetype": "text/x-python",
   "name": "python",
   "nbconvert_exporter": "python",
   "pygments_lexer": "ipython3",
   "version": "3.7.3"
  }
 },
 "nbformat": 4,
 "nbformat_minor": 4
}
