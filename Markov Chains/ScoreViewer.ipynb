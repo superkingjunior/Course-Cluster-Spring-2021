{
 "cells": [
  {
   "cell_type": "code",
   "execution_count": 1,
   "metadata": {},
   "outputs": [],
   "source": [
    "from IPython.core.display import display, HTML, Javascript\n",
    "import json, random\n",
    "def showScore(score):\n",
    "    xml = open(score.write('musicxml')).read()\n",
    "    showMusicXML(xml)\n",
    "    \n",
    "def showMusicXML(xml):\n",
    "    DIV_ID = \"OSMD-div-\"+str(random.randint(0,1000000))\n",
    "    print(\"DIV_ID\", DIV_ID)\n",
    "    display(HTML('<div id=\"'+DIV_ID+'\">loading OpenSheetMusicDisplay</div>'))\n",
    "    \n",
    "    print('xml length:', len(xml))\n",
    "\n",
    "    script = \"\"\"\n",
    "    console.log(\"loadOSMD()\");\n",
    "    function loadOSMD() { \n",
    "        return new Promise(function(resolve, reject){\n",
    "\n",
    "            if (window.opensheetmusicdisplay) {\n",
    "                console.log(\"already loaded\")\n",
    "                return resolve(window.opensheetmusicdisplay)\n",
    "            }\n",
    "            console.log(\"loading osmd for the first time\")\n",
    "            // OSMD script has a 'define' call which conflicts with requirejs\n",
    "            var _define = window.define // save the define object \n",
    "            window.define = undefined // now the loaded script will ignore requirejs\n",
    "            var s = document.createElement( 'script' );\n",
    "            s.setAttribute( 'src', \"https://cdn.jsdelivr.net/npm/opensheetmusicdisplay@0.3.1/build/opensheetmusicdisplay.min.js\" );\n",
    "            //s.setAttribute( 'src', \"/custom/opensheetmusicdisplay.js\" );\n",
    "            s.onload=function(){\n",
    "                window.define = _define\n",
    "                console.log(\"loaded OSMD for the first time\",opensheetmusicdisplay)\n",
    "                resolve(opensheetmusicdisplay);\n",
    "            };\n",
    "            document.body.appendChild( s ); // browser will try to load the new script tag\n",
    "        }) \n",
    "    }\n",
    "    loadOSMD().then((OSMD)=>{\n",
    "        console.log(\"loaded OSMD\",OSMD)\n",
    "        var div_id = \"{{DIV_ID}}\";\n",
    "            console.log(div_id)\n",
    "        window.openSheetMusicDisplay = new OSMD.OpenSheetMusicDisplay(div_id);\n",
    "        openSheetMusicDisplay\n",
    "            .load({{data}})\n",
    "            .then(\n",
    "              function() {\n",
    "                console.log(\"rendering data\")\n",
    "                openSheetMusicDisplay.render();\n",
    "              }\n",
    "            );\n",
    "    })\n",
    "    \"\"\".replace('{{DIV_ID}}',DIV_ID).replace('{{data}}',json.dumps(xml))\n",
    "    display(Javascript(script))\n",
    "    return DIV_ID"
   ]
  },
  {
   "cell_type": "code",
   "execution_count": null,
   "metadata": {},
   "outputs": [],
   "source": []
  }
 ],
 "metadata": {
  "kernelspec": {
   "display_name": "Python 3",
   "language": "python",
   "name": "python3"
  },
  "language_info": {
   "codemirror_mode": {
    "name": "ipython",
    "version": 3
   },
   "file_extension": ".py",
   "mimetype": "text/x-python",
   "name": "python",
   "nbconvert_exporter": "python",
   "pygments_lexer": "ipython3",
   "version": "3.7.3"
  }
 },
 "nbformat": 4,
 "nbformat_minor": 4
}
