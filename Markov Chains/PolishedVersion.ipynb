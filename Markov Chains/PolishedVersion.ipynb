{
 "cells": [
  {
   "cell_type": "markdown",
   "metadata": {},
   "source": [
    "# Artificial Generation of Coherent Melodic Fragments Using Markov Chains\n",
    "#### By Collin Presser"
   ]
  },
  {
   "cell_type": "markdown",
   "metadata": {},
   "source": [
    "## Introduction:"
   ]
  },
  {
   "cell_type": "markdown",
   "metadata": {},
   "source": [
    "As its name suggests, artificial intelligence (AI) largely bases its methods of problem solving in logic and reasoning. From decision trees mirroring the logic of game theory to deep learning and neural networks simulating the processes of the human brain, AI can be used to generate logically sound, understandable, and thus, coherent conclusions or solutions.\n",
    "\n",
    "Markov chains are one of AI's basic tools for making informed decisions, using probabilities to represent the relationships between states. Their purpose is to approximate an optimal solution for a problem in a feasible amount of time when searching for the most optimal solution is intractable. While they do not possess the same logic or reasoning as the higher concept strategies mentioned before, they can still be used to simulate patterns which are neither arbitrary nor obvious.\n",
    "\n",
    "Problem solving has many applications in the field of music. From score analysis to multi-part realizations, there are plenty of opportunities where one could use AI in a problem solving capacity. In fact, many music theorists and musicologists have already begun to use AI in these regards (see these articles by <a href='https://www.jstor.org/stable/3680079'>Road</a>, <a href='https://www.jstor.org/stable/10.2307/26350040'>Serra</a>, and <a href='https://www.jstor.org/stable/10.1086/673321'>Wilf</a>). In this project, I will be focusing on AI's application in procedurally generated music.\n",
    "\n",
    "This tool can be combined with a variety of musical concepts in the creation of procedurally generated music (see Osipenko's <a href='https://towardsdatascience.com/markov-chain-for-music-generation-932ea8a88305'>example</a> using chord progressions). Using tools from the Numpy and Music21 libraries, this project intends to show how Markov chains can be used to create melodic fragments. Using the functions created in this notebook, an experiment can then be designed and prepared to test the coherency of these melodic fragments. In this document, the term \"coherent\" will be used to describe melodic fragments developed with nuanced patterns that are neither obvious nor arbitrary."
   ]
  },
  {
   "cell_type": "markdown",
   "metadata": {},
   "source": [
    "## Resources:"
   ]
  },
  {
   "cell_type": "markdown",
   "metadata": {},
   "source": [
    "As in all programs, one must start with a basis on which to build. For the design of my Markov chain system, I will be using the Numpy addon. My musical data will be stored in set theory notation/MIDI for ease of use in the program. To visually and aurally represent the music created, I will be using tools from the Music21 API. The last import provides tools for displaying HTML."
   ]
  },
  {
   "cell_type": "code",
   "execution_count": 1,
   "metadata": {},
   "outputs": [],
   "source": [
    "import numpy as np\n",
    "from music21 import *\n",
    "from ipynb.fs.full.ScoreViewer import showScore\n",
    "\n",
    "from IPython.core.display import display, HTML"
   ]
  },
  {
   "cell_type": "markdown",
   "metadata": {},
   "source": [
    "This line formats HTML tables in the document better, and also increases the notebook width:"
   ]
  },
  {
   "cell_type": "code",
   "execution_count": 2,
   "metadata": {},
   "outputs": [
    {
     "data": {
      "text/html": [
       "<style>.container { width:100% !important; }</style>"
      ],
      "text/plain": [
       "<IPython.core.display.HTML object>"
      ]
     },
     "metadata": {},
     "output_type": "display_data"
    }
   ],
   "source": [
    "display(HTML(\"<style>.container { width:100% !important; }</style>\"))"
   ]
  },
  {
   "cell_type": "markdown",
   "metadata": {},
   "source": [
    "These imports are used for the user interface:"
   ]
  },
  {
   "cell_type": "code",
   "execution_count": 3,
   "metadata": {},
   "outputs": [],
   "source": [
    "import ipywidgets as widgets\n",
    "from ipywidgets import interact, interact_manual\n",
    "from IPython.display import display as wDisplay\n",
    "from IPython.display import IFrame"
   ]
  },
  {
   "cell_type": "markdown",
   "metadata": {},
   "source": [
    "For reproducibility of results in this project, I set my random seed here using the Numpy addon:"
   ]
  },
  {
   "cell_type": "code",
   "execution_count": 4,
   "metadata": {},
   "outputs": [],
   "source": [
    "seed = 12345\n",
    "\n",
    "np.random.seed(seed)"
   ]
  },
  {
   "cell_type": "markdown",
   "metadata": {},
   "source": [
    "## Designing the System:"
   ]
  },
  {
   "cell_type": "markdown",
   "metadata": {},
   "source": [
    "There are many ways to represent a Markov chain system. The most visually understandable method would be as a network made up of nodes and weighted edges as seen in the image below (courtesy of Alexander Osipenko):"
   ]
  },
  {
   "cell_type": "markdown",
   "metadata": {},
   "source": [
    "##### <center>Markov chain network for generating chord progressions</center>\n",
    "![](https://miro.medium.com/max/602/1*YJ_hnlTVaRZVhUq6G_VUhA.png)"
   ]
  },
  {
   "cell_type": "markdown",
   "metadata": {},
   "source": [
    "The nodes represent states, and each of the edges represents actions which lead to the next action. The weights of the edges represent the probability of that action taking place. These probabilities all must sum to 1 because this system will not work otherwise."
   ]
  },
  {
   "cell_type": "markdown",
   "metadata": {},
   "source": [
    "While it certainly is possible to program this system in this manner (and there are many tools in Python that make this easier), a matrix is actually a better way to format chains, as it is easier to code, and resources such as Numpy make manipulating matrices very easy in Python. Here is an example matrix, produced by my program in a previous edition:\n",
    "\n",
    "<TABLE>\n",
    "    <TR>\n",
    "        <TH></TH>\n",
    "        <TH>C     (0)</TH>\n",
    "        <TH>C#/Db (1)</TH>\n",
    "        <TH>D     (2)</TH>\n",
    "        <TH>D#/Eb (3)</TH>\n",
    "        <TH>E     (4)</TH>\n",
    "        <TH>F     (5)</TH>\n",
    "        <TH>F#/Gb (6)</TH>\n",
    "        <TH>G     (7)</TH>\n",
    "        <TH>G#/Ab (8)</TH>\n",
    "        <TH>A     (9)</TH>\n",
    "        <TH>A#/Bb (T)</TH>\n",
    "        <TH>B     (E)</TH>\n",
    "    </TR>\n",
    "    <TR>\n",
    "        <TH>C     (0)</TH>\n",
    "        <TD>0.12638537934071162</TD>\n",
    "        <TD>0.01611991068547207</TD>\n",
    "        <TD>0.14706433682814704</TD>\n",
    "        <TD>0.13600231376104766</TD>\n",
    "        <TD>0.09515274105896222</TD>\n",
    "        <TD>0.05144513737459198</TD>\n",
    "        <TD>0.15002278650142523</TD>\n",
    "        <TD>0.00861789121890996</TD>\n",
    "        <TD>0.13923263142684558</TD>\n",
    "        <TD>0.04847014389137562</TD>\n",
    "        <TD>0.05001021664670807</TD>\n",
    "        <TD>0.03147651126580285</TD>\n",
    "    </TR>\n",
    "    <TR>\n",
    "        <TH>C#/Db (1)</TH>\n",
    "        <TD>0.08748269034364582</TD>\n",
    "        <TD>0.12030568947763388</TD>\n",
    "        <TD>0.11553274661947963</TD>\n",
    "        <TD>0.05669741419483598</TD>\n",
    "        <TD>0.09811060123350003</TD>\n",
    "        <TD>0.06779417959422704</TD>\n",
    "        <TD>0.03415830430148494</TD>\n",
    "        <TD>0.12143614611279181</TD>\n",
    "        <TD>0.0466009664817626</TD>\n",
    "        <TD>0.08548290540681094</TD>\n",
    "        <TD>0.11156356105743734</TD>\n",
    "        <TD>0.054834795176389915</TD>\n",
    "    </TR>\n",
    "    <TR>\n",
    "        <TH>D     (2)</TH>\n",
    "        <TD>0.07129980893719642</TD>\n",
    "        <TD>0.03474713381520484</TD>\n",
    "        <TD>0.07363334777080587</TD>\n",
    "        <TD>0.11003652575680543</TD>\n",
    "        <TD>0.07401313012266098</TD>\n",
    "        <TD>0.16689426203636168</TD>\n",
    "        <TD>0.022863592350863854</TD>\n",
    "        <TD>0.12089814454474673</TD>\n",
    "        <TD>0.13956027087072326</TD>\n",
    "        <TD>0.0067377048611426005</TD>\n",
    "        <TD>0.11526644853496844</TD>\n",
    "        <TD>0.06404963039851984</TD>\n",
    "    </TR>\n",
    "    <TR>\n",
    "        <TH>D#/Eb (3)</TH>\n",
    "        <TD>0.11767964633459271</TD>\n",
    "        <TD>0.1386669521238618</TD>\n",
    "        <TD>0.01876181598155476</TD>\n",
    "        <TD>0.12031440950267513</TD>\n",
    "        <TD>0.11430347239265579</TD>\n",
    "        <TD>0.08509804237830701</TD>\n",
    "        <TD>0.1267835287889327</TD>\n",
    "        <TD>0.049861545093572004</TD>\n",
    "        <TD>0.06761405224562335</TD>\n",
    "        <TD>0.0996687793616666</TD>\n",
    "        <TD>0.05563285552179081</TD>\n",
    "        <TD>0.005614900274767274</TD>\n",
    "    </TR>\n",
    "    <TR>\n",
    "        <TH>E     (4)</TH>\n",
    "        <TD>0.08754933150852322</TD>\n",
    "        <TD>0.057652497577700135</TD>\n",
    "        <TD>0.05251249523759175</TD>\n",
    "        <TD>0.08159755170017624</TD>\n",
    "        <TD>0.10830828020287839</TD>\n",
    "        <TD>0.08810948096556659</TD>\n",
    "        <TD>0.045402298591841465</TD>\n",
    "        <TD>0.08431250750662288</TD>\n",
    "        <TD>0.10823450869221135</TD>\n",
    "        <TD>0.11081049278733103</TD>\n",
    "        <TD>0.06176868753062256</TD>\n",
    "        <TD>0.11374186769893442</TD>\n",
    "    </TR>\n",
    "    <TR>\n",
    "        <TH>F     (5)</TH>\n",
    "        <TD>0.12604827924219716</TD>\n",
    "        <TD>0.12983539016945572</TD>\n",
    "        <TD>0.1124189338339215</TD>\n",
    "        <TD>0.05101403396863954</TD>\n",
    "        <TD>0.07011337164652862</TD>\n",
    "        <TD>0.06770631150939906</TD>\n",
    "        <TD>0.10731236652841968</TD>\n",
    "        <TD>0.03544308533224622</TD>\n",
    "        <TD>0.09893756091141612</TD>\n",
    "        <TD>0.09836273847052643</TD>\n",
    "        <TD>0.09102974076899957</TD>\n",
    "        <TD>0.011778187618250493</TD>\n",
    "    </TR>\n",
    "    <TR>\n",
    "        <TH>F#/Gb (6)</TH>\n",
    "        <TD>0.06951775758802912</TD>\n",
    "        <TD>0.15259850989013707</TD>\n",
    "        <TD>0.00443043328032432</TD>\n",
    "        <TD>0.07184089754434744</TD>\n",
    "        <TD>0.021550576271148765</TD>\n",
    "        <TD>0.15905077504374626</TD>\n",
    "        <TD>0.12683450775977387</TD>\n",
    "        <TD>0.18061310245476248</TD>\n",
    "        <TD>0.05521613483475063</TD>\n",
    "        <TD>0.13591752609296467</TD>\n",
    "        <TD>0.020019159350698524</TD>\n",
    "        <TD>0.002410619889316678</TD>\n",
    "    </TR>\n",
    "    <TR>\n",
    "        <TH>G     (7)</TH>\n",
    "        <TD>0.19195218739434786</TD>\n",
    "        <TD>0.056733129558566124</TD>\n",
    "        <TD>0.17761831968368066</TD>\n",
    "        <TD>0.11068677744925384</TD>\n",
    "        <TD>0.15833232170019912</TD>\n",
    "        <TD>0.08434801199323626</TD>\n",
    "        <TD>0.08503829733545848</TD>\n",
    "        <TD>0.009768222876827753</TD>\n",
    "        <TD>0.02544550685463457</TD>\n",
    "        <TD>0.02823500185886633</TD>\n",
    "        <TD>0.03680502439034594</TD>\n",
    "        <TD>0.03503719890458316</TD>\n",
    "    </TR>\n",
    "    <TR>\n",
    "        <TH>G#/Ab (8)</TH>\n",
    "        <TD>0.06306794578391835</TD>\n",
    "        <TD>0.1347645622871345</TD>\n",
    "        <TD>0.0047571328867394</TD>\n",
    "        <TD>0.050226639642768224</TD>\n",
    "        <TD>0.17372794909543016</TD>\n",
    "        <TD>0.07412346176256306</TD>\n",
    "        <TD>0.016504809654056526</TD>\n",
    "        <TD>0.11466684886563056</TD>\n",
    "        <TD>0.05502996584236384</TD>\n",
    "        <TD>0.09093394462297959</TD>\n",
    "        <TD>0.1501450124475683</TD>\n",
    "        <TD>0.07205172710884765</TD>\n",
    "    </TR>\n",
    "    <TR>\n",
    "        <TH>A     (9)</TH>\n",
    "        <TD>0.12056128552556084</TD>\n",
    "        <TD>0.04215383051935601</TD>\n",
    "        <TD>0.1004997544235946</TD>\n",
    "        <TD>0.018018987483826045</TD>\n",
    "        <TD>0.08998269048452155</TD>\n",
    "        <TD>0.0714624744254769</TD>\n",
    "        <TD>0.1270381363440811</TD>\n",
    "        <TD>0.08197209742651322</TD>\n",
    "        <TD>0.14079231865317582</TD>\n",
    "        <TD>0.1224988965385218</TD>\n",
    "        <TD>0.029798146092542794</TD>\n",
    "        <TD>0.05522138208282918</TD>\n",
    "    </TR>\n",
    "    <TR>\n",
    "        <TH>A#/Bb (T)</TH>\n",
    "        <TD>0.1156311457236615</TD>\n",
    "        <TD>0.07861588664399718</TD>\n",
    "        <TD>0.09976251260259641</TD>\n",
    "        <TD>0.11886671639791009</TD>\n",
    "        <TD>0.011160700483520436</TD>\n",
    "        <TD>0.1030294593007058</TD>\n",
    "        <TD>0.08677104112738898</TD>\n",
    "        <TD>0.11726705329014567</TD>\n",
    "        <TD>0.09806614673046313</TD>\n",
    "        <TD>0.01239513451877046</TD>\n",
    "        <TD>0.06451584190105283</TD>\n",
    "        <TD>0.09391836127978744</TD>\n",
    "    </TR>\n",
    "    <TR>\n",
    "        <TH>B     (E)</TH>\n",
    "        <TD>0.0018056118982943418</TD>\n",
    "        <TD>0.14025336402951746</TD>\n",
    "        <TD>0.007809652143921823</TD>\n",
    "        <TD>0.03852933477121989</TD>\n",
    "        <TD>0.05448970659418339</TD>\n",
    "        <TD>0.1353879051421186</TD>\n",
    "        <TD>0.022941541639484142</TD>\n",
    "        <TD>0.07783943344515588</TD>\n",
    "        <TD>0.1920863375067232</TD>\n",
    "        <TD>0.08008612990013338</TD>\n",
    "        <TD>0.14351403225434467</TD>\n",
    "        <TD>0.1052569506749033</TD>\n",
    "    </TR>\n",
    "</TABLE>"
   ]
  },
  {
   "cell_type": "markdown",
   "metadata": {},
   "source": [
    "In this table, the row represents the original state, while the column represents the next action to be taken. The values in each row are the probabilities of moving to the values of the columns from the value of the row. Each row's probabilities must sum to one, much like all the weights of the edges comming from a node in the network version had to sum to 1."
   ]
  },
  {
   "cell_type": "markdown",
   "metadata": {},
   "source": [
    "## Functions for Data Manipulation:"
   ]
  },
  {
   "cell_type": "markdown",
   "metadata": {},
   "source": [
    "After deciding to use a matrix, the first step is to set up the helper functions for generating or representing chains in this format."
   ]
  },
  {
   "cell_type": "markdown",
   "metadata": {},
   "source": [
    "For building matrices based on random values (for testing and initial experimentation), it makes sense to have a function to normalize each row so that they each sum to 1. Even when using data input from a file, having a function like this will help guarantee that the data being used complies with this requirement of the system."
   ]
  },
  {
   "cell_type": "code",
   "execution_count": 5,
   "metadata": {},
   "outputs": [],
   "source": [
    "#normalizes the rows of a matrix for Markov chains\n",
    "def normalize(data):\n",
    "    sums = data.sum(axis=1)\n",
    "    for i in range(len(data)):\n",
    "        data[i, :] *= 1.0/(sums[i])"
   ]
  },
  {
   "cell_type": "markdown",
   "metadata": {},
   "source": [
    "Next, a function for generating random data is needed. Fortunately, Numpy comes with a function for generating random data in a matrix. Here is an example of its use:"
   ]
  },
  {
   "cell_type": "code",
   "execution_count": 6,
   "metadata": {},
   "outputs": [
    {
     "name": "stdout",
     "output_type": "stream",
     "text": [
      "Randomized Matrix:\n",
      "[[0.92961609 0.31637555 0.18391881 0.20456028 0.56772503]\n",
      " [0.5955447  0.96451452 0.6531771  0.74890664 0.65356987]\n",
      " [0.74771481 0.96130674 0.0083883  0.10644438 0.29870371]\n",
      " [0.65641118 0.80981255 0.87217591 0.9646476  0.72368535]\n",
      " [0.64247533 0.71745362 0.46759901 0.32558468 0.43964461]]\n"
     ]
    }
   ],
   "source": [
    "#generate random matrix\n",
    "matrixExample = np.random.rand(5,5)\n",
    "print(\"Randomized Matrix:\")\n",
    "print(matrixExample)"
   ]
  },
  {
   "cell_type": "markdown",
   "metadata": {},
   "source": [
    "The normalization of the rows of this matrix looks likes this:"
   ]
  },
  {
   "cell_type": "code",
   "execution_count": 7,
   "metadata": {},
   "outputs": [
    {
     "name": "stdout",
     "output_type": "stream",
     "text": [
      "Normalized Matrix:\n",
      "[[0.42213145 0.14366368 0.0835161  0.09288923 0.25779953]\n",
      " [0.16471018 0.2667564  0.18064961 0.20712559 0.18075824]\n",
      " [0.35227062 0.45290012 0.00395198 0.0501491  0.14072818]\n",
      " [0.16301335 0.2011091  0.21659643 0.23956088 0.17972024]\n",
      " [0.24779618 0.27671454 0.18034816 0.12557469 0.16956644]]\n"
     ]
    }
   ],
   "source": [
    "#normalize matrix\n",
    "normalize(matrixExample)\n",
    "print(\"Normalized Matrix:\")\n",
    "print(matrixExample)"
   ]
  },
  {
   "cell_type": "markdown",
   "metadata": {},
   "source": [
    "Next, to save and load data, file input and output functions should be made. Numpy also has functions which complete these tasks with the use of text files:"
   ]
  },
  {
   "cell_type": "code",
   "execution_count": 8,
   "metadata": {},
   "outputs": [
    {
     "name": "stdout",
     "output_type": "stream",
     "text": [
      "Redefined matrix:\n",
      "[[-1]]\n",
      "Reloaded matrix:\n",
      "[[0.42213145 0.14366368 0.0835161  0.09288923 0.25779953]\n",
      " [0.16471018 0.2667564  0.18064961 0.20712559 0.18075824]\n",
      " [0.35227062 0.45290012 0.00395198 0.0501491  0.14072818]\n",
      " [0.16301335 0.2011091  0.21659643 0.23956088 0.17972024]\n",
      " [0.24779618 0.27671454 0.18034816 0.12557469 0.16956644]]\n"
     ]
    }
   ],
   "source": [
    "#save matrix\n",
    "np.savetxt(\"exampleMatrix.txt\", matrixExample)\n",
    "\n",
    "#clear for testing\n",
    "matrixExample = np.array([[-1]])\n",
    "print(\"Redefined matrix:\")\n",
    "print(matrixExample)\n",
    "\n",
    "#load matrix\n",
    "matrixExample = np.loadtxt(\"exampleMatrix.txt\")\n",
    "print(\"Reloaded matrix:\")\n",
    "print(matrixExample)"
   ]
  },
  {
   "cell_type": "markdown",
   "metadata": {},
   "source": [
    "Finally, the last general function needed is one that chooses the next state based on the current state. This can easily be done using Numpy's random choice function as seen in this method:"
   ]
  },
  {
   "cell_type": "code",
   "execution_count": 9,
   "metadata": {},
   "outputs": [],
   "source": [
    "#chooses a value based on the probablities given\n",
    "def choose(row):\n",
    "    return np.random.choice(len(row), p = row)"
   ]
  },
  {
   "cell_type": "code",
   "execution_count": 10,
   "metadata": {},
   "outputs": [
    {
     "name": "stdout",
     "output_type": "stream",
     "text": [
      "Row 2: [0.35227062 0.45290012 0.00395198 0.0501491  0.14072818]\n",
      "Choice: 1\n"
     ]
    }
   ],
   "source": [
    "#get row 2 (0-4 indexing)\n",
    "exampleRow = matrixExample[2]\n",
    "print(\"Row 2: \" + str(exampleRow))\n",
    "\n",
    "#choose a value in row 2\n",
    "exampleChoice = choose(exampleRow)\n",
    "print(\"Choice: \" + str(exampleChoice))"
   ]
  },
  {
   "cell_type": "markdown",
   "metadata": {},
   "source": [
    "## Functions for Music Representation:"
   ]
  },
  {
   "cell_type": "markdown",
   "metadata": {},
   "source": [
    "Now that the basic functions have been set up, more functions need to be made to handle the musical elements."
   ]
  },
  {
   "cell_type": "markdown",
   "metadata": {},
   "source": [
    "The first function to build will get all the MIDI values of the given pitch class set within a given range:"
   ]
  },
  {
   "cell_type": "code",
   "execution_count": 11,
   "metadata": {},
   "outputs": [],
   "source": [
    "#gets all of the MIDI numbers that are part of the given pitch class set and are within the range (high is exclusive)\n",
    "def pcsToMIDI(pcs, low = 0, high = 128):\n",
    "    result = []\n",
    "    start = 0\n",
    "    while(start < high):\n",
    "        for pc in pcs:\n",
    "            num = start + pc\n",
    "            if(num >= low and num < high):\n",
    "                result.append(num)\n",
    "            \n",
    "        start += 12\n",
    "    \n",
    "    result.sort()\n",
    "    return result"
   ]
  },
  {
   "cell_type": "code",
   "execution_count": 12,
   "metadata": {},
   "outputs": [
    {
     "name": "stdout",
     "output_type": "stream",
     "text": [
      "[53, 57, 58, 65, 69, 70, 77, 81, 82, 89, 93, 94]\n"
     ]
    }
   ],
   "source": [
    "#create pcs {5, 9, T}\n",
    "examplePCS = {5, 9, 10}\n",
    "\n",
    "#get all MIDI values of {5, 9, T} within B2 (47) and F7 (101)\n",
    "exampleMIDI = pcsToMIDI(examplePCS, low = 47, high = 101)\n",
    "print(exampleMIDI)"
   ]
  },
  {
   "cell_type": "markdown",
   "metadata": {},
   "source": [
    "Next, these MIDI values can be used with Music21 to get the note names and octaves for clearer representations:"
   ]
  },
  {
   "cell_type": "code",
   "execution_count": 13,
   "metadata": {},
   "outputs": [],
   "source": [
    "#converts MIDI pitch to scientific pitch notation\n",
    "def midiToOctaveNotation(midi):\n",
    "    return note.Note(midi).nameWithOctave + \" (\" + str(midi) + \")\""
   ]
  },
  {
   "cell_type": "code",
   "execution_count": 14,
   "metadata": {},
   "outputs": [
    {
     "name": "stdout",
     "output_type": "stream",
     "text": [
      "B-4 (70)\n"
     ]
    }
   ],
   "source": [
    "#MIDI 70 -> Bb/A#4\n",
    "print(midiToOctaveNotation(70))"
   ]
  },
  {
   "cell_type": "markdown",
   "metadata": {},
   "source": [
    "Next, here's a function which will print a Markov chain matrix with nice labels:"
   ]
  },
  {
   "cell_type": "code",
   "execution_count": 15,
   "metadata": {},
   "outputs": [],
   "source": [
    "#prints an HTML table version of the matrix with labels\n",
    "def printChain(midi, matrix):\n",
    "    labels = [midiToOctaveNotation(m) for m in midi]\n",
    "    html = \"<TABLE>\"\n",
    "    html += \"<TR><TH></TH>\"\n",
    "    for l in labels:\n",
    "        html += \"<TH>\" + l + \"</TH>\"\n",
    "    \n",
    "    html += \"</TR>\"\n",
    "    for i in range(len(matrix)):\n",
    "        html += \"<TR><TH>\" + labels[i] + \"</TH>\"\n",
    "        for p in matrix[i]:\n",
    "            html += \"<TD>\" + str(p) + \"</TD>\"\n",
    "        \n",
    "        html += \"</TR>\"\n",
    "        \n",
    "    html += \"</TABLE>\"\n",
    "    display(HTML(html))"
   ]
  },
  {
   "cell_type": "code",
   "execution_count": 16,
   "metadata": {},
   "outputs": [
    {
     "name": "stdout",
     "output_type": "stream",
     "text": [
      "[[0.16417593 0.11179552 0.13061582 0.02822897 0.00443455 0.13219276\n",
      "  0.14926289 0.00407563 0.08121921 0.08691868 0.0984985  0.00858154]\n",
      " [0.14576113 0.11859473 0.13326446 0.08145893 0.13193554 0.01562802\n",
      "  0.03565499 0.04213118 0.07622882 0.07480677 0.11554034 0.0289951 ]\n",
      " [0.08199023 0.02587868 0.11860992 0.1431949  0.09403055 0.02316978\n",
      "  0.07553789 0.05821546 0.13091925 0.14056089 0.05921884 0.0486736 ]\n",
      " [0.08120194 0.02683207 0.01797798 0.09823133 0.11423344 0.0819366\n",
      "  0.13903761 0.0905823  0.12692173 0.07077596 0.05023265 0.1020364 ]\n",
      " [0.07757943 0.0347367  0.03771359 0.12205095 0.07623134 0.14087784\n",
      "  0.14553913 0.08209062 0.03887101 0.11097606 0.05656686 0.07676647]\n",
      " [0.03201435 0.04995772 0.09196333 0.04421644 0.10861992 0.11047114\n",
      "  0.1204428  0.13421872 0.01516439 0.12868265 0.04748355 0.11676498]\n",
      " [0.16100608 0.00765774 0.03510095 0.05279642 0.11240476 0.01545756\n",
      "  0.02562632 0.09247427 0.12358096 0.15357072 0.11605511 0.1042691 ]\n",
      " [0.10064101 0.03572341 0.12739551 0.06259582 0.00290422 0.13581647\n",
      "  0.0923065  0.07263175 0.0965708  0.06928243 0.13112195 0.07301012]\n",
      " [0.01344975 0.10577688 0.1146741  0.17549316 0.07741885 0.0492885\n",
      "  0.01815294 0.09055565 0.0866077  0.00554679 0.12940516 0.13363052]\n",
      " [0.13239767 0.07516888 0.00273913 0.16490039 0.14320398 0.02996936\n",
      "  0.05674361 0.11083375 0.06612347 0.02830751 0.03216531 0.15744693]\n",
      " [0.04396068 0.08867758 0.06879796 0.06230955 0.13375361 0.10497233\n",
      "  0.04232083 0.00976521 0.03009924 0.14118634 0.12947704 0.14467962]\n",
      " [0.00869307 0.09640315 0.07993722 0.00361159 0.06215694 0.06888991\n",
      "  0.10046834 0.11175471 0.13955694 0.12968499 0.06666217 0.13218095]]\n"
     ]
    },
    {
     "data": {
      "text/html": [
       "<TABLE><TR><TH></TH><TH>F3 (53)</TH><TH>A3 (57)</TH><TH>B-3 (58)</TH><TH>F4 (65)</TH><TH>A4 (69)</TH><TH>B-4 (70)</TH><TH>F5 (77)</TH><TH>A5 (81)</TH><TH>B-5 (82)</TH><TH>F6 (89)</TH><TH>A6 (93)</TH><TH>B-6 (94)</TH></TR><TR><TH>F3 (53)</TH><TD>0.16417593440948203</TD><TD>0.11179551656886542</TD><TD>0.130615815563884</TD><TD>0.02822897005235694</TD><TD>0.004434547544430277</TD><TD>0.13219276108613548</TD><TD>0.14926289237934462</TD><TD>0.004075634263698167</TD><TD>0.08121920608047843</TD><TD>0.0869186781190517</TD><TD>0.09849850132934597</TD><TD>0.008581542602926893</TD></TR><TR><TH>A3 (57)</TH><TD>0.1457611269131324</TD><TD>0.11859472802457852</TD><TD>0.13326445694087363</TD><TD>0.0814589265939285</TD><TD>0.13193554112626465</TD><TD>0.015628023814705277</TD><TD>0.03565498658157356</TD><TD>0.04213118441366241</TD><TD>0.07622882412561413</TD><TD>0.07480676914046569</TD><TD>0.11554033633264532</TD><TD>0.028995095992556022</TD></TR><TR><TH>B-3 (58)</TH><TD>0.08199022728824899</TD><TD>0.025878683708085205</TD><TD>0.11860991933118108</TD><TD>0.1431949023301065</TD><TD>0.09403054741435801</TD><TD>0.023169783690295244</TD><TD>0.07553789341894152</TD><TD>0.058215458204754704</TD><TD>0.13091925446370797</TD><TD>0.14056089022808804</TD><TD>0.05921883665458225</TD><TD>0.048673603267650654</TD></TR><TR><TH>F4 (65)</TH><TD>0.08120194224878792</TD><TD>0.026832065668383698</TD><TD>0.01797797835201569</TD><TD>0.09823133221398116</TD><TD>0.11423343856226682</TD><TD>0.08193659772145943</TD><TD>0.139037610383501</TD><TD>0.0905822951585494</TD><TD>0.1269217306967462</TD><TD>0.07077595790169902</TD><TD>0.0502326510810195</TD><TD>0.10203640001158996</TD></TR><TR><TH>A4 (69)</TH><TD>0.07757942867833127</TD><TD>0.03473670409363331</TD><TD>0.03771359203992754</TD><TD>0.12205094597264708</TD><TD>0.07623134238767947</TD><TD>0.14087783787910513</TD><TD>0.14553913311772393</TD><TD>0.08209061627777568</TD><TD>0.0388710050519561</TD><TD>0.11097605755207605</TD><TD>0.05656686315406004</TD><TD>0.07676647379508451</TD></TR><TR><TH>B-4 (70)</TH><TD>0.032014347744501945</TD><TD>0.049957723466055114</TD><TD>0.09196332809127349</TD><TD>0.04421644238054513</TD><TD>0.10861992176469694</TD><TD>0.11047114493500877</TD><TD>0.12044280212320113</TD><TD>0.13421871927341583</TD><TD>0.015164392860719642</TD><TD>0.12868265315245275</TD><TD>0.04748354655683773</TD><TD>0.11676497765129153</TD></TR><TR><TH>F5 (77)</TH><TD>0.16100607654695104</TD><TD>0.007657742674666072</TD><TD>0.03510094902292795</TD><TD>0.05279642451191045</TD><TD>0.11240476492127388</TD><TD>0.015457559343176604</TD><TD>0.025626322821627693</TD><TD>0.09247427380914829</TD><TD>0.12358096470461816</TD><TD>0.15357071966186267</TD><TD>0.11605510636857978</TD><TD>0.10426909561325748</TD></TR><TR><TH>A5 (81)</TH><TD>0.10064101316638671</TD><TD>0.03572341198548968</TD><TD>0.12739551392104578</TD><TD>0.06259581865945893</TD><TD>0.002904219163772409</TD><TD>0.13581646713516518</TD><TD>0.0923065034012986</TD><TD>0.07263175098736901</TD><TD>0.09657080149470328</TD><TD>0.0692824293219057</TD><TD>0.13112194833420224</TD><TD>0.07301012242920238</TD></TR><TR><TH>B-5 (82)</TH><TD>0.013449753921907332</TD><TD>0.1057768773408527</TD><TD>0.11467409901505046</TD><TD>0.175493164094519</TD><TD>0.0774188479069558</TD><TD>0.0492885035222473</TD><TD>0.01815294144495444</TD><TD>0.0905556532431973</TD><TD>0.08660769684895789</TD><TD>0.00554678695114946</TD><TD>0.1294051596363553</TD><TD>0.1336305160738532</TD></TR><TR><TH>F6 (89)</TH><TD>0.13239766805764017</TD><TD>0.07516888155273523</TD><TD>0.002739134764561422</TD><TD>0.1649003938997175</TD><TD>0.14320398140773458</TD><TD>0.029969364775944363</TD><TD>0.056743606031833094</TD><TD>0.11083374584149928</TD><TD>0.06612347032554526</TD><TD>0.028307511609119224</TD><TD>0.032165311046072814</TD><TD>0.15744693068759705</TD></TR><TR><TH>A6 (93)</TH><TD>0.043960678068387896</TD><TD>0.08867757922864808</TD><TD>0.0687979640976153</TD><TD>0.0623095543055684</TD><TD>0.13375360844976542</TD><TD>0.10497233264254453</TD><TD>0.04232082625533675</TD><TD>0.009765213104324157</TD><TD>0.030099238941729407</TD><TD>0.1411863424494319</TD><TD>0.1294770427594276</TD><TD>0.14467961969722054</TD></TR><TR><TH>B-6 (94)</TH><TD>0.008693068996081087</TD><TD>0.09640314869794395</TD><TD>0.07993721625074986</TD><TD>0.003611589657198858</TD><TD>0.06215694455551477</TD><TD>0.06888991269204715</TD><TD>0.10046834180301205</TD><TD>0.11175471488933145</TD><TD>0.13955694051259068</TD><TD>0.1296849932301671</TD><TD>0.06666217457380359</TD><TD>0.13218095414155961</TD></TR></TABLE>"
      ],
      "text/plain": [
       "<IPython.core.display.HTML object>"
      ]
     },
     "metadata": {},
     "output_type": "display_data"
    }
   ],
   "source": [
    "#make a matrix for the MIDI values we got before\n",
    "midiExampleMatrix = np.random.rand(12, 12)\n",
    "normalize(midiExampleMatrix)\n",
    "print(midiExampleMatrix)\n",
    "\n",
    "#print nice version\n",
    "printChain(exampleMIDI, midiExampleMatrix)"
   ]
  },
  {
   "cell_type": "markdown",
   "metadata": {},
   "source": [
    "Since the MIDI number labels of matrix are important to keep track of along with the matrix, a better saving and loading system from Numpy can be used to save and load multiple arrays:"
   ]
  },
  {
   "cell_type": "code",
   "execution_count": 17,
   "metadata": {},
   "outputs": [
    {
     "name": "stdout",
     "output_type": "stream",
     "text": [
      "Cleared Version:\n",
      "labels: ['Hello World!']\n",
      "matrix: [['Hi!']]\n",
      "Loaded Version:\n",
      "labels: [53 57 58 65 69 70 77 81 82 89 93 94]\n",
      "matrix: [[0.16417593 0.11179552 0.13061582 0.02822897 0.00443455 0.13219276\n",
      "  0.14926289 0.00407563 0.08121921 0.08691868 0.0984985  0.00858154]\n",
      " [0.14576113 0.11859473 0.13326446 0.08145893 0.13193554 0.01562802\n",
      "  0.03565499 0.04213118 0.07622882 0.07480677 0.11554034 0.0289951 ]\n",
      " [0.08199023 0.02587868 0.11860992 0.1431949  0.09403055 0.02316978\n",
      "  0.07553789 0.05821546 0.13091925 0.14056089 0.05921884 0.0486736 ]\n",
      " [0.08120194 0.02683207 0.01797798 0.09823133 0.11423344 0.0819366\n",
      "  0.13903761 0.0905823  0.12692173 0.07077596 0.05023265 0.1020364 ]\n",
      " [0.07757943 0.0347367  0.03771359 0.12205095 0.07623134 0.14087784\n",
      "  0.14553913 0.08209062 0.03887101 0.11097606 0.05656686 0.07676647]\n",
      " [0.03201435 0.04995772 0.09196333 0.04421644 0.10861992 0.11047114\n",
      "  0.1204428  0.13421872 0.01516439 0.12868265 0.04748355 0.11676498]\n",
      " [0.16100608 0.00765774 0.03510095 0.05279642 0.11240476 0.01545756\n",
      "  0.02562632 0.09247427 0.12358096 0.15357072 0.11605511 0.1042691 ]\n",
      " [0.10064101 0.03572341 0.12739551 0.06259582 0.00290422 0.13581647\n",
      "  0.0923065  0.07263175 0.0965708  0.06928243 0.13112195 0.07301012]\n",
      " [0.01344975 0.10577688 0.1146741  0.17549316 0.07741885 0.0492885\n",
      "  0.01815294 0.09055565 0.0866077  0.00554679 0.12940516 0.13363052]\n",
      " [0.13239767 0.07516888 0.00273913 0.16490039 0.14320398 0.02996936\n",
      "  0.05674361 0.11083375 0.06612347 0.02830751 0.03216531 0.15744693]\n",
      " [0.04396068 0.08867758 0.06879796 0.06230955 0.13375361 0.10497233\n",
      "  0.04232083 0.00976521 0.03009924 0.14118634 0.12947704 0.14467962]\n",
      " [0.00869307 0.09640315 0.07993722 0.00361159 0.06215694 0.06888991\n",
      "  0.10046834 0.11175471 0.13955694 0.12968499 0.06666217 0.13218095]]\n"
     ]
    }
   ],
   "source": [
    "#save the arrays and use labels/matrix as the keywords\n",
    "np.savez(\"exampleChain.npz\", labels = exampleMIDI, matrix = midiExampleMatrix)\n",
    "\n",
    "#clear for testing\n",
    "exampleMIDI = [\"Hello World!\"]\n",
    "midiExampleMatrix = [[\"Hi!\"]]\n",
    "print(\"Cleared Version:\")\n",
    "print(\"labels: \" + str(exampleMIDI))\n",
    "print(\"matrix: \" + str(midiExampleMatrix))\n",
    "\n",
    "#load\n",
    "exampleLoad = np.load(\"exampleChain.npz\");\n",
    "exampleMIDI = exampleLoad['labels']\n",
    "midiExampleMatrix = exampleLoad['matrix']\n",
    "print(\"Loaded Version:\")\n",
    "print(\"labels: \" + str(exampleMIDI))\n",
    "print(\"matrix: \" + str(midiExampleMatrix))"
   ]
  },
  {
   "cell_type": "markdown",
   "metadata": {},
   "source": [
    "The next function to build is one that will generate a list of midi pitches by calling the choose() method repeatedly:"
   ]
  },
  {
   "cell_type": "code",
   "execution_count": 18,
   "metadata": {},
   "outputs": [],
   "source": [
    "#generates a list of MIDI pitches using a given Markov chain and list of values\n",
    "#start is the index of the first midi pitch in the given list of MIDI values (default 0)\n",
    "#length is how long the fragment should be (default 8)\n",
    "def generateFragment(midi, matrix, start = 0, length = 8):\n",
    "    curr = start\n",
    "    fragment = [midi[start]]\n",
    "    for i in range(length-1):\n",
    "        row = matrix[curr]\n",
    "        curr = choose(row)\n",
    "        fragment.append(midi[curr])\n",
    "        \n",
    "    return fragment"
   ]
  },
  {
   "cell_type": "code",
   "execution_count": 19,
   "metadata": {},
   "outputs": [
    {
     "name": "stdout",
     "output_type": "stream",
     "text": [
      "[53, 93, 65, 94, 93, 93, 69, 93]\n"
     ]
    }
   ],
   "source": [
    "#generate fragment from previous midi example\n",
    "fragmentExample = generateFragment(exampleMIDI, midiExampleMatrix)\n",
    "print(fragmentExample)"
   ]
  },
  {
   "cell_type": "markdown",
   "metadata": {},
   "source": [
    "Now this list can be used with Music21 to output a score and audio for it using a stream:"
   ]
  },
  {
   "cell_type": "code",
   "execution_count": 20,
   "metadata": {},
   "outputs": [],
   "source": [
    "#generates a Music21 Stream from the list form of a musical fragment\n",
    "def streamFromMIDI(fragment, title = \"Fragment\", name = \"unknown\"):\n",
    "    result = stream.Stream();\n",
    "    result.metadata = metadata.Metadata()\n",
    "    result.metadata.composer = name\n",
    "    result.metadata.title = title\n",
    "    result.insert(0, instrument.Piano())\n",
    "    result.append(note.Rest()) #this is necessary for proper playback in Jupyter\n",
    "    for value in fragment:\n",
    "        converted = note.Note(value)\n",
    "        result.append(converted)\n",
    "    \n",
    "    return result"
   ]
  },
  {
   "cell_type": "markdown",
   "metadata": {},
   "source": [
    "Here's a function which uses a showScore method obtained from this <a href='https://github.com/cuthbertLab/music21/issues/306'>GitHub</a> to show the score in Jupyter, as well as the default way to output midi in Music21"
   ]
  },
  {
   "cell_type": "code",
   "execution_count": 21,
   "metadata": {},
   "outputs": [],
   "source": [
    "def show(fragment):\n",
    "    showScore(fragment)\n",
    "    fragment.show('midi')"
   ]
  },
  {
   "cell_type": "code",
   "execution_count": 22,
   "metadata": {},
   "outputs": [
    {
     "name": "stdout",
     "output_type": "stream",
     "text": [
      "DIV_ID OSMD-div-908019\n"
     ]
    },
    {
     "data": {
      "text/html": [
       "<div id=\"OSMD-div-908019\">loading OpenSheetMusicDisplay</div>"
      ],
      "text/plain": [
       "<IPython.core.display.HTML object>"
      ]
     },
     "metadata": {},
     "output_type": "display_data"
    },
    {
     "data": {
      "application/javascript": [
       "\n",
       "    console.log(\"loadOSMD()\");\n",
       "    function loadOSMD() { \n",
       "        return new Promise(function(resolve, reject){\n",
       "\n",
       "            if (window.opensheetmusicdisplay) {\n",
       "                console.log(\"already loaded\")\n",
       "                return resolve(window.opensheetmusicdisplay)\n",
       "            }\n",
       "            console.log(\"loading osmd for the first time\")\n",
       "            // OSMD script has a 'define' call which conflicts with requirejs\n",
       "            var _define = window.define // save the define object \n",
       "            window.define = undefined // now the loaded script will ignore requirejs\n",
       "            var s = document.createElement( 'script' );\n",
       "            s.setAttribute( 'src', \"https://cdn.jsdelivr.net/npm/opensheetmusicdisplay@0.3.1/build/opensheetmusicdisplay.min.js\" );\n",
       "            //s.setAttribute( 'src', \"/custom/opensheetmusicdisplay.js\" );\n",
       "            s.onload=function(){\n",
       "                window.define = _define\n",
       "                console.log(\"loaded OSMD for the first time\",opensheetmusicdisplay)\n",
       "                resolve(opensheetmusicdisplay);\n",
       "            };\n",
       "            document.body.appendChild( s ); // browser will try to load the new script tag\n",
       "        }) \n",
       "    }\n",
       "    loadOSMD().then((OSMD)=>{\n",
       "        console.log(\"loaded OSMD\",OSMD)\n",
       "        var div_id = \"OSMD-div-908019\";\n",
       "            console.log(div_id)\n",
       "        window.openSheetMusicDisplay = new OSMD.OpenSheetMusicDisplay(div_id);\n",
       "        openSheetMusicDisplay\n",
       "            .load(\"<?xml version=\\\"1.0\\\" encoding=\\\"utf-8\\\"?>\\n<!DOCTYPE score-partwise  PUBLIC \\\"-//Recordare//DTD MusicXML 3.0 Partwise//EN\\\" \\\"http://www.musicxml.org/dtds/partwise.dtd\\\">\\n<score-partwise version=\\\"3.0\\\">\\n  <work>\\n    <work-title>Fragment</work-title>\\n  </work>\\n  <movement-title>Fragment</movement-title>\\n  <identification>\\n    <creator type=\\\"composer\\\">unknown</creator>\\n    <encoding>\\n      <encoding-date>2021-11-17</encoding-date>\\n      <software>music21 v.5.7.2</software>\\n    </encoding>\\n  </identification>\\n  <defaults>\\n    <scaling>\\n      <millimeters>7</millimeters>\\n      <tenths>40</tenths>\\n    </scaling>\\n  </defaults>\\n  <part-list>\\n    <score-part id=\\\"P18a9fc58f220f55b9aa7673238efa219\\\">\\n      <part-name>Piano</part-name>\\n      <part-abbreviation>Pno</part-abbreviation>\\n      <score-instrument id=\\\"Idaddcae0173edb196039c9f0ad1b43ac\\\">\\n        <instrument-name>Piano</instrument-name>\\n        <instrument-abbreviation>Pno</instrument-abbreviation>\\n      </score-instrument>\\n      <midi-instrument id=\\\"Idaddcae0173edb196039c9f0ad1b43ac\\\">\\n        <midi-channel>1</midi-channel>\\n        <midi-program>1</midi-program>\\n      </midi-instrument>\\n    </score-part>\\n  </part-list>\\n  <!--=========================== Part 1 ===========================-->\\n  <part id=\\\"P18a9fc58f220f55b9aa7673238efa219\\\">\\n    <!--========================= Measure 1 ==========================-->\\n    <measure number=\\\"1\\\">\\n      <attributes>\\n        <divisions>10080</divisions>\\n        <time>\\n          <beats>4</beats>\\n          <beat-type>4</beat-type>\\n        </time>\\n        <clef>\\n          <sign>G</sign>\\n          <line>2</line>\\n        </clef>\\n      </attributes>\\n      <note>\\n        <rest />\\n        <duration>10080</duration>\\n        <type>quarter</type>\\n      </note>\\n      <note>\\n        <pitch>\\n          <step>F</step>\\n          <alter>0</alter>\\n          <octave>3</octave>\\n        </pitch>\\n        <duration>10080</duration>\\n        <type>quarter</type>\\n        <accidental>natural</accidental>\\n      </note>\\n      <note>\\n        <pitch>\\n          <step>A</step>\\n          <alter>0</alter>\\n          <octave>6</octave>\\n        </pitch>\\n        <duration>10080</duration>\\n        <type>quarter</type>\\n        <accidental>natural</accidental>\\n      </note>\\n      <note>\\n        <pitch>\\n          <step>F</step>\\n          <alter>0</alter>\\n          <octave>4</octave>\\n        </pitch>\\n        <duration>10080</duration>\\n        <type>quarter</type>\\n      </note>\\n    </measure>\\n    <!--========================= Measure 2 ==========================-->\\n    <measure number=\\\"2\\\">\\n      <note>\\n        <pitch>\\n          <step>B</step>\\n          <alter>-1</alter>\\n          <octave>6</octave>\\n        </pitch>\\n        <duration>10080</duration>\\n        <type>quarter</type>\\n        <accidental>flat</accidental>\\n      </note>\\n      <note>\\n        <pitch>\\n          <step>A</step>\\n          <alter>0</alter>\\n          <octave>6</octave>\\n        </pitch>\\n        <duration>10080</duration>\\n        <type>quarter</type>\\n        <accidental>natural</accidental>\\n      </note>\\n      <note>\\n        <pitch>\\n          <step>A</step>\\n          <alter>0</alter>\\n          <octave>6</octave>\\n        </pitch>\\n        <duration>10080</duration>\\n        <type>quarter</type>\\n      </note>\\n      <note>\\n        <pitch>\\n          <step>A</step>\\n          <alter>0</alter>\\n          <octave>4</octave>\\n        </pitch>\\n        <duration>10080</duration>\\n        <type>quarter</type>\\n      </note>\\n    </measure>\\n    <!--========================= Measure 3 ==========================-->\\n    <measure number=\\\"3\\\">\\n      <note>\\n        <pitch>\\n          <step>A</step>\\n          <alter>0</alter>\\n          <octave>6</octave>\\n        </pitch>\\n        <duration>10080</duration>\\n        <type>quarter</type>\\n        <accidental>natural</accidental>\\n      </note>\\n      <barline location=\\\"right\\\">\\n        <bar-style>light-heavy</bar-style>\\n      </barline>\\n    </measure>\\n  </part>\\n</score-partwise>\\n\")\n",
       "            .then(\n",
       "              function() {\n",
       "                console.log(\"rendering data\")\n",
       "                openSheetMusicDisplay.render();\n",
       "              }\n",
       "            );\n",
       "    })\n",
       "    "
      ],
      "text/plain": [
       "<IPython.core.display.Javascript object>"
      ]
     },
     "metadata": {},
     "output_type": "display_data"
    },
    {
     "name": "stdout",
     "output_type": "stream",
     "text": [
      "xml length: 3959\n"
     ]
    },
    {
     "data": {
      "text/html": [
       "\n",
       "                <div id='midiPlayerDiv500'></div>\n",
       "                <link rel=\"stylesheet\" href=\"//cuthbertLab.github.io/music21j/css/m21.css\"\n",
       "                    type=\"text/css\" />\n",
       "                <script>\n",
       "                require.config({\n",
       "                    paths: {'music21': '//cuthbertLab.github.io/music21j/src/music21'}\n",
       "                });\n",
       "                require(['music21'], function() {\n",
       "                               mp = new music21.miditools.MidiPlayer();\n",
       "                               mp.addPlayer('#midiPlayerDiv500');\n",
       "                               mp.base64Load('data:audio/midi;base64,TVRoZAAAAAYAAQABBABNVHJrAAAAYQD/AwVQaWFubwDAAADgAEAAwACIAJA1WogAgDUAAJBdWogAgF0AAJBBWogAgEEAAJBeWogAgF4AAJBdWogAgF0AAJBdWogAgF0AAJBFWogAgEUAAJBdWogAgF0AiAD/LwA=');\n",
       "                        });\n",
       "                </script>"
      ],
      "text/plain": [
       "<IPython.core.display.HTML object>"
      ]
     },
     "metadata": {},
     "output_type": "display_data"
    }
   ],
   "source": [
    "#turn midi list into stream:\n",
    "streamExample = streamFromMIDI(fragmentExample)\n",
    "show(streamExample)"
   ]
  },
  {
   "cell_type": "markdown",
   "metadata": {},
   "source": [
    "## User Interface:"
   ]
  },
  {
   "cell_type": "markdown",
   "metadata": {},
   "source": [
    "Below is a user interface for easily changing parameters, along with the helper functions for making it work. I tried using widgets to make it more user-friendly, but something is wrong with my installation of it, and the widgets extension isn't working. Instead, there are fill in the variable boxes below (restart:"
   ]
  },
  {
   "cell_type": "markdown",
   "metadata": {},
   "source": [
    "##### <center>MIDI Pitch Values with Keyboard</center>\n",
    "![](notes.gif)"
   ]
  },
  {
   "cell_type": "code",
   "execution_count": 23,
   "metadata": {},
   "outputs": [],
   "source": [
    "#edit these\n",
    "seed = 99999 #change the random seed\n",
    "pcs = {0,1,2,3,4,5,6,7,8,9,10,11} #remove pitch classes as wanted\n",
    "minMIDI = 48 #currently set to C3\n",
    "maxMIDI = 60 #currently set to C4\n",
    "start = 0 #from set order: so if {01347} was given, 0=0 1=1 2=3 3=4 4=7\n",
    "length = 8\n",
    "title = \"Hello World!\"\n",
    "composer = \"Collin Presser\""
   ]
  },
  {
   "cell_type": "code",
   "execution_count": 24,
   "metadata": {},
   "outputs": [
    {
     "name": "stdout",
     "output_type": "stream",
     "text": [
      "[48, 49, 50, 51, 52, 53, 54, 55, 56, 57, 58, 59]\n"
     ]
    },
    {
     "data": {
      "text/html": [
       "<TABLE><TR><TH></TH><TH>C3 (48)</TH><TH>C#3 (49)</TH><TH>D3 (50)</TH><TH>E-3 (51)</TH><TH>E3 (52)</TH><TH>F3 (53)</TH><TH>F#3 (54)</TH><TH>G3 (55)</TH><TH>G#3 (56)</TH><TH>A3 (57)</TH><TH>B-3 (58)</TH><TH>B3 (59)</TH></TR><TR><TH>C3 (48)</TH><TD>0.15871333694585035</TD><TD>0.17476962170484625</TD><TD>1.961272177059921e-05</TD><TD>0.0030246632442319423</TD><TD>0.05743024913168412</TD><TD>0.18200160935610182</TD><TD>0.027217369564836266</TD><TD>0.030606259349498205</TD><TD>0.13871102977713834</TD><TD>0.012714061582750352</TD><TD>0.1290015217878325</TD><TD>0.08579066483345917</TD></TR><TR><TH>C#3 (49)</TH><TD>0.001988946845284587</TD><TD>0.15126136496753478</TD><TD>0.15504417757450134</TD><TD>0.02919899671756814</TD><TD>0.004627430660167428</TD><TD>0.14877033568813608</TD><TD>0.0436649648192895</TD><TD>0.05118177067855423</TD><TD>0.08919021201311193</TD><TD>0.048790813818838964</TD><TD>0.11094050058918414</TD><TD>0.1653404856278289</TD></TR><TR><TH>D3 (50)</TH><TD>0.06262872061622944</TD><TD>0.07163388023712101</TD><TD>0.1379157302869381</TD><TD>0.06147460135751042</TD><TD>0.006717277565296146</TD><TD>0.09187624455094628</TD><TD>0.07474480157302628</TD><TD>0.12013945478738892</TD><TD>0.06268685810967611</TD><TD>0.13924803238301145</TD><TD>0.07773767473098331</TD><TD>0.0931967238018725</TD></TR><TR><TH>E-3 (51)</TH><TD>0.13283361134414706</TD><TD>0.09286345725612995</TD><TD>0.1252874023308671</TD><TD>0.04457537050977989</TD><TD>0.1472307194539409</TD><TD>0.07667916045523339</TD><TD>0.039141865791208964</TD><TD>0.05447605358938907</TD><TD>0.0500688093963495</TD><TD>0.030564430220060387</TD><TD>0.15496741866373503</TD><TD>0.05131170098915875</TD></TR><TR><TH>E3 (52)</TH><TD>0.03462588153147869</TD><TD>0.18058165407155383</TD><TD>0.11206957539797521</TD><TD>0.18128767663411707</TD><TD>0.17912823220620078</TD><TD>0.08290488312402618</TD><TD>0.05462898476382869</TD><TD>0.060276617015265314</TD><TD>0.03257006428356999</TD><TD>0.010084360222772858</TD><TD>0.009266148783923374</TD><TD>0.062575921965288</TD></TR><TR><TH>F3 (53)</TH><TD>0.03368027171770747</TD><TD>0.09216911725008152</TD><TD>0.13164534842241193</TD><TD>0.11500339477493533</TD><TD>0.10640805938549391</TD><TD>0.045787635465942604</TD><TD>0.05355178293624013</TD><TD>0.028920431648171582</TD><TD>0.1379772565777103</TD><TD>0.08285109119462296</TD><TD>0.12054370152831713</TD><TD>0.05146190909836499</TD></TR><TR><TH>F#3 (54)</TH><TD>0.13484741750409157</TD><TD>0.01755404220614707</TD><TD>0.12007734472680842</TD><TD>0.15469970478008951</TD><TD>0.13550016142155685</TD><TD>0.05515765450313302</TD><TD>0.04301604449197266</TD><TD>0.0834670181263137</TD><TD>0.06974287145725479</TD><TD>0.0716526796703591</TD><TD>0.012541632421605735</TD><TD>0.1017434286906677</TD></TR><TR><TH>G3 (55)</TH><TD>0.11675346159888192</TD><TD>0.12462502483742945</TD><TD>0.05961124530731242</TD><TD>0.1245596988397337</TD><TD>0.0737205510156295</TD><TD>0.1127220027582815</TD><TD>0.029565369819403692</TD><TD>0.06790761718466704</TD><TD>0.1286707528546946</TD><TD>0.12910897206815533</TD><TD>0.02961424538079707</TD><TD>0.003141058335013865</TD></TR><TR><TH>G#3 (56)</TH><TD>0.0895264371203384</TD><TD>0.04419365627805793</TD><TD>0.053386129196872675</TD><TD>0.09774712847400648</TD><TD>0.12253603152247486</TD><TD>0.11358801743723027</TD><TD>0.017172776514007893</TD><TD>0.10152876789505524</TD><TD>0.08680297029462192</TD><TD>0.06745462333994263</TD><TD>0.11020497725897298</TD><TD>0.0958584846684186</TD></TR><TR><TH>A3 (57)</TH><TD>0.018376395657173993</TD><TD>0.0649543060411748</TD><TD>0.08130396706589016</TD><TD>0.0001901880040987171</TD><TD>0.11781930996858989</TD><TD>0.13457803464193863</TD><TD>0.07221816931742693</TD><TD>0.07817615508704505</TD><TD>0.09372473485218442</TD><TD>0.11456928960053696</TD><TD>0.02703880016577502</TD><TD>0.19705064959816543</TD></TR><TR><TH>B-3 (58)</TH><TD>0.07693326165437735</TD><TD>0.07477073797177305</TD><TD>0.02833848485997817</TD><TD>0.04490004935309673</TD><TD>0.1210902291894875</TD><TD>0.04470143754948987</TD><TD>0.1057144915871535</TD><TD>0.04139270159950435</TD><TD>0.13837970621888582</TD><TD>0.04527176265596892</TD><TD>0.13494213103049416</TD><TD>0.14356500632979055</TD></TR><TR><TH>B3 (59)</TH><TD>0.036033137278504115</TD><TD>0.07664543357747561</TD><TD>0.14552470312687316</TD><TD>0.1965549019901275</TD><TD>0.030915822099120725</TD><TD>0.021305590437918336</TD><TD>0.08780469771521086</TD><TD>0.20801751904346888</TD><TD>0.008854335986673362</TD><TD>0.03987328089722946</TD><TD>0.12986474389194244</TD><TD>0.018605833955455574</TD></TR></TABLE>"
      ],
      "text/plain": [
       "<IPython.core.display.HTML object>"
      ]
     },
     "metadata": {},
     "output_type": "display_data"
    }
   ],
   "source": [
    "#do not change\n",
    "resMIDI = pcsToMIDI(pcs, minMIDI, maxMIDI)\n",
    "print(resMIDI)\n",
    "probMatrix = np.random.rand(len(resMIDI), len(resMIDI))\n",
    "normalize(probMatrix)\n",
    "printChain(resMIDI, probMatrix)"
   ]
  },
  {
   "cell_type": "code",
   "execution_count": 25,
   "metadata": {},
   "outputs": [
    {
     "name": "stdout",
     "output_type": "stream",
     "text": [
      "DIV_ID OSMD-div-979951\n"
     ]
    },
    {
     "data": {
      "text/html": [
       "<div id=\"OSMD-div-979951\">loading OpenSheetMusicDisplay</div>"
      ],
      "text/plain": [
       "<IPython.core.display.HTML object>"
      ]
     },
     "metadata": {},
     "output_type": "display_data"
    },
    {
     "name": "stdout",
     "output_type": "stream",
     "text": [
      "xml length: 4091\n"
     ]
    },
    {
     "data": {
      "application/javascript": [
       "\n",
       "    console.log(\"loadOSMD()\");\n",
       "    function loadOSMD() { \n",
       "        return new Promise(function(resolve, reject){\n",
       "\n",
       "            if (window.opensheetmusicdisplay) {\n",
       "                console.log(\"already loaded\")\n",
       "                return resolve(window.opensheetmusicdisplay)\n",
       "            }\n",
       "            console.log(\"loading osmd for the first time\")\n",
       "            // OSMD script has a 'define' call which conflicts with requirejs\n",
       "            var _define = window.define // save the define object \n",
       "            window.define = undefined // now the loaded script will ignore requirejs\n",
       "            var s = document.createElement( 'script' );\n",
       "            s.setAttribute( 'src', \"https://cdn.jsdelivr.net/npm/opensheetmusicdisplay@0.3.1/build/opensheetmusicdisplay.min.js\" );\n",
       "            //s.setAttribute( 'src', \"/custom/opensheetmusicdisplay.js\" );\n",
       "            s.onload=function(){\n",
       "                window.define = _define\n",
       "                console.log(\"loaded OSMD for the first time\",opensheetmusicdisplay)\n",
       "                resolve(opensheetmusicdisplay);\n",
       "            };\n",
       "            document.body.appendChild( s ); // browser will try to load the new script tag\n",
       "        }) \n",
       "    }\n",
       "    loadOSMD().then((OSMD)=>{\n",
       "        console.log(\"loaded OSMD\",OSMD)\n",
       "        var div_id = \"OSMD-div-979951\";\n",
       "            console.log(div_id)\n",
       "        window.openSheetMusicDisplay = new OSMD.OpenSheetMusicDisplay(div_id);\n",
       "        openSheetMusicDisplay\n",
       "            .load(\"<?xml version=\\\"1.0\\\" encoding=\\\"utf-8\\\"?>\\n<!DOCTYPE score-partwise  PUBLIC \\\"-//Recordare//DTD MusicXML 3.0 Partwise//EN\\\" \\\"http://www.musicxml.org/dtds/partwise.dtd\\\">\\n<score-partwise version=\\\"3.0\\\">\\n  <work>\\n    <work-title>Hello World!</work-title>\\n  </work>\\n  <movement-title>Hello World!</movement-title>\\n  <identification>\\n    <creator type=\\\"composer\\\">Collin Presser</creator>\\n    <encoding>\\n      <encoding-date>2021-11-17</encoding-date>\\n      <software>music21 v.5.7.2</software>\\n    </encoding>\\n  </identification>\\n  <defaults>\\n    <scaling>\\n      <millimeters>7</millimeters>\\n      <tenths>40</tenths>\\n    </scaling>\\n  </defaults>\\n  <part-list>\\n    <score-part id=\\\"Pd80febdea19bbbc0f4ca5ab5f3a0931c\\\">\\n      <part-name>Piano</part-name>\\n      <part-abbreviation>Pno</part-abbreviation>\\n      <score-instrument id=\\\"I817f68108f397fcb1b210ccb6bbb533d\\\">\\n        <instrument-name>Piano</instrument-name>\\n        <instrument-abbreviation>Pno</instrument-abbreviation>\\n      </score-instrument>\\n      <midi-instrument id=\\\"I817f68108f397fcb1b210ccb6bbb533d\\\">\\n        <midi-channel>1</midi-channel>\\n        <midi-program>1</midi-program>\\n      </midi-instrument>\\n    </score-part>\\n  </part-list>\\n  <!--=========================== Part 1 ===========================-->\\n  <part id=\\\"Pd80febdea19bbbc0f4ca5ab5f3a0931c\\\">\\n    <!--========================= Measure 1 ==========================-->\\n    <measure number=\\\"1\\\">\\n      <attributes>\\n        <divisions>10080</divisions>\\n        <time>\\n          <beats>4</beats>\\n          <beat-type>4</beat-type>\\n        </time>\\n        <clef>\\n          <sign>F</sign>\\n          <line>4</line>\\n        </clef>\\n      </attributes>\\n      <note>\\n        <rest />\\n        <duration>10080</duration>\\n        <type>quarter</type>\\n      </note>\\n      <note>\\n        <pitch>\\n          <step>C</step>\\n          <alter>0</alter>\\n          <octave>3</octave>\\n        </pitch>\\n        <duration>10080</duration>\\n        <type>quarter</type>\\n        <accidental>natural</accidental>\\n      </note>\\n      <note>\\n        <pitch>\\n          <step>C</step>\\n          <alter>1</alter>\\n          <octave>3</octave>\\n        </pitch>\\n        <duration>10080</duration>\\n        <type>quarter</type>\\n        <accidental>sharp</accidental>\\n      </note>\\n      <note>\\n        <pitch>\\n          <step>G</step>\\n          <alter>1</alter>\\n          <octave>3</octave>\\n        </pitch>\\n        <duration>10080</duration>\\n        <type>quarter</type>\\n        <accidental>sharp</accidental>\\n      </note>\\n    </measure>\\n    <!--========================= Measure 2 ==========================-->\\n    <measure number=\\\"2\\\">\\n      <note>\\n        <pitch>\\n          <step>E</step>\\n          <alter>-1</alter>\\n          <octave>3</octave>\\n        </pitch>\\n        <duration>10080</duration>\\n        <type>quarter</type>\\n        <accidental>flat</accidental>\\n      </note>\\n      <note>\\n        <pitch>\\n          <step>G</step>\\n          <alter>0</alter>\\n          <octave>3</octave>\\n        </pitch>\\n        <duration>10080</duration>\\n        <type>quarter</type>\\n        <accidental>natural</accidental>\\n      </note>\\n      <note>\\n        <pitch>\\n          <step>D</step>\\n          <alter>0</alter>\\n          <octave>3</octave>\\n        </pitch>\\n        <duration>10080</duration>\\n        <type>quarter</type>\\n        <accidental>natural</accidental>\\n      </note>\\n      <note>\\n        <pitch>\\n          <step>G</step>\\n          <alter>1</alter>\\n          <octave>3</octave>\\n        </pitch>\\n        <duration>10080</duration>\\n        <type>quarter</type>\\n        <accidental>sharp</accidental>\\n      </note>\\n    </measure>\\n    <!--========================= Measure 3 ==========================-->\\n    <measure number=\\\"3\\\">\\n      <note>\\n        <pitch>\\n          <step>F</step>\\n          <alter>0</alter>\\n          <octave>3</octave>\\n        </pitch>\\n        <duration>10080</duration>\\n        <type>quarter</type>\\n        <accidental>natural</accidental>\\n      </note>\\n      <barline location=\\\"right\\\">\\n        <bar-style>light-heavy</bar-style>\\n      </barline>\\n    </measure>\\n  </part>\\n</score-partwise>\\n\")\n",
       "            .then(\n",
       "              function() {\n",
       "                console.log(\"rendering data\")\n",
       "                openSheetMusicDisplay.render();\n",
       "              }\n",
       "            );\n",
       "    })\n",
       "    "
      ],
      "text/plain": [
       "<IPython.core.display.Javascript object>"
      ]
     },
     "metadata": {},
     "output_type": "display_data"
    },
    {
     "data": {
      "text/html": [
       "\n",
       "                <div id='midiPlayerDiv1001'></div>\n",
       "                <link rel=\"stylesheet\" href=\"//cuthbertLab.github.io/music21j/css/m21.css\"\n",
       "                    type=\"text/css\" />\n",
       "                <script>\n",
       "                require.config({\n",
       "                    paths: {'music21': '//cuthbertLab.github.io/music21j/src/music21'}\n",
       "                });\n",
       "                require(['music21'], function() {\n",
       "                               mp = new music21.miditools.MidiPlayer();\n",
       "                               mp.addPlayer('#midiPlayerDiv1001');\n",
       "                               mp.base64Load('data:audio/midi;base64,TVRoZAAAAAYAAQABBABNVHJrAAAAYQD/AwVQaWFubwDAAADgAEAAwACIAJAwWogAgDAAAJAxWogAgDEAAJA4WogAgDgAAJAzWogAgDMAAJA3WogAgDcAAJAyWogAgDIAAJA4WogAgDgAAJA1WogAgDUAiAD/LwA=');\n",
       "                        });\n",
       "                </script>"
      ],
      "text/plain": [
       "<IPython.core.display.HTML object>"
      ]
     },
     "metadata": {},
     "output_type": "display_data"
    }
   ],
   "source": [
    "fragment = generateFragment(resMIDI, probMatrix, start, length)\n",
    "stream = streamFromMIDI(fragment, title, composer)\n",
    "show(stream)"
   ]
  },
  {
   "cell_type": "markdown",
   "metadata": {},
   "source": [
    "## References:"
   ]
  },
  {
   "cell_type": "markdown",
   "metadata": {},
   "source": [
    "<div style=“text-indent: -36px; padding-left: 36px;”>\n",
    "    <p>Image of MIDI pitch values. <i>University of New South Wales.</i> n.d. Accessed May 6, 2021. https://newt.phys.unsw.edu.au/jw/notes.html</p>\n",
    "    <p>Osipenko, Alexander. \"Markov Chain for music generation.\" <i>towards data science.</i> July 27, 2019. Accessed May 6, 2021. https://towardsdatascience.com/markov-chain-for-music-generation-932ea8a88305</p>\n",
    "</div>"
   ]
  },
  {
   "cell_type": "markdown",
   "metadata": {},
   "source": [
    "## Further Reading:"
   ]
  },
  {
   "cell_type": "markdown",
   "metadata": {},
   "source": [
    "<div style=“text-indent: -36px; padding-left: 36px;”>\n",
    "    <p>Roads, C. \"Artificial Intelligence and Music.\" <i>Computer Music Journal</i> 4, no. 2 (1980): 13-25. Accessed May 6, 2021. doi:10.2307/3680079.</p>\n",
    "    <p>Serra, Xavier. \"The Computational Study of a Musical Culture through Its Digital Traces.\" <i>Acta Musicologica</i> 89, no. 1 (2017): 24-44. Accessed May 6, 2021. https://www.jstor.org/stable/26350040.</p>\n",
    "    <p>Wilf, Eitan. \"Toward an Anthropology of Computer-Mediated, Algorithmic Forms of Sociality.\" <i>Current Anthropology</i> 54, no. 6 (2013): 716-39. Accessed May 6, 2021. doi:10.1086/673321.</p>\n",
    "</div>"
   ]
  }
 ],
 "metadata": {
  "kernelspec": {
   "display_name": "Python 3",
   "language": "python",
   "name": "python3"
  },
  "language_info": {
   "codemirror_mode": {
    "name": "ipython",
    "version": 3
   },
   "file_extension": ".py",
   "mimetype": "text/x-python",
   "name": "python",
   "nbconvert_exporter": "python",
   "pygments_lexer": "ipython3",
   "version": "3.7.3"
  }
 },
 "nbformat": 4,
 "nbformat_minor": 4
}
