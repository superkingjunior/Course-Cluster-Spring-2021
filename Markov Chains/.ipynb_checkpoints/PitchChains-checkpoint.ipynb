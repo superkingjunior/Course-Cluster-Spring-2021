{
 "cells": [
  {
   "cell_type": "code",
   "execution_count": 1,
   "metadata": {},
   "outputs": [],
   "source": [
    "import music21\n",
    "import numpy as np\n",
    "from ipynb.fs.full.ScoreViewer import showScore\n",
    "import matplotlib as plot\n",
    "\n",
    "np.random.seed(61101)"
   ]
  },
  {
   "cell_type": "code",
   "execution_count": 2,
   "metadata": {},
   "outputs": [],
   "source": [
    "def convertMatrixToChains(given = np.array([])):\n",
    "    sums = given.sum(axis=1)\n",
    "    for i in range(len(given)):\n",
    "        given[i, :] *= 1.0/(sums[i])"
   ]
  },
  {
   "cell_type": "code",
   "execution_count": 3,
   "metadata": {},
   "outputs": [
    {
     "name": "stdout",
     "output_type": "stream",
     "text": [
      "[[0.12638538 0.01611991 0.14706434 0.13600231 0.09515274 0.05144514\n",
      "  0.15002279 0.00861789 0.13923263 0.04847014 0.05001022 0.03147651]\n",
      " [0.08748269 0.12030569 0.11553275 0.05669741 0.0981106  0.06779418\n",
      "  0.0341583  0.12143615 0.04660097 0.08548291 0.11156356 0.0548348 ]\n",
      " [0.07129981 0.03474713 0.07363335 0.11003653 0.07401313 0.16689426\n",
      "  0.02286359 0.12089814 0.13956027 0.0067377  0.11526645 0.06404963]\n",
      " [0.11767965 0.13866695 0.01876182 0.12031441 0.11430347 0.08509804\n",
      "  0.12678353 0.04986155 0.06761405 0.09966878 0.05563286 0.0056149 ]\n",
      " [0.08754933 0.0576525  0.0525125  0.08159755 0.10830828 0.08810948\n",
      "  0.0454023  0.08431251 0.10823451 0.11081049 0.06176869 0.11374187]\n",
      " [0.12604828 0.12983539 0.11241893 0.05101403 0.07011337 0.06770631\n",
      "  0.10731237 0.03544309 0.09893756 0.09836274 0.09102974 0.01177819]\n",
      " [0.06951776 0.15259851 0.00443043 0.0718409  0.02155058 0.15905078\n",
      "  0.12683451 0.1806131  0.05521613 0.13591753 0.02001916 0.00241062]\n",
      " [0.19195219 0.05673313 0.17761832 0.11068678 0.15833232 0.08434801\n",
      "  0.0850383  0.00976822 0.02544551 0.028235   0.03680502 0.0350372 ]\n",
      " [0.06306795 0.13476456 0.00475713 0.05022664 0.17372795 0.07412346\n",
      "  0.01650481 0.11466685 0.05502997 0.09093394 0.15014501 0.07205173]\n",
      " [0.12056129 0.04215383 0.10049975 0.01801899 0.08998269 0.07146247\n",
      "  0.12703814 0.0819721  0.14079232 0.1224989  0.02979815 0.05522138]\n",
      " [0.11563115 0.07861589 0.09976251 0.11886672 0.0111607  0.10302946\n",
      "  0.08677104 0.11726705 0.09806615 0.01239513 0.06451584 0.09391836]\n",
      " [0.00180561 0.14025336 0.00780965 0.03852933 0.05448971 0.13538791\n",
      "  0.02294154 0.07783943 0.19208634 0.08008613 0.14351403 0.10525695]]\n"
     ]
    }
   ],
   "source": [
    "chains = np.random.rand(12, 12)\n",
    "\n",
    "#print(chains)\n",
    "\n",
    "convertMatrixToChains(chains)\n",
    "\n",
    "print(chains)"
   ]
  },
  {
   "cell_type": "markdown",
   "metadata": {},
   "source": [
    "The code above makes a random Markov Chain"
   ]
  },
  {
   "cell_type": "code",
   "execution_count": 4,
   "metadata": {},
   "outputs": [],
   "source": [
    "def getPitchList(probMatrix, start = 0, length = 8):\n",
    "    curr = start\n",
    "    line = np.array([start])\n",
    "    for i in range(length-1):\n",
    "        probs = probMatrix[curr]\n",
    "        curr = np.random.choice(a = len(probs), p = probs)\n",
    "        line = np.append(line, curr)\n",
    "        \n",
    "    return line"
   ]
  },
  {
   "cell_type": "code",
   "execution_count": 5,
   "metadata": {},
   "outputs": [
    {
     "name": "stdout",
     "output_type": "stream",
     "text": [
      "[ 0  5  3  0  0  8  4 10]\n",
      "[0 3 6 5 0 4 0 5]\n",
      "[ 0  6  9 11  5  6  6  1]\n",
      "[ 0  5 11  4  5  7  0  6]\n",
      "[ 0 10 11 10 11 10  3  4]\n",
      "[0 6 0 2 3 1 0 2]\n",
      "[ 0  5  1 10  1  5  0  6]\n",
      "[0 0 4 4 7 3 6 1]\n",
      "[ 0  8  7 11  3  5  0  8]\n",
      "[ 0  8  4  8  9  9 11 11]\n",
      "[0 2 1 2 2 5 0 3]\n",
      "[ 0  5  6 10 10  7  0 11]\n",
      "[0 8 4 5 8 8 1 8]\n",
      "[ 0  0  2  5 10  8 10 10]\n",
      "[ 0  2  6  7  8  8 10  1]\n",
      "[ 0  8 11  4  6  5  6  9]\n",
      "[ 0  4 11  5  0  0  3  5]\n",
      "[0 2 8 4 4 8 3 9]\n",
      "[0 3 1 7 3 8 7 4]\n",
      "[0 4 1 1 1 9 4 8]\n",
      "[0 3 1 4 7 3 8 4]\n",
      "[ 0  0  4  8  1  1  2 11]\n",
      "[ 0  5  0  4  3  0  0 10]\n",
      "[0 9 4 3 3 9 2 8]\n",
      "[0 3 0 0 7 3 3 3]\n",
      "[0 3 4 6 6 1 0 3]\n",
      "[ 0  6  8  0  2 10  3  6]\n",
      "[0 8 4 7 6 5 6 9]\n",
      "[0 0 4 9 0 6 5 0]\n",
      "[ 0 10  5 10  8 11  8  1]\n",
      "[ 0  0  0  0  6  5 10  8]\n",
      "[ 0  3  9  8 11  1  5  0]\n"
     ]
    }
   ],
   "source": [
    "for i in range(32):\n",
    "    pitches = getPitchList(chains)\n",
    "    print(pitches)"
   ]
  },
  {
   "cell_type": "code",
   "execution_count": null,
   "metadata": {},
   "outputs": [],
   "source": []
  }
 ],
 "metadata": {
  "kernelspec": {
   "display_name": "Python 3",
   "language": "python",
   "name": "python3"
  },
  "language_info": {
   "codemirror_mode": {
    "name": "ipython",
    "version": 3
   },
   "file_extension": ".py",
   "mimetype": "text/x-python",
   "name": "python",
   "nbconvert_exporter": "python",
   "pygments_lexer": "ipython3",
   "version": "3.7.3"
  }
 },
 "nbformat": 4,
 "nbformat_minor": 4
}
