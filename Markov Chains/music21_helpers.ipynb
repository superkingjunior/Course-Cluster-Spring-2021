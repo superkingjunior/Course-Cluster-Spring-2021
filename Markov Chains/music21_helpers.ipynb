{
 "cells": [
  {
   "cell_type": "code",
   "execution_count": null,
   "metadata": {},
   "outputs": [],
   "source": [
    "import music21 as m\n",
    "import copy\n",
    "\n",
    "# replace x.show('midi') with play(x)\n",
    "# to solve problem of first note(s) not playing\n",
    "# in many web browsers\n",
    "\n",
    "def play(x):\n",
    "    \"\"\"Returns nothing. Outputs a midi realization of x, a note or stream.\n",
    "    Primarily for use in notebooks and web environments.\n",
    "    \"\"\"\n",
    "    if isinstance(x, m.stream.Stream):\n",
    "        x = copy.deepcopy(x)\n",
    "        for subStream in x.recurse(streamsOnly=True, includeSelf=True):\n",
    "            mss = subStream.getElementsByClass(m.stream.Measure)\n",
    "            for ms in mss:\n",
    "                ms.offset += 1.0\n",
    "    if isinstance(x, m.note.Note):\n",
    "        s = m.stream.Stream()\n",
    "        s.append(m.note.Rest(1))\n",
    "        s.append(x)\n",
    "        x = s\n",
    "    x.show('midi')\n",
    "    \n",
    "    \n",
    "######   \n",
    "\n",
    "def tiny(x):\n",
    "    \"\"\" Returns a stream based on x, a string of tinynotation\n",
    "    which may include chords:\n",
    "    \"c e g chord{c e g}\"\n",
    "    \n",
    "    Do not include 'tinynotation: ' in the string.\n",
    "    \"\"\"\n",
    "    \n",
    "    tnc = m.tinyNotation.Converter(x)\n",
    "    tnc.bracketStateMapping['chord'] = ChordState\n",
    "    s = tnc.parse().stream\n",
    "    return s   \n",
    "\n",
    "\n",
    "# this class is from the music21 documentation\n",
    "class ChordState(m.tinyNotation.State):\n",
    "    def affectTokenAfterParse(self, n):\n",
    "        super().affectTokenAfterParse(n)\n",
    "        return None # do not append Note object\n",
    "    def end(self):\n",
    "        ch = m.chord.Chord(self.affectedTokens)\n",
    "        ch.duration = self.affectedTokens[0].duration\n",
    "        return ch"
   ]
  }
 ],
 "metadata": {
  "kernelspec": {
   "display_name": "Python 3",
   "language": "python",
   "name": "python3"
  },
  "language_info": {
   "codemirror_mode": {
    "name": "ipython",
    "version": 3
   },
   "file_extension": ".py",
   "mimetype": "text/x-python",
   "name": "python",
   "nbconvert_exporter": "python",
   "pygments_lexer": "ipython3",
   "version": "3.7.3"
  }
 },
 "nbformat": 4,
 "nbformat_minor": 4
}
