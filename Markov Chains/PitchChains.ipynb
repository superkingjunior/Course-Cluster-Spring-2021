{
 "cells": [
  {
   "cell_type": "code",
   "execution_count": 1,
   "metadata": {},
   "outputs": [],
   "source": [
    "from music21 import *\n",
    "import numpy as np\n",
    "from ipynb.fs.full.ScoreViewer import showScore\n",
    "import matplotlib as plot\n",
    "from ipynb.fs.full.music21_helpers import play\n",
    "\n",
    "np.random.seed(61101)\n",
    "#np.random.seed(11)\n",
    "#np.random.seed(777777)\n",
    "#np.random.seed(17)"
   ]
  },
  {
   "cell_type": "code",
   "execution_count": 2,
   "metadata": {},
   "outputs": [],
   "source": [
    "def convertMatrixToChains(given):\n",
    "    sums = given.sum(axis=1)\n",
    "    for i in range(len(given)):\n",
    "        given[i, :] *= 1.0/(sums[i])"
   ]
  },
  {
   "cell_type": "code",
   "execution_count": 3,
   "metadata": {},
   "outputs": [
    {
     "name": "stdout",
     "output_type": "stream",
     "text": [
      "[[0.12638538 0.01611991 0.14706434 0.13600231 0.09515274 0.05144514\n",
      "  0.15002279 0.00861789 0.13923263 0.04847014 0.05001022 0.03147651]\n",
      " [0.08748269 0.12030569 0.11553275 0.05669741 0.0981106  0.06779418\n",
      "  0.0341583  0.12143615 0.04660097 0.08548291 0.11156356 0.0548348 ]\n",
      " [0.07129981 0.03474713 0.07363335 0.11003653 0.07401313 0.16689426\n",
      "  0.02286359 0.12089814 0.13956027 0.0067377  0.11526645 0.06404963]\n",
      " [0.11767965 0.13866695 0.01876182 0.12031441 0.11430347 0.08509804\n",
      "  0.12678353 0.04986155 0.06761405 0.09966878 0.05563286 0.0056149 ]\n",
      " [0.08754933 0.0576525  0.0525125  0.08159755 0.10830828 0.08810948\n",
      "  0.0454023  0.08431251 0.10823451 0.11081049 0.06176869 0.11374187]\n",
      " [0.12604828 0.12983539 0.11241893 0.05101403 0.07011337 0.06770631\n",
      "  0.10731237 0.03544309 0.09893756 0.09836274 0.09102974 0.01177819]\n",
      " [0.06951776 0.15259851 0.00443043 0.0718409  0.02155058 0.15905078\n",
      "  0.12683451 0.1806131  0.05521613 0.13591753 0.02001916 0.00241062]\n",
      " [0.19195219 0.05673313 0.17761832 0.11068678 0.15833232 0.08434801\n",
      "  0.0850383  0.00976822 0.02544551 0.028235   0.03680502 0.0350372 ]\n",
      " [0.06306795 0.13476456 0.00475713 0.05022664 0.17372795 0.07412346\n",
      "  0.01650481 0.11466685 0.05502997 0.09093394 0.15014501 0.07205173]\n",
      " [0.12056129 0.04215383 0.10049975 0.01801899 0.08998269 0.07146247\n",
      "  0.12703814 0.0819721  0.14079232 0.1224989  0.02979815 0.05522138]\n",
      " [0.11563115 0.07861589 0.09976251 0.11886672 0.0111607  0.10302946\n",
      "  0.08677104 0.11726705 0.09806615 0.01239513 0.06451584 0.09391836]\n",
      " [0.00180561 0.14025336 0.00780965 0.03852933 0.05448971 0.13538791\n",
      "  0.02294154 0.07783943 0.19208634 0.08008613 0.14351403 0.10525695]]\n"
     ]
    }
   ],
   "source": [
    "chains = np.random.rand(12, 12)\n",
    "\n",
    "#print(chains)\n",
    "\n",
    "convertMatrixToChains(chains)\n",
    "\n",
    "print(chains)"
   ]
  },
  {
   "cell_type": "code",
   "execution_count": 4,
   "metadata": {},
   "outputs": [],
   "source": [
    "def printInHTML(arr):\n",
    "    for i in range(len(arr)):\n",
    "        print(\"line \" + str(i))\n",
    "        for j in range(len(arr[i])):\n",
    "            print(\"<TD>\" + str(arr[i][j]) + \"</TD>\")"
   ]
  },
  {
   "cell_type": "code",
   "execution_count": 5,
   "metadata": {},
   "outputs": [
    {
     "name": "stdout",
     "output_type": "stream",
     "text": [
      "line 0\n",
      "<TD>0.12638537934071162</TD>\n",
      "<TD>0.01611991068547207</TD>\n",
      "<TD>0.14706433682814704</TD>\n",
      "<TD>0.13600231376104766</TD>\n",
      "<TD>0.09515274105896222</TD>\n",
      "<TD>0.05144513737459198</TD>\n",
      "<TD>0.15002278650142523</TD>\n",
      "<TD>0.00861789121890996</TD>\n",
      "<TD>0.13923263142684558</TD>\n",
      "<TD>0.04847014389137562</TD>\n",
      "<TD>0.05001021664670807</TD>\n",
      "<TD>0.03147651126580285</TD>\n",
      "line 1\n",
      "<TD>0.08748269034364582</TD>\n",
      "<TD>0.12030568947763388</TD>\n",
      "<TD>0.11553274661947963</TD>\n",
      "<TD>0.05669741419483598</TD>\n",
      "<TD>0.09811060123350003</TD>\n",
      "<TD>0.06779417959422704</TD>\n",
      "<TD>0.03415830430148494</TD>\n",
      "<TD>0.12143614611279181</TD>\n",
      "<TD>0.0466009664817626</TD>\n",
      "<TD>0.08548290540681094</TD>\n",
      "<TD>0.11156356105743734</TD>\n",
      "<TD>0.054834795176389915</TD>\n",
      "line 2\n",
      "<TD>0.07129980893719642</TD>\n",
      "<TD>0.03474713381520484</TD>\n",
      "<TD>0.07363334777080587</TD>\n",
      "<TD>0.11003652575680543</TD>\n",
      "<TD>0.07401313012266098</TD>\n",
      "<TD>0.16689426203636168</TD>\n",
      "<TD>0.022863592350863854</TD>\n",
      "<TD>0.12089814454474673</TD>\n",
      "<TD>0.13956027087072326</TD>\n",
      "<TD>0.0067377048611426005</TD>\n",
      "<TD>0.11526644853496844</TD>\n",
      "<TD>0.06404963039851984</TD>\n",
      "line 3\n",
      "<TD>0.11767964633459271</TD>\n",
      "<TD>0.1386669521238618</TD>\n",
      "<TD>0.01876181598155476</TD>\n",
      "<TD>0.12031440950267513</TD>\n",
      "<TD>0.11430347239265579</TD>\n",
      "<TD>0.08509804237830701</TD>\n",
      "<TD>0.1267835287889327</TD>\n",
      "<TD>0.049861545093572004</TD>\n",
      "<TD>0.06761405224562335</TD>\n",
      "<TD>0.0996687793616666</TD>\n",
      "<TD>0.05563285552179081</TD>\n",
      "<TD>0.005614900274767274</TD>\n",
      "line 4\n",
      "<TD>0.08754933150852322</TD>\n",
      "<TD>0.057652497577700135</TD>\n",
      "<TD>0.05251249523759175</TD>\n",
      "<TD>0.08159755170017624</TD>\n",
      "<TD>0.10830828020287839</TD>\n",
      "<TD>0.08810948096556659</TD>\n",
      "<TD>0.045402298591841465</TD>\n",
      "<TD>0.08431250750662288</TD>\n",
      "<TD>0.10823450869221135</TD>\n",
      "<TD>0.11081049278733103</TD>\n",
      "<TD>0.06176868753062256</TD>\n",
      "<TD>0.11374186769893442</TD>\n",
      "line 5\n",
      "<TD>0.12604827924219716</TD>\n",
      "<TD>0.12983539016945572</TD>\n",
      "<TD>0.1124189338339215</TD>\n",
      "<TD>0.05101403396863954</TD>\n",
      "<TD>0.07011337164652862</TD>\n",
      "<TD>0.06770631150939906</TD>\n",
      "<TD>0.10731236652841968</TD>\n",
      "<TD>0.03544308533224622</TD>\n",
      "<TD>0.09893756091141612</TD>\n",
      "<TD>0.09836273847052643</TD>\n",
      "<TD>0.09102974076899957</TD>\n",
      "<TD>0.011778187618250493</TD>\n",
      "line 6\n",
      "<TD>0.06951775758802912</TD>\n",
      "<TD>0.15259850989013707</TD>\n",
      "<TD>0.00443043328032432</TD>\n",
      "<TD>0.07184089754434744</TD>\n",
      "<TD>0.021550576271148765</TD>\n",
      "<TD>0.15905077504374626</TD>\n",
      "<TD>0.12683450775977387</TD>\n",
      "<TD>0.18061310245476248</TD>\n",
      "<TD>0.05521613483475063</TD>\n",
      "<TD>0.13591752609296467</TD>\n",
      "<TD>0.020019159350698524</TD>\n",
      "<TD>0.002410619889316678</TD>\n",
      "line 7\n",
      "<TD>0.19195218739434786</TD>\n",
      "<TD>0.056733129558566124</TD>\n",
      "<TD>0.17761831968368066</TD>\n",
      "<TD>0.11068677744925384</TD>\n",
      "<TD>0.15833232170019912</TD>\n",
      "<TD>0.08434801199323626</TD>\n",
      "<TD>0.08503829733545848</TD>\n",
      "<TD>0.009768222876827753</TD>\n",
      "<TD>0.02544550685463457</TD>\n",
      "<TD>0.02823500185886633</TD>\n",
      "<TD>0.03680502439034594</TD>\n",
      "<TD>0.03503719890458316</TD>\n",
      "line 8\n",
      "<TD>0.06306794578391835</TD>\n",
      "<TD>0.1347645622871345</TD>\n",
      "<TD>0.0047571328867394</TD>\n",
      "<TD>0.050226639642768224</TD>\n",
      "<TD>0.17372794909543016</TD>\n",
      "<TD>0.07412346176256306</TD>\n",
      "<TD>0.016504809654056526</TD>\n",
      "<TD>0.11466684886563056</TD>\n",
      "<TD>0.05502996584236384</TD>\n",
      "<TD>0.09093394462297959</TD>\n",
      "<TD>0.1501450124475683</TD>\n",
      "<TD>0.07205172710884765</TD>\n",
      "line 9\n",
      "<TD>0.12056128552556084</TD>\n",
      "<TD>0.04215383051935601</TD>\n",
      "<TD>0.1004997544235946</TD>\n",
      "<TD>0.018018987483826045</TD>\n",
      "<TD>0.08998269048452155</TD>\n",
      "<TD>0.0714624744254769</TD>\n",
      "<TD>0.1270381363440811</TD>\n",
      "<TD>0.08197209742651322</TD>\n",
      "<TD>0.14079231865317582</TD>\n",
      "<TD>0.1224988965385218</TD>\n",
      "<TD>0.029798146092542794</TD>\n",
      "<TD>0.05522138208282918</TD>\n",
      "line 10\n",
      "<TD>0.1156311457236615</TD>\n",
      "<TD>0.07861588664399718</TD>\n",
      "<TD>0.09976251260259641</TD>\n",
      "<TD>0.11886671639791009</TD>\n",
      "<TD>0.011160700483520436</TD>\n",
      "<TD>0.1030294593007058</TD>\n",
      "<TD>0.08677104112738898</TD>\n",
      "<TD>0.11726705329014567</TD>\n",
      "<TD>0.09806614673046313</TD>\n",
      "<TD>0.01239513451877046</TD>\n",
      "<TD>0.06451584190105283</TD>\n",
      "<TD>0.09391836127978744</TD>\n",
      "line 11\n",
      "<TD>0.0018056118982943418</TD>\n",
      "<TD>0.14025336402951746</TD>\n",
      "<TD>0.007809652143921823</TD>\n",
      "<TD>0.03852933477121989</TD>\n",
      "<TD>0.05448970659418339</TD>\n",
      "<TD>0.1353879051421186</TD>\n",
      "<TD>0.022941541639484142</TD>\n",
      "<TD>0.07783943344515588</TD>\n",
      "<TD>0.1920863375067232</TD>\n",
      "<TD>0.08008612990013338</TD>\n",
      "<TD>0.14351403225434467</TD>\n",
      "<TD>0.1052569506749033</TD>\n"
     ]
    }
   ],
   "source": [
    "printInHTML(chains)"
   ]
  },
  {
   "cell_type": "markdown",
   "metadata": {},
   "source": [
    "The code above makes a random Markov Chain"
   ]
  },
  {
   "cell_type": "code",
   "execution_count": 6,
   "metadata": {},
   "outputs": [],
   "source": [
    "def getPitchListFromMatrix(probMatrix, start = 0, length = 8):\n",
    "    curr = start\n",
    "    line = np.array([start])\n",
    "    for i in range(length-1):\n",
    "        probs = probMatrix[curr]\n",
    "        curr = np.random.choice(a = len(probs), p = probs)\n",
    "        line = np.append(line, curr)\n",
    "        \n",
    "    return line"
   ]
  },
  {
   "cell_type": "code",
   "execution_count": 7,
   "metadata": {},
   "outputs": [
    {
     "name": "stdout",
     "output_type": "stream",
     "text": [
      "[ 0  5  3  0  0  8  4 10  3  6  5  0  4  0  5  8 10 11  5  6  6  1  5 11\n",
      "  4  5  7  0  6  9 10 10 11 10  3  4  9  0  2  3  1  0  2  7  1 10  1  5\n",
      "  0  6  0  4  4  7  3  6  1  8  7 11  3  5  0  8]\n"
     ]
    }
   ],
   "source": [
    "pitches = getPitchListFromMatrix(chains, length=64)\n",
    "print(pitches)"
   ]
  },
  {
   "cell_type": "code",
   "execution_count": 8,
   "metadata": {},
   "outputs": [],
   "source": [
    "#n = note.Note(pitch = pitch.Pitch(j + 64))\n",
    "def streamFromPitches(given, notes = range(12)): #[\"C4\", \"D-4\", \"D4\", \"E-4\", \"E4\", \"F4\", \"F#4\", \"G4\", \"G#4\", \"A4\", \"B-4\", \"B4\"]\n",
    "    result = stream.Stream();\n",
    "    result.insert(0, instrument.Piano())\n",
    "    result.append(note.Rest())\n",
    "    for value in given:\n",
    "        converted = note.Note(notes[value])\n",
    "        result.append(converted)\n",
    "    \n",
    "    return result"
   ]
  },
  {
   "cell_type": "code",
   "execution_count": 9,
   "metadata": {},
   "outputs": [
    {
     "name": "stdout",
     "output_type": "stream",
     "text": [
      "DIV_ID OSMD-div-898150\n"
     ]
    },
    {
     "data": {
      "text/html": [
       "<div id=\"OSMD-div-898150\">loading OpenSheetMusicDisplay</div>"
      ],
      "text/plain": [
       "<IPython.core.display.HTML object>"
      ]
     },
     "metadata": {},
     "output_type": "display_data"
    },
    {
     "name": "stdout",
     "output_type": "stream",
     "text": [
      "xml length: 19158\n"
     ]
    },
    {
     "data": {
      "application/javascript": [
       "\n",
       "    console.log(\"loadOSMD()\");\n",
       "    function loadOSMD() { \n",
       "        return new Promise(function(resolve, reject){\n",
       "\n",
       "            if (window.opensheetmusicdisplay) {\n",
       "                console.log(\"already loaded\")\n",
       "                return resolve(window.opensheetmusicdisplay)\n",
       "            }\n",
       "            console.log(\"loading osmd for the first time\")\n",
       "            // OSMD script has a 'define' call which conflicts with requirejs\n",
       "            var _define = window.define // save the define object \n",
       "            window.define = undefined // now the loaded script will ignore requirejs\n",
       "            var s = document.createElement( 'script' );\n",
       "            s.setAttribute( 'src', \"https://cdn.jsdelivr.net/npm/opensheetmusicdisplay@0.3.1/build/opensheetmusicdisplay.min.js\" );\n",
       "            //s.setAttribute( 'src', \"/custom/opensheetmusicdisplay.js\" );\n",
       "            s.onload=function(){\n",
       "                window.define = _define\n",
       "                console.log(\"loaded OSMD for the first time\",opensheetmusicdisplay)\n",
       "                resolve(opensheetmusicdisplay);\n",
       "            };\n",
       "            document.body.appendChild( s ); // browser will try to load the new script tag\n",
       "        }) \n",
       "    }\n",
       "    loadOSMD().then((OSMD)=>{\n",
       "        console.log(\"loaded OSMD\",OSMD)\n",
       "        var div_id = \"OSMD-div-898150\";\n",
       "            console.log(div_id)\n",
       "        window.openSheetMusicDisplay = new OSMD.OpenSheetMusicDisplay(div_id);\n",
       "        openSheetMusicDisplay\n",
       "            .load(\"<?xml version=\\\"1.0\\\" encoding=\\\"utf-8\\\"?>\\n<!DOCTYPE score-partwise  PUBLIC \\\"-//Recordare//DTD MusicXML 3.0 Partwise//EN\\\" \\\"http://www.musicxml.org/dtds/partwise.dtd\\\">\\n<score-partwise version=\\\"3.0\\\">\\n  <movement-title>Music21 Fragment</movement-title>\\n  <identification>\\n    <creator type=\\\"composer\\\">Music21</creator>\\n    <encoding>\\n      <encoding-date>2021-04-13</encoding-date>\\n      <software>music21 v.5.7.2</software>\\n    </encoding>\\n  </identification>\\n  <defaults>\\n    <scaling>\\n      <millimeters>7</millimeters>\\n      <tenths>40</tenths>\\n    </scaling>\\n  </defaults>\\n  <part-list>\\n    <score-part id=\\\"Pcd19b4f301063f2751c38dc03e6448a2\\\">\\n      <part-name>Piano</part-name>\\n      <part-abbreviation>Pno</part-abbreviation>\\n      <score-instrument id=\\\"I3ba82c3fc1fcb4c46477d082fc77ee65\\\">\\n        <instrument-name>Piano</instrument-name>\\n        <instrument-abbreviation>Pno</instrument-abbreviation>\\n      </score-instrument>\\n      <midi-instrument id=\\\"I3ba82c3fc1fcb4c46477d082fc77ee65\\\">\\n        <midi-channel>1</midi-channel>\\n        <midi-program>1</midi-program>\\n      </midi-instrument>\\n    </score-part>\\n  </part-list>\\n  <!--=========================== Part 1 ===========================-->\\n  <part id=\\\"Pcd19b4f301063f2751c38dc03e6448a2\\\">\\n    <!--========================= Measure 1 ==========================-->\\n    <measure number=\\\"1\\\">\\n      <attributes>\\n        <divisions>10080</divisions>\\n        <time>\\n          <beats>4</beats>\\n          <beat-type>4</beat-type>\\n        </time>\\n        <clef>\\n          <sign>G</sign>\\n          <line>2</line>\\n        </clef>\\n      </attributes>\\n      <note>\\n        <rest />\\n        <duration>10080</duration>\\n        <type>quarter</type>\\n      </note>\\n      <note>\\n        <pitch>\\n          <step>C</step>\\n          <alter>0</alter>\\n          <octave>4</octave>\\n        </pitch>\\n        <duration>10080</duration>\\n        <type>quarter</type>\\n        <accidental>natural</accidental>\\n      </note>\\n      <note>\\n        <pitch>\\n          <step>F</step>\\n          <alter>0</alter>\\n          <octave>4</octave>\\n        </pitch>\\n        <duration>10080</duration>\\n        <type>quarter</type>\\n        <accidental>natural</accidental>\\n      </note>\\n      <note>\\n        <pitch>\\n          <step>E</step>\\n          <alter>-1</alter>\\n          <octave>4</octave>\\n        </pitch>\\n        <duration>10080</duration>\\n        <type>quarter</type>\\n        <accidental>flat</accidental>\\n      </note>\\n    </measure>\\n    <!--========================= Measure 2 ==========================-->\\n    <measure number=\\\"2\\\">\\n      <note>\\n        <pitch>\\n          <step>C</step>\\n          <alter>0</alter>\\n          <octave>4</octave>\\n        </pitch>\\n        <duration>10080</duration>\\n        <type>quarter</type>\\n        <accidental>natural</accidental>\\n      </note>\\n      <note>\\n        <pitch>\\n          <step>C</step>\\n          <alter>0</alter>\\n          <octave>4</octave>\\n        </pitch>\\n        <duration>10080</duration>\\n        <type>quarter</type>\\n      </note>\\n      <note>\\n        <pitch>\\n          <step>G</step>\\n          <alter>1</alter>\\n          <octave>4</octave>\\n        </pitch>\\n        <duration>10080</duration>\\n        <type>quarter</type>\\n        <accidental>sharp</accidental>\\n      </note>\\n      <note>\\n        <pitch>\\n          <step>E</step>\\n          <alter>0</alter>\\n          <octave>4</octave>\\n        </pitch>\\n        <duration>10080</duration>\\n        <type>quarter</type>\\n        <accidental>natural</accidental>\\n      </note>\\n    </measure>\\n    <!--========================= Measure 3 ==========================-->\\n    <measure number=\\\"3\\\">\\n      <note>\\n        <pitch>\\n          <step>B</step>\\n          <alter>-1</alter>\\n          <octave>4</octave>\\n        </pitch>\\n        <duration>10080</duration>\\n        <type>quarter</type>\\n        <accidental>flat</accidental>\\n      </note>\\n      <note>\\n        <pitch>\\n          <step>E</step>\\n          <alter>-1</alter>\\n          <octave>4</octave>\\n        </pitch>\\n        <duration>10080</duration>\\n        <type>quarter</type>\\n        <accidental>flat</accidental>\\n      </note>\\n      <note>\\n        <pitch>\\n          <step>F</step>\\n          <alter>1</alter>\\n          <octave>4</octave>\\n        </pitch>\\n        <duration>10080</duration>\\n        <type>quarter</type>\\n        <accidental>sharp</accidental>\\n      </note>\\n      <note>\\n        <pitch>\\n          <step>F</step>\\n          <alter>0</alter>\\n          <octave>4</octave>\\n        </pitch>\\n        <duration>10080</duration>\\n        <type>quarter</type>\\n        <accidental>natural</accidental>\\n      </note>\\n    </measure>\\n    <!--========================= Measure 4 ==========================-->\\n    <measure number=\\\"4\\\">\\n      <note>\\n        <pitch>\\n          <step>C</step>\\n          <alter>0</alter>\\n          <octave>4</octave>\\n        </pitch>\\n        <duration>10080</duration>\\n        <type>quarter</type>\\n        <accidental>natural</accidental>\\n      </note>\\n      <note>\\n        <pitch>\\n          <step>E</step>\\n          <alter>0</alter>\\n          <octave>4</octave>\\n        </pitch>\\n        <duration>10080</duration>\\n        <type>quarter</type>\\n        <accidental>natural</accidental>\\n      </note>\\n      <note>\\n        <pitch>\\n          <step>C</step>\\n          <alter>0</alter>\\n          <octave>4</octave>\\n        </pitch>\\n        <duration>10080</duration>\\n        <type>quarter</type>\\n      </note>\\n      <note>\\n        <pitch>\\n          <step>F</step>\\n          <alter>0</alter>\\n          <octave>4</octave>\\n        </pitch>\\n        <duration>10080</duration>\\n        <type>quarter</type>\\n        <accidental>natural</accidental>\\n      </note>\\n    </measure>\\n    <!--========================= Measure 5 ==========================-->\\n    <measure number=\\\"5\\\">\\n      <note>\\n        <pitch>\\n          <step>G</step>\\n          <alter>1</alter>\\n          <octave>4</octave>\\n        </pitch>\\n        <duration>10080</duration>\\n        <type>quarter</type>\\n        <accidental>sharp</accidental>\\n      </note>\\n      <note>\\n        <pitch>\\n          <step>B</step>\\n          <alter>-1</alter>\\n          <octave>4</octave>\\n        </pitch>\\n        <duration>10080</duration>\\n        <type>quarter</type>\\n        <accidental>flat</accidental>\\n      </note>\\n      <note>\\n        <pitch>\\n          <step>B</step>\\n          <alter>0</alter>\\n          <octave>4</octave>\\n        </pitch>\\n        <duration>10080</duration>\\n        <type>quarter</type>\\n        <accidental>natural</accidental>\\n      </note>\\n      <note>\\n        <pitch>\\n          <step>F</step>\\n          <alter>0</alter>\\n          <octave>4</octave>\\n        </pitch>\\n        <duration>10080</duration>\\n        <type>quarter</type>\\n        <accidental>natural</accidental>\\n      </note>\\n    </measure>\\n    <!--========================= Measure 6 ==========================-->\\n    <measure number=\\\"6\\\">\\n      <note>\\n        <pitch>\\n          <step>F</step>\\n          <alter>1</alter>\\n          <octave>4</octave>\\n        </pitch>\\n        <duration>10080</duration>\\n        <type>quarter</type>\\n        <accidental>sharp</accidental>\\n      </note>\\n      <note>\\n        <pitch>\\n          <step>F</step>\\n          <alter>1</alter>\\n          <octave>4</octave>\\n        </pitch>\\n        <duration>10080</duration>\\n        <type>quarter</type>\\n      </note>\\n      <note>\\n        <pitch>\\n          <step>C</step>\\n          <alter>1</alter>\\n          <octave>4</octave>\\n        </pitch>\\n        <duration>10080</duration>\\n        <type>quarter</type>\\n        <accidental>sharp</accidental>\\n      </note>\\n      <note>\\n        <pitch>\\n          <step>F</step>\\n          <alter>0</alter>\\n          <octave>4</octave>\\n        </pitch>\\n        <duration>10080</duration>\\n        <type>quarter</type>\\n        <accidental>natural</accidental>\\n      </note>\\n    </measure>\\n    <!--========================= Measure 7 ==========================-->\\n    <measure number=\\\"7\\\">\\n      <note>\\n        <pitch>\\n          <step>B</step>\\n          <alter>0</alter>\\n          <octave>4</octave>\\n        </pitch>\\n        <duration>10080</duration>\\n        <type>quarter</type>\\n        <accidental>natural</accidental>\\n      </note>\\n      <note>\\n        <pitch>\\n          <step>E</step>\\n          <alter>0</alter>\\n          <octave>4</octave>\\n        </pitch>\\n        <duration>10080</duration>\\n        <type>quarter</type>\\n        <accidental>natural</accidental>\\n      </note>\\n      <note>\\n        <pitch>\\n          <step>F</step>\\n          <alter>0</alter>\\n          <octave>4</octave>\\n        </pitch>\\n        <duration>10080</duration>\\n        <type>quarter</type>\\n        <accidental>natural</accidental>\\n      </note>\\n      <note>\\n        <pitch>\\n          <step>G</step>\\n          <alter>0</alter>\\n          <octave>4</octave>\\n        </pitch>\\n        <duration>10080</duration>\\n        <type>quarter</type>\\n        <accidental>natural</accidental>\\n      </note>\\n    </measure>\\n    <!--========================= Measure 8 ==========================-->\\n    <measure number=\\\"8\\\">\\n      <note>\\n        <pitch>\\n          <step>C</step>\\n          <alter>0</alter>\\n          <octave>4</octave>\\n        </pitch>\\n        <duration>10080</duration>\\n        <type>quarter</type>\\n        <accidental>natural</accidental>\\n      </note>\\n      <note>\\n        <pitch>\\n          <step>F</step>\\n          <alter>1</alter>\\n          <octave>4</octave>\\n        </pitch>\\n        <duration>10080</duration>\\n        <type>quarter</type>\\n        <accidental>sharp</accidental>\\n      </note>\\n      <note>\\n        <pitch>\\n          <step>A</step>\\n          <alter>0</alter>\\n          <octave>4</octave>\\n        </pitch>\\n        <duration>10080</duration>\\n        <type>quarter</type>\\n        <accidental>natural</accidental>\\n      </note>\\n      <note>\\n        <pitch>\\n          <step>B</step>\\n          <alter>-1</alter>\\n          <octave>4</octave>\\n        </pitch>\\n        <duration>10080</duration>\\n        <type>quarter</type>\\n        <accidental>flat</accidental>\\n      </note>\\n    </measure>\\n    <!--========================= Measure 9 ==========================-->\\n    <measure number=\\\"9\\\">\\n      <note>\\n        <pitch>\\n          <step>B</step>\\n          <alter>-1</alter>\\n          <octave>4</octave>\\n        </pitch>\\n        <duration>10080</duration>\\n        <type>quarter</type>\\n        <accidental>flat</accidental>\\n      </note>\\n      <note>\\n        <pitch>\\n          <step>B</step>\\n          <alter>0</alter>\\n          <octave>4</octave>\\n        </pitch>\\n        <duration>10080</duration>\\n        <type>quarter</type>\\n        <accidental>natural</accidental>\\n      </note>\\n      <note>\\n        <pitch>\\n          <step>B</step>\\n          <alter>-1</alter>\\n          <octave>4</octave>\\n        </pitch>\\n        <duration>10080</duration>\\n        <type>quarter</type>\\n        <accidental>flat</accidental>\\n      </note>\\n      <note>\\n        <pitch>\\n          <step>E</step>\\n          <alter>-1</alter>\\n          <octave>4</octave>\\n        </pitch>\\n        <duration>10080</duration>\\n        <type>quarter</type>\\n        <accidental>flat</accidental>\\n      </note>\\n    </measure>\\n    <!--========================= Measure 10 =========================-->\\n    <measure number=\\\"10\\\">\\n      <note>\\n        <pitch>\\n          <step>E</step>\\n          <alter>0</alter>\\n          <octave>4</octave>\\n        </pitch>\\n        <duration>10080</duration>\\n        <type>quarter</type>\\n        <accidental>natural</accidental>\\n      </note>\\n      <note>\\n        <pitch>\\n          <step>A</step>\\n          <alter>0</alter>\\n          <octave>4</octave>\\n        </pitch>\\n        <duration>10080</duration>\\n        <type>quarter</type>\\n        <accidental>natural</accidental>\\n      </note>\\n      <note>\\n        <pitch>\\n          <step>C</step>\\n          <alter>0</alter>\\n          <octave>4</octave>\\n        </pitch>\\n        <duration>10080</duration>\\n        <type>quarter</type>\\n        <accidental>natural</accidental>\\n      </note>\\n      <note>\\n        <pitch>\\n          <step>D</step>\\n          <alter>0</alter>\\n          <octave>4</octave>\\n        </pitch>\\n        <duration>10080</duration>\\n        <type>quarter</type>\\n        <accidental>natural</accidental>\\n      </note>\\n    </measure>\\n    <!--========================= Measure 11 =========================-->\\n    <measure number=\\\"11\\\">\\n      <note>\\n        <pitch>\\n          <step>E</step>\\n          <alter>-1</alter>\\n          <octave>4</octave>\\n        </pitch>\\n        <duration>10080</duration>\\n        <type>quarter</type>\\n        <accidental>flat</accidental>\\n      </note>\\n      <note>\\n        <pitch>\\n          <step>C</step>\\n          <alter>1</alter>\\n          <octave>4</octave>\\n        </pitch>\\n        <duration>10080</duration>\\n        <type>quarter</type>\\n        <accidental>sharp</accidental>\\n      </note>\\n      <note>\\n        <pitch>\\n          <step>C</step>\\n          <alter>0</alter>\\n          <octave>4</octave>\\n        </pitch>\\n        <duration>10080</duration>\\n        <type>quarter</type>\\n        <accidental>natural</accidental>\\n      </note>\\n      <note>\\n        <pitch>\\n          <step>D</step>\\n          <alter>0</alter>\\n          <octave>4</octave>\\n        </pitch>\\n        <duration>10080</duration>\\n        <type>quarter</type>\\n        <accidental>natural</accidental>\\n      </note>\\n    </measure>\\n    <!--========================= Measure 12 =========================-->\\n    <measure number=\\\"12\\\">\\n      <note>\\n        <pitch>\\n          <step>G</step>\\n          <alter>0</alter>\\n          <octave>4</octave>\\n        </pitch>\\n        <duration>10080</duration>\\n        <type>quarter</type>\\n        <accidental>natural</accidental>\\n      </note>\\n      <note>\\n        <pitch>\\n          <step>C</step>\\n          <alter>1</alter>\\n          <octave>4</octave>\\n        </pitch>\\n        <duration>10080</duration>\\n        <type>quarter</type>\\n        <accidental>sharp</accidental>\\n      </note>\\n      <note>\\n        <pitch>\\n          <step>B</step>\\n          <alter>-1</alter>\\n          <octave>4</octave>\\n        </pitch>\\n        <duration>10080</duration>\\n        <type>quarter</type>\\n        <accidental>flat</accidental>\\n      </note>\\n      <note>\\n        <pitch>\\n          <step>C</step>\\n          <alter>1</alter>\\n          <octave>4</octave>\\n        </pitch>\\n        <duration>10080</duration>\\n        <type>quarter</type>\\n        <accidental>sharp</accidental>\\n      </note>\\n    </measure>\\n    <!--========================= Measure 13 =========================-->\\n    <measure number=\\\"13\\\">\\n      <note>\\n        <pitch>\\n          <step>F</step>\\n          <alter>0</alter>\\n          <octave>4</octave>\\n        </pitch>\\n        <duration>10080</duration>\\n        <type>quarter</type>\\n        <accidental>natural</accidental>\\n      </note>\\n      <note>\\n        <pitch>\\n          <step>C</step>\\n          <alter>0</alter>\\n          <octave>4</octave>\\n        </pitch>\\n        <duration>10080</duration>\\n        <type>quarter</type>\\n        <accidental>natural</accidental>\\n      </note>\\n      <note>\\n        <pitch>\\n          <step>F</step>\\n          <alter>1</alter>\\n          <octave>4</octave>\\n        </pitch>\\n        <duration>10080</duration>\\n        <type>quarter</type>\\n        <accidental>sharp</accidental>\\n      </note>\\n      <note>\\n        <pitch>\\n          <step>C</step>\\n          <alter>0</alter>\\n          <octave>4</octave>\\n        </pitch>\\n        <duration>10080</duration>\\n        <type>quarter</type>\\n      </note>\\n    </measure>\\n    <!--========================= Measure 14 =========================-->\\n    <measure number=\\\"14\\\">\\n      <note>\\n        <pitch>\\n          <step>E</step>\\n          <alter>0</alter>\\n          <octave>4</octave>\\n        </pitch>\\n        <duration>10080</duration>\\n        <type>quarter</type>\\n        <accidental>natural</accidental>\\n      </note>\\n      <note>\\n        <pitch>\\n          <step>E</step>\\n          <alter>0</alter>\\n          <octave>4</octave>\\n        </pitch>\\n        <duration>10080</duration>\\n        <type>quarter</type>\\n      </note>\\n      <note>\\n        <pitch>\\n          <step>G</step>\\n          <alter>0</alter>\\n          <octave>4</octave>\\n        </pitch>\\n        <duration>10080</duration>\\n        <type>quarter</type>\\n        <accidental>natural</accidental>\\n      </note>\\n      <note>\\n        <pitch>\\n          <step>E</step>\\n          <alter>-1</alter>\\n          <octave>4</octave>\\n        </pitch>\\n        <duration>10080</duration>\\n        <type>quarter</type>\\n        <accidental>flat</accidental>\\n      </note>\\n    </measure>\\n    <!--========================= Measure 15 =========================-->\\n    <measure number=\\\"15\\\">\\n      <note>\\n        <pitch>\\n          <step>F</step>\\n          <alter>1</alter>\\n          <octave>4</octave>\\n        </pitch>\\n        <duration>10080</duration>\\n        <type>quarter</type>\\n        <accidental>sharp</accidental>\\n      </note>\\n      <note>\\n        <pitch>\\n          <step>C</step>\\n          <alter>1</alter>\\n          <octave>4</octave>\\n        </pitch>\\n        <duration>10080</duration>\\n        <type>quarter</type>\\n        <accidental>sharp</accidental>\\n      </note>\\n      <note>\\n        <pitch>\\n          <step>G</step>\\n          <alter>1</alter>\\n          <octave>4</octave>\\n        </pitch>\\n        <duration>10080</duration>\\n        <type>quarter</type>\\n        <accidental>sharp</accidental>\\n      </note>\\n      <note>\\n        <pitch>\\n          <step>G</step>\\n          <alter>0</alter>\\n          <octave>4</octave>\\n        </pitch>\\n        <duration>10080</duration>\\n        <type>quarter</type>\\n        <accidental>natural</accidental>\\n      </note>\\n    </measure>\\n    <!--========================= Measure 16 =========================-->\\n    <measure number=\\\"16\\\">\\n      <note>\\n        <pitch>\\n          <step>B</step>\\n          <alter>0</alter>\\n          <octave>4</octave>\\n        </pitch>\\n        <duration>10080</duration>\\n        <type>quarter</type>\\n        <accidental>natural</accidental>\\n      </note>\\n      <note>\\n        <pitch>\\n          <step>E</step>\\n          <alter>-1</alter>\\n          <octave>4</octave>\\n        </pitch>\\n        <duration>10080</duration>\\n        <type>quarter</type>\\n        <accidental>flat</accidental>\\n      </note>\\n      <note>\\n        <pitch>\\n          <step>F</step>\\n          <alter>0</alter>\\n          <octave>4</octave>\\n        </pitch>\\n        <duration>10080</duration>\\n        <type>quarter</type>\\n        <accidental>natural</accidental>\\n      </note>\\n      <note>\\n        <pitch>\\n          <step>C</step>\\n          <alter>0</alter>\\n          <octave>4</octave>\\n        </pitch>\\n        <duration>10080</duration>\\n        <type>quarter</type>\\n        <accidental>natural</accidental>\\n      </note>\\n    </measure>\\n    <!--========================= Measure 17 =========================-->\\n    <measure number=\\\"17\\\">\\n      <note>\\n        <pitch>\\n          <step>G</step>\\n          <alter>1</alter>\\n          <octave>4</octave>\\n        </pitch>\\n        <duration>10080</duration>\\n        <type>quarter</type>\\n        <accidental>sharp</accidental>\\n      </note>\\n      <barline location=\\\"right\\\">\\n        <bar-style>light-heavy</bar-style>\\n      </barline>\\n    </measure>\\n  </part>\\n</score-partwise>\\n\")\n",
       "            .then(\n",
       "              function() {\n",
       "                console.log(\"rendering data\")\n",
       "                openSheetMusicDisplay.render();\n",
       "              }\n",
       "            );\n",
       "    })\n",
       "    "
      ],
      "text/plain": [
       "<IPython.core.display.Javascript object>"
      ]
     },
     "metadata": {},
     "output_type": "display_data"
    },
    {
     "data": {
      "text/html": [
       "\n",
       "                <div id='midiPlayerDiv3513'></div>\n",
       "                <link rel=\"stylesheet\" href=\"//cuthbertLab.github.io/music21j/css/m21.css\"\n",
       "                    type=\"text/css\" />\n",
       "                <script>\n",
       "                require.config({\n",
       "                    paths: {'music21': '//cuthbertLab.github.io/music21j/src/music21'}\n",
       "                });\n",
       "                require(['music21'], function() {\n",
       "                               mp = new music21.miditools.MidiPlayer();\n",
       "                               mp.addPlayer('#midiPlayerDiv3513');\n",
       "                               mp.base64Load('data:audio/midi;base64,TVRoZAAAAAYAAQABBABNVHJrAAACWQD/AwVQaWFubwDAAADgAEAAwACIAJA8WogAgDwAAJBBWogAgEEAAJA/WogAgD8AAJA8WogAgDwAAJA8WogAgDwAAJBEWogAgEQAAJBAWogAgEAAAJBGWogAgEYAAJA/WogAgD8AAJBCWogAgEIAAJBBWogAgEEAAJA8WogAgDwAAJBAWogAgEAAAJA8WogAgDwAAJBBWogAgEEAAJBEWogAgEQAAJBGWogAgEYAAJBHWogAgEcAAJBBWogAgEEAAJBCWogAgEIAAJBCWogAgEIAAJA9WogAgD0AAJBBWogAgEEAAJBHWogAgEcAAJBAWogAgEAAAJBBWogAgEEAAJBDWogAgEMAAJA8WogAgDwAAJBCWogAgEIAAJBFWogAgEUAAJBGWogAgEYAAJBGWogAgEYAAJBHWogAgEcAAJBGWogAgEYAAJA/WogAgD8AAJBAWogAgEAAAJBFWogAgEUAAJA8WogAgDwAAJA+WogAgD4AAJA/WogAgD8AAJA9WogAgD0AAJA8WogAgDwAAJA+WogAgD4AAJBDWogAgEMAAJA9WogAgD0AAJBGWogAgEYAAJA9WogAgD0AAJBBWogAgEEAAJA8WogAgDwAAJBCWogAgEIAAJA8WogAgDwAAJBAWogAgEAAAJBAWogAgEAAAJBDWogAgEMAAJA/WogAgD8AAJBCWogAgEIAAJA9WogAgD0AAJBEWogAgEQAAJBDWogAgEMAAJBHWogAgEcAAJA/WogAgD8AAJBBWogAgEEAAJA8WogAgDwAAJBEWogAgEQAiAD/LwA=');\n",
       "                        });\n",
       "                </script>"
      ],
      "text/plain": [
       "<IPython.core.display.HTML object>"
      ]
     },
     "metadata": {},
     "output_type": "display_data"
    }
   ],
   "source": [
    "createdStream = streamFromPitches(pitches)\n",
    "showScore(createdStream)\n",
    "play(createdStream)\n",
    "#createdStream.write('xml', '17.xml')"
   ]
  },
  {
   "cell_type": "code",
   "execution_count": 10,
   "metadata": {},
   "outputs": [],
   "source": [
    "def getPitchStreamFromPitchClassSet(pc = range(12), start = 0, length = 8):\n",
    "    size = len(pc)\n",
    "    probMatrix = np.random.rand(size, size)\n",
    "    convertMatrixToChains(probMatrix)\n",
    "    curr = start\n",
    "    line = np.array([start])\n",
    "    for i in range(length-1):\n",
    "        probs = probMatrix[curr]\n",
    "        curr = np.random.choice(a = len(probs), p = probs)\n",
    "        line = np.append(line, curr)\n",
    "        \n",
    "    return streamFromPitches(line, pc)"
   ]
  },
  {
   "cell_type": "code",
   "execution_count": 11,
   "metadata": {},
   "outputs": [
    {
     "name": "stdout",
     "output_type": "stream",
     "text": [
      "DIV_ID OSMD-div-91896\n"
     ]
    },
    {
     "data": {
      "text/html": [
       "<div id=\"OSMD-div-91896\">loading OpenSheetMusicDisplay</div>"
      ],
      "text/plain": [
       "<IPython.core.display.HTML object>"
      ]
     },
     "metadata": {},
     "output_type": "display_data"
    },
    {
     "name": "stdout",
     "output_type": "stream",
     "text": [
      "xml length: 18882\n"
     ]
    },
    {
     "data": {
      "application/javascript": [
       "\n",
       "    console.log(\"loadOSMD()\");\n",
       "    function loadOSMD() { \n",
       "        return new Promise(function(resolve, reject){\n",
       "\n",
       "            if (window.opensheetmusicdisplay) {\n",
       "                console.log(\"already loaded\")\n",
       "                return resolve(window.opensheetmusicdisplay)\n",
       "            }\n",
       "            console.log(\"loading osmd for the first time\")\n",
       "            // OSMD script has a 'define' call which conflicts with requirejs\n",
       "            var _define = window.define // save the define object \n",
       "            window.define = undefined // now the loaded script will ignore requirejs\n",
       "            var s = document.createElement( 'script' );\n",
       "            s.setAttribute( 'src', \"https://cdn.jsdelivr.net/npm/opensheetmusicdisplay@0.3.1/build/opensheetmusicdisplay.min.js\" );\n",
       "            //s.setAttribute( 'src', \"/custom/opensheetmusicdisplay.js\" );\n",
       "            s.onload=function(){\n",
       "                window.define = _define\n",
       "                console.log(\"loaded OSMD for the first time\",opensheetmusicdisplay)\n",
       "                resolve(opensheetmusicdisplay);\n",
       "            };\n",
       "            document.body.appendChild( s ); // browser will try to load the new script tag\n",
       "        }) \n",
       "    }\n",
       "    loadOSMD().then((OSMD)=>{\n",
       "        console.log(\"loaded OSMD\",OSMD)\n",
       "        var div_id = \"OSMD-div-91896\";\n",
       "            console.log(div_id)\n",
       "        window.openSheetMusicDisplay = new OSMD.OpenSheetMusicDisplay(div_id);\n",
       "        openSheetMusicDisplay\n",
       "            .load(\"<?xml version=\\\"1.0\\\" encoding=\\\"utf-8\\\"?>\\n<!DOCTYPE score-partwise  PUBLIC \\\"-//Recordare//DTD MusicXML 3.0 Partwise//EN\\\" \\\"http://www.musicxml.org/dtds/partwise.dtd\\\">\\n<score-partwise version=\\\"3.0\\\">\\n  <movement-title>Music21 Fragment</movement-title>\\n  <identification>\\n    <creator type=\\\"composer\\\">Music21</creator>\\n    <encoding>\\n      <encoding-date>2021-04-13</encoding-date>\\n      <software>music21 v.5.7.2</software>\\n    </encoding>\\n  </identification>\\n  <defaults>\\n    <scaling>\\n      <millimeters>7</millimeters>\\n      <tenths>40</tenths>\\n    </scaling>\\n  </defaults>\\n  <part-list>\\n    <score-part id=\\\"Pdacc6f47044db21525f33e6598dd6e77\\\">\\n      <part-name>Piano</part-name>\\n      <part-abbreviation>Pno</part-abbreviation>\\n      <score-instrument id=\\\"Ic1cc7685df8ad1371d71144ffc51051c\\\">\\n        <instrument-name>Piano</instrument-name>\\n        <instrument-abbreviation>Pno</instrument-abbreviation>\\n      </score-instrument>\\n      <midi-instrument id=\\\"Ic1cc7685df8ad1371d71144ffc51051c\\\">\\n        <midi-channel>1</midi-channel>\\n        <midi-program>1</midi-program>\\n      </midi-instrument>\\n    </score-part>\\n  </part-list>\\n  <!--=========================== Part 1 ===========================-->\\n  <part id=\\\"Pdacc6f47044db21525f33e6598dd6e77\\\">\\n    <!--========================= Measure 1 ==========================-->\\n    <measure number=\\\"1\\\">\\n      <attributes>\\n        <divisions>10080</divisions>\\n        <time>\\n          <beats>4</beats>\\n          <beat-type>4</beat-type>\\n        </time>\\n        <clef>\\n          <sign>G</sign>\\n          <line>2</line>\\n        </clef>\\n      </attributes>\\n      <note>\\n        <rest />\\n        <duration>10080</duration>\\n        <type>quarter</type>\\n      </note>\\n      <note>\\n        <pitch>\\n          <step>C</step>\\n          <alter>0</alter>\\n          <octave>4</octave>\\n        </pitch>\\n        <duration>10080</duration>\\n        <type>quarter</type>\\n        <accidental>natural</accidental>\\n      </note>\\n      <note>\\n        <pitch>\\n          <step>G</step>\\n          <alter>0</alter>\\n          <octave>4</octave>\\n        </pitch>\\n        <duration>10080</duration>\\n        <type>quarter</type>\\n        <accidental>natural</accidental>\\n      </note>\\n      <note>\\n        <pitch>\\n          <step>B</step>\\n          <alter>0</alter>\\n          <octave>4</octave>\\n        </pitch>\\n        <duration>10080</duration>\\n        <type>quarter</type>\\n        <accidental>natural</accidental>\\n      </note>\\n    </measure>\\n    <!--========================= Measure 2 ==========================-->\\n    <measure number=\\\"2\\\">\\n      <note>\\n        <pitch>\\n          <step>D</step>\\n          <alter>0</alter>\\n          <octave>4</octave>\\n        </pitch>\\n        <duration>10080</duration>\\n        <type>quarter</type>\\n        <accidental>natural</accidental>\\n      </note>\\n      <note>\\n        <pitch>\\n          <step>C</step>\\n          <alter>0</alter>\\n          <octave>4</octave>\\n        </pitch>\\n        <duration>10080</duration>\\n        <type>quarter</type>\\n        <accidental>natural</accidental>\\n      </note>\\n      <note>\\n        <pitch>\\n          <step>C</step>\\n          <alter>0</alter>\\n          <octave>4</octave>\\n        </pitch>\\n        <duration>10080</duration>\\n        <type>quarter</type>\\n      </note>\\n      <note>\\n        <pitch>\\n          <step>F</step>\\n          <alter>0</alter>\\n          <octave>4</octave>\\n        </pitch>\\n        <duration>10080</duration>\\n        <type>quarter</type>\\n        <accidental>natural</accidental>\\n      </note>\\n    </measure>\\n    <!--========================= Measure 3 ==========================-->\\n    <measure number=\\\"3\\\">\\n      <note>\\n        <pitch>\\n          <step>F</step>\\n          <alter>0</alter>\\n          <octave>4</octave>\\n        </pitch>\\n        <duration>10080</duration>\\n        <type>quarter</type>\\n        <accidental>natural</accidental>\\n      </note>\\n      <note>\\n        <pitch>\\n          <step>C</step>\\n          <alter>0</alter>\\n          <octave>4</octave>\\n        </pitch>\\n        <duration>10080</duration>\\n        <type>quarter</type>\\n        <accidental>natural</accidental>\\n      </note>\\n      <note>\\n        <pitch>\\n          <step>A</step>\\n          <alter>0</alter>\\n          <octave>4</octave>\\n        </pitch>\\n        <duration>10080</duration>\\n        <type>quarter</type>\\n        <accidental>natural</accidental>\\n      </note>\\n      <note>\\n        <pitch>\\n          <step>E</step>\\n          <alter>0</alter>\\n          <octave>4</octave>\\n        </pitch>\\n        <duration>10080</duration>\\n        <type>quarter</type>\\n        <accidental>natural</accidental>\\n      </note>\\n    </measure>\\n    <!--========================= Measure 4 ==========================-->\\n    <measure number=\\\"4\\\">\\n      <note>\\n        <pitch>\\n          <step>E</step>\\n          <alter>0</alter>\\n          <octave>4</octave>\\n        </pitch>\\n        <duration>10080</duration>\\n        <type>quarter</type>\\n        <accidental>natural</accidental>\\n      </note>\\n      <note>\\n        <pitch>\\n          <step>F</step>\\n          <alter>0</alter>\\n          <octave>4</octave>\\n        </pitch>\\n        <duration>10080</duration>\\n        <type>quarter</type>\\n        <accidental>natural</accidental>\\n      </note>\\n      <note>\\n        <pitch>\\n          <step>D</step>\\n          <alter>0</alter>\\n          <octave>4</octave>\\n        </pitch>\\n        <duration>10080</duration>\\n        <type>quarter</type>\\n        <accidental>natural</accidental>\\n      </note>\\n      <note>\\n        <pitch>\\n          <step>B</step>\\n          <alter>0</alter>\\n          <octave>4</octave>\\n        </pitch>\\n        <duration>10080</duration>\\n        <type>quarter</type>\\n        <accidental>natural</accidental>\\n      </note>\\n    </measure>\\n    <!--========================= Measure 5 ==========================-->\\n    <measure number=\\\"5\\\">\\n      <note>\\n        <pitch>\\n          <step>D</step>\\n          <alter>0</alter>\\n          <octave>4</octave>\\n        </pitch>\\n        <duration>10080</duration>\\n        <type>quarter</type>\\n        <accidental>natural</accidental>\\n      </note>\\n      <note>\\n        <pitch>\\n          <step>D</step>\\n          <alter>0</alter>\\n          <octave>4</octave>\\n        </pitch>\\n        <duration>10080</duration>\\n        <type>quarter</type>\\n      </note>\\n      <note>\\n        <pitch>\\n          <step>G</step>\\n          <alter>0</alter>\\n          <octave>4</octave>\\n        </pitch>\\n        <duration>10080</duration>\\n        <type>quarter</type>\\n        <accidental>natural</accidental>\\n      </note>\\n      <note>\\n        <pitch>\\n          <step>G</step>\\n          <alter>0</alter>\\n          <octave>4</octave>\\n        </pitch>\\n        <duration>10080</duration>\\n        <type>quarter</type>\\n      </note>\\n    </measure>\\n    <!--========================= Measure 6 ==========================-->\\n    <measure number=\\\"6\\\">\\n      <note>\\n        <pitch>\\n          <step>B</step>\\n          <alter>0</alter>\\n          <octave>4</octave>\\n        </pitch>\\n        <duration>10080</duration>\\n        <type>quarter</type>\\n        <accidental>natural</accidental>\\n      </note>\\n      <note>\\n        <pitch>\\n          <step>F</step>\\n          <alter>0</alter>\\n          <octave>4</octave>\\n        </pitch>\\n        <duration>10080</duration>\\n        <type>quarter</type>\\n        <accidental>natural</accidental>\\n      </note>\\n      <note>\\n        <pitch>\\n          <step>G</step>\\n          <alter>0</alter>\\n          <octave>4</octave>\\n        </pitch>\\n        <duration>10080</duration>\\n        <type>quarter</type>\\n        <accidental>natural</accidental>\\n      </note>\\n      <note>\\n        <pitch>\\n          <step>G</step>\\n          <alter>0</alter>\\n          <octave>4</octave>\\n        </pitch>\\n        <duration>10080</duration>\\n        <type>quarter</type>\\n      </note>\\n    </measure>\\n    <!--========================= Measure 7 ==========================-->\\n    <measure number=\\\"7\\\">\\n      <note>\\n        <pitch>\\n          <step>E</step>\\n          <alter>0</alter>\\n          <octave>4</octave>\\n        </pitch>\\n        <duration>10080</duration>\\n        <type>quarter</type>\\n        <accidental>natural</accidental>\\n      </note>\\n      <note>\\n        <pitch>\\n          <step>D</step>\\n          <alter>0</alter>\\n          <octave>4</octave>\\n        </pitch>\\n        <duration>10080</duration>\\n        <type>quarter</type>\\n        <accidental>natural</accidental>\\n      </note>\\n      <note>\\n        <pitch>\\n          <step>D</step>\\n          <alter>0</alter>\\n          <octave>4</octave>\\n        </pitch>\\n        <duration>10080</duration>\\n        <type>quarter</type>\\n      </note>\\n      <note>\\n        <pitch>\\n          <step>B</step>\\n          <alter>0</alter>\\n          <octave>4</octave>\\n        </pitch>\\n        <duration>10080</duration>\\n        <type>quarter</type>\\n        <accidental>natural</accidental>\\n      </note>\\n    </measure>\\n    <!--========================= Measure 8 ==========================-->\\n    <measure number=\\\"8\\\">\\n      <note>\\n        <pitch>\\n          <step>D</step>\\n          <alter>0</alter>\\n          <octave>4</octave>\\n        </pitch>\\n        <duration>10080</duration>\\n        <type>quarter</type>\\n        <accidental>natural</accidental>\\n      </note>\\n      <note>\\n        <pitch>\\n          <step>G</step>\\n          <alter>0</alter>\\n          <octave>4</octave>\\n        </pitch>\\n        <duration>10080</duration>\\n        <type>quarter</type>\\n        <accidental>natural</accidental>\\n      </note>\\n      <note>\\n        <pitch>\\n          <step>F</step>\\n          <alter>0</alter>\\n          <octave>4</octave>\\n        </pitch>\\n        <duration>10080</duration>\\n        <type>quarter</type>\\n        <accidental>natural</accidental>\\n      </note>\\n      <note>\\n        <pitch>\\n          <step>C</step>\\n          <alter>0</alter>\\n          <octave>4</octave>\\n        </pitch>\\n        <duration>10080</duration>\\n        <type>quarter</type>\\n        <accidental>natural</accidental>\\n      </note>\\n    </measure>\\n    <!--========================= Measure 9 ==========================-->\\n    <measure number=\\\"9\\\">\\n      <note>\\n        <pitch>\\n          <step>F</step>\\n          <alter>0</alter>\\n          <octave>4</octave>\\n        </pitch>\\n        <duration>10080</duration>\\n        <type>quarter</type>\\n        <accidental>natural</accidental>\\n      </note>\\n      <note>\\n        <pitch>\\n          <step>F</step>\\n          <alter>0</alter>\\n          <octave>4</octave>\\n        </pitch>\\n        <duration>10080</duration>\\n        <type>quarter</type>\\n      </note>\\n      <note>\\n        <pitch>\\n          <step>F</step>\\n          <alter>0</alter>\\n          <octave>4</octave>\\n        </pitch>\\n        <duration>10080</duration>\\n        <type>quarter</type>\\n      </note>\\n      <note>\\n        <pitch>\\n          <step>B</step>\\n          <alter>0</alter>\\n          <octave>4</octave>\\n        </pitch>\\n        <duration>10080</duration>\\n        <type>quarter</type>\\n        <accidental>natural</accidental>\\n      </note>\\n    </measure>\\n    <!--========================= Measure 10 =========================-->\\n    <measure number=\\\"10\\\">\\n      <note>\\n        <pitch>\\n          <step>D</step>\\n          <alter>0</alter>\\n          <octave>4</octave>\\n        </pitch>\\n        <duration>10080</duration>\\n        <type>quarter</type>\\n        <accidental>natural</accidental>\\n      </note>\\n      <note>\\n        <pitch>\\n          <step>C</step>\\n          <alter>0</alter>\\n          <octave>4</octave>\\n        </pitch>\\n        <duration>10080</duration>\\n        <type>quarter</type>\\n        <accidental>natural</accidental>\\n      </note>\\n      <note>\\n        <pitch>\\n          <step>F</step>\\n          <alter>0</alter>\\n          <octave>4</octave>\\n        </pitch>\\n        <duration>10080</duration>\\n        <type>quarter</type>\\n        <accidental>natural</accidental>\\n      </note>\\n      <note>\\n        <pitch>\\n          <step>G</step>\\n          <alter>0</alter>\\n          <octave>4</octave>\\n        </pitch>\\n        <duration>10080</duration>\\n        <type>quarter</type>\\n        <accidental>natural</accidental>\\n      </note>\\n    </measure>\\n    <!--========================= Measure 11 =========================-->\\n    <measure number=\\\"11\\\">\\n      <note>\\n        <pitch>\\n          <step>E</step>\\n          <alter>0</alter>\\n          <octave>4</octave>\\n        </pitch>\\n        <duration>10080</duration>\\n        <type>quarter</type>\\n        <accidental>natural</accidental>\\n      </note>\\n      <note>\\n        <pitch>\\n          <step>D</step>\\n          <alter>0</alter>\\n          <octave>4</octave>\\n        </pitch>\\n        <duration>10080</duration>\\n        <type>quarter</type>\\n        <accidental>natural</accidental>\\n      </note>\\n      <note>\\n        <pitch>\\n          <step>E</step>\\n          <alter>0</alter>\\n          <octave>4</octave>\\n        </pitch>\\n        <duration>10080</duration>\\n        <type>quarter</type>\\n      </note>\\n      <note>\\n        <pitch>\\n          <step>B</step>\\n          <alter>0</alter>\\n          <octave>4</octave>\\n        </pitch>\\n        <duration>10080</duration>\\n        <type>quarter</type>\\n        <accidental>natural</accidental>\\n      </note>\\n    </measure>\\n    <!--========================= Measure 12 =========================-->\\n    <measure number=\\\"12\\\">\\n      <note>\\n        <pitch>\\n          <step>F</step>\\n          <alter>0</alter>\\n          <octave>4</octave>\\n        </pitch>\\n        <duration>10080</duration>\\n        <type>quarter</type>\\n        <accidental>natural</accidental>\\n      </note>\\n      <note>\\n        <pitch>\\n          <step>C</step>\\n          <alter>0</alter>\\n          <octave>4</octave>\\n        </pitch>\\n        <duration>10080</duration>\\n        <type>quarter</type>\\n        <accidental>natural</accidental>\\n      </note>\\n      <note>\\n        <pitch>\\n          <step>G</step>\\n          <alter>0</alter>\\n          <octave>4</octave>\\n        </pitch>\\n        <duration>10080</duration>\\n        <type>quarter</type>\\n        <accidental>natural</accidental>\\n      </note>\\n      <note>\\n        <pitch>\\n          <step>F</step>\\n          <alter>0</alter>\\n          <octave>4</octave>\\n        </pitch>\\n        <duration>10080</duration>\\n        <type>quarter</type>\\n      </note>\\n    </measure>\\n    <!--========================= Measure 13 =========================-->\\n    <measure number=\\\"13\\\">\\n      <note>\\n        <pitch>\\n          <step>C</step>\\n          <alter>0</alter>\\n          <octave>4</octave>\\n        </pitch>\\n        <duration>10080</duration>\\n        <type>quarter</type>\\n        <accidental>natural</accidental>\\n      </note>\\n      <note>\\n        <pitch>\\n          <step>C</step>\\n          <alter>0</alter>\\n          <octave>4</octave>\\n        </pitch>\\n        <duration>10080</duration>\\n        <type>quarter</type>\\n      </note>\\n      <note>\\n        <pitch>\\n          <step>B</step>\\n          <alter>0</alter>\\n          <octave>4</octave>\\n        </pitch>\\n        <duration>10080</duration>\\n        <type>quarter</type>\\n        <accidental>natural</accidental>\\n      </note>\\n      <note>\\n        <pitch>\\n          <step>B</step>\\n          <alter>0</alter>\\n          <octave>4</octave>\\n        </pitch>\\n        <duration>10080</duration>\\n        <type>quarter</type>\\n      </note>\\n    </measure>\\n    <!--========================= Measure 14 =========================-->\\n    <measure number=\\\"14\\\">\\n      <note>\\n        <pitch>\\n          <step>D</step>\\n          <alter>0</alter>\\n          <octave>4</octave>\\n        </pitch>\\n        <duration>10080</duration>\\n        <type>quarter</type>\\n        <accidental>natural</accidental>\\n      </note>\\n      <note>\\n        <pitch>\\n          <step>E</step>\\n          <alter>0</alter>\\n          <octave>4</octave>\\n        </pitch>\\n        <duration>10080</duration>\\n        <type>quarter</type>\\n        <accidental>natural</accidental>\\n      </note>\\n      <note>\\n        <pitch>\\n          <step>E</step>\\n          <alter>0</alter>\\n          <octave>4</octave>\\n        </pitch>\\n        <duration>10080</duration>\\n        <type>quarter</type>\\n      </note>\\n      <note>\\n        <pitch>\\n          <step>B</step>\\n          <alter>0</alter>\\n          <octave>4</octave>\\n        </pitch>\\n        <duration>10080</duration>\\n        <type>quarter</type>\\n        <accidental>natural</accidental>\\n      </note>\\n    </measure>\\n    <!--========================= Measure 15 =========================-->\\n    <measure number=\\\"15\\\">\\n      <note>\\n        <pitch>\\n          <step>D</step>\\n          <alter>0</alter>\\n          <octave>4</octave>\\n        </pitch>\\n        <duration>10080</duration>\\n        <type>quarter</type>\\n        <accidental>natural</accidental>\\n      </note>\\n      <note>\\n        <pitch>\\n          <step>B</step>\\n          <alter>0</alter>\\n          <octave>4</octave>\\n        </pitch>\\n        <duration>10080</duration>\\n        <type>quarter</type>\\n        <accidental>natural</accidental>\\n      </note>\\n      <note>\\n        <pitch>\\n          <step>E</step>\\n          <alter>0</alter>\\n          <octave>4</octave>\\n        </pitch>\\n        <duration>10080</duration>\\n        <type>quarter</type>\\n        <accidental>natural</accidental>\\n      </note>\\n      <note>\\n        <pitch>\\n          <step>C</step>\\n          <alter>0</alter>\\n          <octave>4</octave>\\n        </pitch>\\n        <duration>10080</duration>\\n        <type>quarter</type>\\n        <accidental>natural</accidental>\\n      </note>\\n    </measure>\\n    <!--========================= Measure 16 =========================-->\\n    <measure number=\\\"16\\\">\\n      <note>\\n        <pitch>\\n          <step>C</step>\\n          <alter>0</alter>\\n          <octave>4</octave>\\n        </pitch>\\n        <duration>10080</duration>\\n        <type>quarter</type>\\n        <accidental>natural</accidental>\\n      </note>\\n      <note>\\n        <pitch>\\n          <step>A</step>\\n          <alter>0</alter>\\n          <octave>4</octave>\\n        </pitch>\\n        <duration>10080</duration>\\n        <type>quarter</type>\\n        <accidental>natural</accidental>\\n      </note>\\n      <note>\\n        <pitch>\\n          <step>F</step>\\n          <alter>0</alter>\\n          <octave>4</octave>\\n        </pitch>\\n        <duration>10080</duration>\\n        <type>quarter</type>\\n        <accidental>natural</accidental>\\n      </note>\\n      <note>\\n        <pitch>\\n          <step>F</step>\\n          <alter>0</alter>\\n          <octave>4</octave>\\n        </pitch>\\n        <duration>10080</duration>\\n        <type>quarter</type>\\n      </note>\\n    </measure>\\n    <!--========================= Measure 17 =========================-->\\n    <measure number=\\\"17\\\">\\n      <note>\\n        <pitch>\\n          <step>E</step>\\n          <alter>0</alter>\\n          <octave>4</octave>\\n        </pitch>\\n        <duration>10080</duration>\\n        <type>quarter</type>\\n        <accidental>natural</accidental>\\n      </note>\\n      <barline location=\\\"right\\\">\\n        <bar-style>light-heavy</bar-style>\\n      </barline>\\n    </measure>\\n  </part>\\n</score-partwise>\\n\")\n",
       "            .then(\n",
       "              function() {\n",
       "                console.log(\"rendering data\")\n",
       "                openSheetMusicDisplay.render();\n",
       "              }\n",
       "            );\n",
       "    })\n",
       "    "
      ],
      "text/plain": [
       "<IPython.core.display.Javascript object>"
      ]
     },
     "metadata": {},
     "output_type": "display_data"
    },
    {
     "data": {
      "text/html": [
       "\n",
       "                <div id='midiPlayerDiv6963'></div>\n",
       "                <link rel=\"stylesheet\" href=\"//cuthbertLab.github.io/music21j/css/m21.css\"\n",
       "                    type=\"text/css\" />\n",
       "                <script>\n",
       "                require.config({\n",
       "                    paths: {'music21': '//cuthbertLab.github.io/music21j/src/music21'}\n",
       "                });\n",
       "                require(['music21'], function() {\n",
       "                               mp = new music21.miditools.MidiPlayer();\n",
       "                               mp.addPlayer('#midiPlayerDiv6963');\n",
       "                               mp.base64Load('data:audio/midi;base64,TVRoZAAAAAYAAQABBABNVHJrAAACWQD/AwVQaWFubwDAAADgAEAAwACIAJA8WogAgDwAAJBDWogAgEMAAJBHWogAgEcAAJA+WogAgD4AAJA8WogAgDwAAJA8WogAgDwAAJBBWogAgEEAAJBBWogAgEEAAJA8WogAgDwAAJBFWogAgEUAAJBAWogAgEAAAJBAWogAgEAAAJBBWogAgEEAAJA+WogAgD4AAJBHWogAgEcAAJA+WogAgD4AAJA+WogAgD4AAJBDWogAgEMAAJBDWogAgEMAAJBHWogAgEcAAJBBWogAgEEAAJBDWogAgEMAAJBDWogAgEMAAJBAWogAgEAAAJA+WogAgD4AAJA+WogAgD4AAJBHWogAgEcAAJA+WogAgD4AAJBDWogAgEMAAJBBWogAgEEAAJA8WogAgDwAAJBBWogAgEEAAJBBWogAgEEAAJBBWogAgEEAAJBHWogAgEcAAJA+WogAgD4AAJA8WogAgDwAAJBBWogAgEEAAJBDWogAgEMAAJBAWogAgEAAAJA+WogAgD4AAJBAWogAgEAAAJBHWogAgEcAAJBBWogAgEEAAJA8WogAgDwAAJBDWogAgEMAAJBBWogAgEEAAJA8WogAgDwAAJA8WogAgDwAAJBHWogAgEcAAJBHWogAgEcAAJA+WogAgD4AAJBAWogAgEAAAJBAWogAgEAAAJBHWogAgEcAAJA+WogAgD4AAJBHWogAgEcAAJBAWogAgEAAAJA8WogAgDwAAJA8WogAgDwAAJBFWogAgEUAAJBBWogAgEEAAJBBWogAgEEAAJBAWogAgEAAiAD/LwA=');\n",
       "                        });\n",
       "                </script>"
      ],
      "text/plain": [
       "<IPython.core.display.HTML object>"
      ]
     },
     "metadata": {},
     "output_type": "display_data"
    }
   ],
   "source": [
    "diatonicPitches = [0, 2, 4, 5, 7, 9, 11]\n",
    "diatonicStream = getPitchStreamFromPitchClassSet(diatonicPitches, 0, 64)\n",
    "showScore(diatonicStream)\n",
    "play(diatonicStream)"
   ]
  },
  {
   "cell_type": "code",
   "execution_count": 12,
   "metadata": {},
   "outputs": [
    {
     "name": "stdout",
     "output_type": "stream",
     "text": [
      "DIV_ID OSMD-div-964205\n"
     ]
    },
    {
     "data": {
      "text/html": [
       "<div id=\"OSMD-div-964205\">loading OpenSheetMusicDisplay</div>"
      ],
      "text/plain": [
       "<IPython.core.display.HTML object>"
      ]
     },
     "metadata": {},
     "output_type": "display_data"
    },
    {
     "name": "stdout",
     "output_type": "stream",
     "text": [
      "xml length: 19064\n"
     ]
    },
    {
     "data": {
      "application/javascript": [
       "\n",
       "    console.log(\"loadOSMD()\");\n",
       "    function loadOSMD() { \n",
       "        return new Promise(function(resolve, reject){\n",
       "\n",
       "            if (window.opensheetmusicdisplay) {\n",
       "                console.log(\"already loaded\")\n",
       "                return resolve(window.opensheetmusicdisplay)\n",
       "            }\n",
       "            console.log(\"loading osmd for the first time\")\n",
       "            // OSMD script has a 'define' call which conflicts with requirejs\n",
       "            var _define = window.define // save the define object \n",
       "            window.define = undefined // now the loaded script will ignore requirejs\n",
       "            var s = document.createElement( 'script' );\n",
       "            s.setAttribute( 'src', \"https://cdn.jsdelivr.net/npm/opensheetmusicdisplay@0.3.1/build/opensheetmusicdisplay.min.js\" );\n",
       "            //s.setAttribute( 'src', \"/custom/opensheetmusicdisplay.js\" );\n",
       "            s.onload=function(){\n",
       "                window.define = _define\n",
       "                console.log(\"loaded OSMD for the first time\",opensheetmusicdisplay)\n",
       "                resolve(opensheetmusicdisplay);\n",
       "            };\n",
       "            document.body.appendChild( s ); // browser will try to load the new script tag\n",
       "        }) \n",
       "    }\n",
       "    loadOSMD().then((OSMD)=>{\n",
       "        console.log(\"loaded OSMD\",OSMD)\n",
       "        var div_id = \"OSMD-div-964205\";\n",
       "            console.log(div_id)\n",
       "        window.openSheetMusicDisplay = new OSMD.OpenSheetMusicDisplay(div_id);\n",
       "        openSheetMusicDisplay\n",
       "            .load(\"<?xml version=\\\"1.0\\\" encoding=\\\"utf-8\\\"?>\\n<!DOCTYPE score-partwise  PUBLIC \\\"-//Recordare//DTD MusicXML 3.0 Partwise//EN\\\" \\\"http://www.musicxml.org/dtds/partwise.dtd\\\">\\n<score-partwise version=\\\"3.0\\\">\\n  <movement-title>Music21 Fragment</movement-title>\\n  <identification>\\n    <creator type=\\\"composer\\\">Music21</creator>\\n    <encoding>\\n      <encoding-date>2021-04-13</encoding-date>\\n      <software>music21 v.5.7.2</software>\\n    </encoding>\\n  </identification>\\n  <defaults>\\n    <scaling>\\n      <millimeters>7</millimeters>\\n      <tenths>40</tenths>\\n    </scaling>\\n  </defaults>\\n  <part-list>\\n    <score-part id=\\\"P1b7fbe02a9e5d24b1756a2160efc172b\\\">\\n      <part-name>Piano</part-name>\\n      <part-abbreviation>Pno</part-abbreviation>\\n      <score-instrument id=\\\"Ic2c5398b198c22179f8b3f4543479e89\\\">\\n        <instrument-name>Piano</instrument-name>\\n        <instrument-abbreviation>Pno</instrument-abbreviation>\\n      </score-instrument>\\n      <midi-instrument id=\\\"Ic2c5398b198c22179f8b3f4543479e89\\\">\\n        <midi-channel>1</midi-channel>\\n        <midi-program>1</midi-program>\\n      </midi-instrument>\\n    </score-part>\\n  </part-list>\\n  <!--=========================== Part 1 ===========================-->\\n  <part id=\\\"P1b7fbe02a9e5d24b1756a2160efc172b\\\">\\n    <!--========================= Measure 1 ==========================-->\\n    <measure number=\\\"1\\\">\\n      <attributes>\\n        <divisions>10080</divisions>\\n        <time>\\n          <beats>4</beats>\\n          <beat-type>4</beat-type>\\n        </time>\\n        <clef>\\n          <sign>G</sign>\\n          <line>2</line>\\n        </clef>\\n      </attributes>\\n      <note>\\n        <rest />\\n        <duration>10080</duration>\\n        <type>quarter</type>\\n      </note>\\n      <note>\\n        <pitch>\\n          <step>C</step>\\n          <alter>0</alter>\\n          <octave>4</octave>\\n        </pitch>\\n        <duration>10080</duration>\\n        <type>quarter</type>\\n        <accidental>natural</accidental>\\n      </note>\\n      <note>\\n        <pitch>\\n          <step>E</step>\\n          <alter>-1</alter>\\n          <octave>4</octave>\\n        </pitch>\\n        <duration>10080</duration>\\n        <type>quarter</type>\\n        <accidental>flat</accidental>\\n      </note>\\n      <note>\\n        <pitch>\\n          <step>F</step>\\n          <alter>1</alter>\\n          <octave>4</octave>\\n        </pitch>\\n        <duration>10080</duration>\\n        <type>quarter</type>\\n        <accidental>sharp</accidental>\\n      </note>\\n    </measure>\\n    <!--========================= Measure 2 ==========================-->\\n    <measure number=\\\"2\\\">\\n      <note>\\n        <pitch>\\n          <step>A</step>\\n          <alter>0</alter>\\n          <octave>4</octave>\\n        </pitch>\\n        <duration>10080</duration>\\n        <type>quarter</type>\\n        <accidental>natural</accidental>\\n      </note>\\n      <note>\\n        <pitch>\\n          <step>C</step>\\n          <alter>1</alter>\\n          <octave>4</octave>\\n        </pitch>\\n        <duration>10080</duration>\\n        <type>quarter</type>\\n        <accidental>sharp</accidental>\\n      </note>\\n      <note>\\n        <pitch>\\n          <step>C</step>\\n          <alter>0</alter>\\n          <octave>4</octave>\\n        </pitch>\\n        <duration>10080</duration>\\n        <type>quarter</type>\\n        <accidental>natural</accidental>\\n      </note>\\n      <note>\\n        <pitch>\\n          <step>C</step>\\n          <alter>1</alter>\\n          <octave>4</octave>\\n        </pitch>\\n        <duration>10080</duration>\\n        <type>quarter</type>\\n        <accidental>sharp</accidental>\\n      </note>\\n    </measure>\\n    <!--========================= Measure 3 ==========================-->\\n    <measure number=\\\"3\\\">\\n      <note>\\n        <pitch>\\n          <step>G</step>\\n          <alter>0</alter>\\n          <octave>4</octave>\\n        </pitch>\\n        <duration>10080</duration>\\n        <type>quarter</type>\\n        <accidental>natural</accidental>\\n      </note>\\n      <note>\\n        <pitch>\\n          <step>E</step>\\n          <alter>0</alter>\\n          <octave>4</octave>\\n        </pitch>\\n        <duration>10080</duration>\\n        <type>quarter</type>\\n        <accidental>natural</accidental>\\n      </note>\\n      <note>\\n        <pitch>\\n          <step>A</step>\\n          <alter>0</alter>\\n          <octave>4</octave>\\n        </pitch>\\n        <duration>10080</duration>\\n        <type>quarter</type>\\n        <accidental>natural</accidental>\\n      </note>\\n      <note>\\n        <pitch>\\n          <step>B</step>\\n          <alter>-1</alter>\\n          <octave>4</octave>\\n        </pitch>\\n        <duration>10080</duration>\\n        <type>quarter</type>\\n        <accidental>flat</accidental>\\n      </note>\\n    </measure>\\n    <!--========================= Measure 4 ==========================-->\\n    <measure number=\\\"4\\\">\\n      <note>\\n        <pitch>\\n          <step>C</step>\\n          <alter>0</alter>\\n          <octave>4</octave>\\n        </pitch>\\n        <duration>10080</duration>\\n        <type>quarter</type>\\n        <accidental>natural</accidental>\\n      </note>\\n      <note>\\n        <pitch>\\n          <step>C</step>\\n          <alter>0</alter>\\n          <octave>4</octave>\\n        </pitch>\\n        <duration>10080</duration>\\n        <type>quarter</type>\\n      </note>\\n      <note>\\n        <pitch>\\n          <step>F</step>\\n          <alter>1</alter>\\n          <octave>4</octave>\\n        </pitch>\\n        <duration>10080</duration>\\n        <type>quarter</type>\\n        <accidental>sharp</accidental>\\n      </note>\\n      <note>\\n        <pitch>\\n          <step>G</step>\\n          <alter>0</alter>\\n          <octave>4</octave>\\n        </pitch>\\n        <duration>10080</duration>\\n        <type>quarter</type>\\n        <accidental>natural</accidental>\\n      </note>\\n    </measure>\\n    <!--========================= Measure 5 ==========================-->\\n    <measure number=\\\"5\\\">\\n      <note>\\n        <pitch>\\n          <step>E</step>\\n          <alter>0</alter>\\n          <octave>4</octave>\\n        </pitch>\\n        <duration>10080</duration>\\n        <type>quarter</type>\\n        <accidental>natural</accidental>\\n      </note>\\n      <note>\\n        <pitch>\\n          <step>C</step>\\n          <alter>1</alter>\\n          <octave>4</octave>\\n        </pitch>\\n        <duration>10080</duration>\\n        <type>quarter</type>\\n        <accidental>sharp</accidental>\\n      </note>\\n      <note>\\n        <pitch>\\n          <step>E</step>\\n          <alter>0</alter>\\n          <octave>4</octave>\\n        </pitch>\\n        <duration>10080</duration>\\n        <type>quarter</type>\\n      </note>\\n      <note>\\n        <pitch>\\n          <step>B</step>\\n          <alter>-1</alter>\\n          <octave>4</octave>\\n        </pitch>\\n        <duration>10080</duration>\\n        <type>quarter</type>\\n        <accidental>flat</accidental>\\n      </note>\\n    </measure>\\n    <!--========================= Measure 6 ==========================-->\\n    <measure number=\\\"6\\\">\\n      <note>\\n        <pitch>\\n          <step>B</step>\\n          <alter>-1</alter>\\n          <octave>4</octave>\\n        </pitch>\\n        <duration>10080</duration>\\n        <type>quarter</type>\\n        <accidental>flat</accidental>\\n      </note>\\n      <note>\\n        <pitch>\\n          <step>G</step>\\n          <alter>0</alter>\\n          <octave>4</octave>\\n        </pitch>\\n        <duration>10080</duration>\\n        <type>quarter</type>\\n        <accidental>natural</accidental>\\n      </note>\\n      <note>\\n        <pitch>\\n          <step>C</step>\\n          <alter>1</alter>\\n          <octave>4</octave>\\n        </pitch>\\n        <duration>10080</duration>\\n        <type>quarter</type>\\n        <accidental>sharp</accidental>\\n      </note>\\n      <note>\\n        <pitch>\\n          <step>C</step>\\n          <alter>0</alter>\\n          <octave>4</octave>\\n        </pitch>\\n        <duration>10080</duration>\\n        <type>quarter</type>\\n        <accidental>natural</accidental>\\n      </note>\\n    </measure>\\n    <!--========================= Measure 7 ==========================-->\\n    <measure number=\\\"7\\\">\\n      <note>\\n        <pitch>\\n          <step>F</step>\\n          <alter>1</alter>\\n          <octave>4</octave>\\n        </pitch>\\n        <duration>10080</duration>\\n        <type>quarter</type>\\n        <accidental>sharp</accidental>\\n      </note>\\n      <note>\\n        <pitch>\\n          <step>A</step>\\n          <alter>0</alter>\\n          <octave>4</octave>\\n        </pitch>\\n        <duration>10080</duration>\\n        <type>quarter</type>\\n        <accidental>natural</accidental>\\n      </note>\\n      <note>\\n        <pitch>\\n          <step>E</step>\\n          <alter>-1</alter>\\n          <octave>4</octave>\\n        </pitch>\\n        <duration>10080</duration>\\n        <type>quarter</type>\\n        <accidental>flat</accidental>\\n      </note>\\n      <note>\\n        <pitch>\\n          <step>C</step>\\n          <alter>1</alter>\\n          <octave>4</octave>\\n        </pitch>\\n        <duration>10080</duration>\\n        <type>quarter</type>\\n        <accidental>sharp</accidental>\\n      </note>\\n    </measure>\\n    <!--========================= Measure 8 ==========================-->\\n    <measure number=\\\"8\\\">\\n      <note>\\n        <pitch>\\n          <step>C</step>\\n          <alter>0</alter>\\n          <octave>4</octave>\\n        </pitch>\\n        <duration>10080</duration>\\n        <type>quarter</type>\\n        <accidental>natural</accidental>\\n      </note>\\n      <note>\\n        <pitch>\\n          <step>E</step>\\n          <alter>-1</alter>\\n          <octave>4</octave>\\n        </pitch>\\n        <duration>10080</duration>\\n        <type>quarter</type>\\n        <accidental>flat</accidental>\\n      </note>\\n      <note>\\n        <pitch>\\n          <step>C</step>\\n          <alter>1</alter>\\n          <octave>4</octave>\\n        </pitch>\\n        <duration>10080</duration>\\n        <type>quarter</type>\\n        <accidental>sharp</accidental>\\n      </note>\\n      <note>\\n        <pitch>\\n          <step>B</step>\\n          <alter>-1</alter>\\n          <octave>4</octave>\\n        </pitch>\\n        <duration>10080</duration>\\n        <type>quarter</type>\\n        <accidental>flat</accidental>\\n      </note>\\n    </measure>\\n    <!--========================= Measure 9 ==========================-->\\n    <measure number=\\\"9\\\">\\n      <note>\\n        <pitch>\\n          <step>E</step>\\n          <alter>0</alter>\\n          <octave>4</octave>\\n        </pitch>\\n        <duration>10080</duration>\\n        <type>quarter</type>\\n        <accidental>natural</accidental>\\n      </note>\\n      <note>\\n        <pitch>\\n          <step>C</step>\\n          <alter>1</alter>\\n          <octave>4</octave>\\n        </pitch>\\n        <duration>10080</duration>\\n        <type>quarter</type>\\n        <accidental>sharp</accidental>\\n      </note>\\n      <note>\\n        <pitch>\\n          <step>E</step>\\n          <alter>0</alter>\\n          <octave>4</octave>\\n        </pitch>\\n        <duration>10080</duration>\\n        <type>quarter</type>\\n      </note>\\n      <note>\\n        <pitch>\\n          <step>B</step>\\n          <alter>-1</alter>\\n          <octave>4</octave>\\n        </pitch>\\n        <duration>10080</duration>\\n        <type>quarter</type>\\n        <accidental>flat</accidental>\\n      </note>\\n    </measure>\\n    <!--========================= Measure 10 =========================-->\\n    <measure number=\\\"10\\\">\\n      <note>\\n        <pitch>\\n          <step>E</step>\\n          <alter>0</alter>\\n          <octave>4</octave>\\n        </pitch>\\n        <duration>10080</duration>\\n        <type>quarter</type>\\n        <accidental>natural</accidental>\\n      </note>\\n      <note>\\n        <pitch>\\n          <step>F</step>\\n          <alter>1</alter>\\n          <octave>4</octave>\\n        </pitch>\\n        <duration>10080</duration>\\n        <type>quarter</type>\\n        <accidental>sharp</accidental>\\n      </note>\\n      <note>\\n        <pitch>\\n          <step>C</step>\\n          <alter>0</alter>\\n          <octave>4</octave>\\n        </pitch>\\n        <duration>10080</duration>\\n        <type>quarter</type>\\n        <accidental>natural</accidental>\\n      </note>\\n      <note>\\n        <pitch>\\n          <step>F</step>\\n          <alter>1</alter>\\n          <octave>4</octave>\\n        </pitch>\\n        <duration>10080</duration>\\n        <type>quarter</type>\\n        <accidental>sharp</accidental>\\n      </note>\\n    </measure>\\n    <!--========================= Measure 11 =========================-->\\n    <measure number=\\\"11\\\">\\n      <note>\\n        <pitch>\\n          <step>G</step>\\n          <alter>0</alter>\\n          <octave>4</octave>\\n        </pitch>\\n        <duration>10080</duration>\\n        <type>quarter</type>\\n        <accidental>natural</accidental>\\n      </note>\\n      <note>\\n        <pitch>\\n          <step>G</step>\\n          <alter>0</alter>\\n          <octave>4</octave>\\n        </pitch>\\n        <duration>10080</duration>\\n        <type>quarter</type>\\n      </note>\\n      <note>\\n        <pitch>\\n          <step>G</step>\\n          <alter>0</alter>\\n          <octave>4</octave>\\n        </pitch>\\n        <duration>10080</duration>\\n        <type>quarter</type>\\n      </note>\\n      <note>\\n        <pitch>\\n          <step>G</step>\\n          <alter>0</alter>\\n          <octave>4</octave>\\n        </pitch>\\n        <duration>10080</duration>\\n        <type>quarter</type>\\n      </note>\\n    </measure>\\n    <!--========================= Measure 12 =========================-->\\n    <measure number=\\\"12\\\">\\n      <note>\\n        <pitch>\\n          <step>C</step>\\n          <alter>0</alter>\\n          <octave>4</octave>\\n        </pitch>\\n        <duration>10080</duration>\\n        <type>quarter</type>\\n        <accidental>natural</accidental>\\n      </note>\\n      <note>\\n        <pitch>\\n          <step>B</step>\\n          <alter>-1</alter>\\n          <octave>4</octave>\\n        </pitch>\\n        <duration>10080</duration>\\n        <type>quarter</type>\\n        <accidental>flat</accidental>\\n      </note>\\n      <note>\\n        <pitch>\\n          <step>A</step>\\n          <alter>0</alter>\\n          <octave>4</octave>\\n        </pitch>\\n        <duration>10080</duration>\\n        <type>quarter</type>\\n        <accidental>natural</accidental>\\n      </note>\\n      <note>\\n        <pitch>\\n          <step>B</step>\\n          <alter>-1</alter>\\n          <octave>4</octave>\\n        </pitch>\\n        <duration>10080</duration>\\n        <type>quarter</type>\\n        <accidental>flat</accidental>\\n      </note>\\n    </measure>\\n    <!--========================= Measure 13 =========================-->\\n    <measure number=\\\"13\\\">\\n      <note>\\n        <pitch>\\n          <step>E</step>\\n          <alter>-1</alter>\\n          <octave>4</octave>\\n        </pitch>\\n        <duration>10080</duration>\\n        <type>quarter</type>\\n        <accidental>flat</accidental>\\n      </note>\\n      <note>\\n        <pitch>\\n          <step>B</step>\\n          <alter>-1</alter>\\n          <octave>4</octave>\\n        </pitch>\\n        <duration>10080</duration>\\n        <type>quarter</type>\\n        <accidental>flat</accidental>\\n      </note>\\n      <note>\\n        <pitch>\\n          <step>A</step>\\n          <alter>0</alter>\\n          <octave>4</octave>\\n        </pitch>\\n        <duration>10080</duration>\\n        <type>quarter</type>\\n        <accidental>natural</accidental>\\n      </note>\\n      <note>\\n        <pitch>\\n          <step>E</step>\\n          <alter>0</alter>\\n          <octave>4</octave>\\n        </pitch>\\n        <duration>10080</duration>\\n        <type>quarter</type>\\n        <accidental>natural</accidental>\\n      </note>\\n    </measure>\\n    <!--========================= Measure 14 =========================-->\\n    <measure number=\\\"14\\\">\\n      <note>\\n        <pitch>\\n          <step>C</step>\\n          <alter>1</alter>\\n          <octave>4</octave>\\n        </pitch>\\n        <duration>10080</duration>\\n        <type>quarter</type>\\n        <accidental>sharp</accidental>\\n      </note>\\n      <note>\\n        <pitch>\\n          <step>C</step>\\n          <alter>0</alter>\\n          <octave>4</octave>\\n        </pitch>\\n        <duration>10080</duration>\\n        <type>quarter</type>\\n        <accidental>natural</accidental>\\n      </note>\\n      <note>\\n        <pitch>\\n          <step>C</step>\\n          <alter>1</alter>\\n          <octave>4</octave>\\n        </pitch>\\n        <duration>10080</duration>\\n        <type>quarter</type>\\n        <accidental>sharp</accidental>\\n      </note>\\n      <note>\\n        <pitch>\\n          <step>G</step>\\n          <alter>0</alter>\\n          <octave>4</octave>\\n        </pitch>\\n        <duration>10080</duration>\\n        <type>quarter</type>\\n        <accidental>natural</accidental>\\n      </note>\\n    </measure>\\n    <!--========================= Measure 15 =========================-->\\n    <measure number=\\\"15\\\">\\n      <note>\\n        <pitch>\\n          <step>F</step>\\n          <alter>1</alter>\\n          <octave>4</octave>\\n        </pitch>\\n        <duration>10080</duration>\\n        <type>quarter</type>\\n        <accidental>sharp</accidental>\\n      </note>\\n      <note>\\n        <pitch>\\n          <step>C</step>\\n          <alter>0</alter>\\n          <octave>4</octave>\\n        </pitch>\\n        <duration>10080</duration>\\n        <type>quarter</type>\\n        <accidental>natural</accidental>\\n      </note>\\n      <note>\\n        <pitch>\\n          <step>B</step>\\n          <alter>-1</alter>\\n          <octave>4</octave>\\n        </pitch>\\n        <duration>10080</duration>\\n        <type>quarter</type>\\n        <accidental>flat</accidental>\\n      </note>\\n      <note>\\n        <pitch>\\n          <step>C</step>\\n          <alter>0</alter>\\n          <octave>4</octave>\\n        </pitch>\\n        <duration>10080</duration>\\n        <type>quarter</type>\\n      </note>\\n    </measure>\\n    <!--========================= Measure 16 =========================-->\\n    <measure number=\\\"16\\\">\\n      <note>\\n        <pitch>\\n          <step>B</step>\\n          <alter>-1</alter>\\n          <octave>4</octave>\\n        </pitch>\\n        <duration>10080</duration>\\n        <type>quarter</type>\\n        <accidental>flat</accidental>\\n      </note>\\n      <note>\\n        <pitch>\\n          <step>E</step>\\n          <alter>-1</alter>\\n          <octave>4</octave>\\n        </pitch>\\n        <duration>10080</duration>\\n        <type>quarter</type>\\n        <accidental>flat</accidental>\\n      </note>\\n      <note>\\n        <pitch>\\n          <step>E</step>\\n          <alter>0</alter>\\n          <octave>4</octave>\\n        </pitch>\\n        <duration>10080</duration>\\n        <type>quarter</type>\\n        <accidental>natural</accidental>\\n      </note>\\n      <note>\\n        <pitch>\\n          <step>C</step>\\n          <alter>1</alter>\\n          <octave>4</octave>\\n        </pitch>\\n        <duration>10080</duration>\\n        <type>quarter</type>\\n        <accidental>sharp</accidental>\\n      </note>\\n    </measure>\\n    <!--========================= Measure 17 =========================-->\\n    <measure number=\\\"17\\\">\\n      <note>\\n        <pitch>\\n          <step>E</step>\\n          <alter>-1</alter>\\n          <octave>4</octave>\\n        </pitch>\\n        <duration>10080</duration>\\n        <type>quarter</type>\\n        <accidental>flat</accidental>\\n      </note>\\n      <barline location=\\\"right\\\">\\n        <bar-style>light-heavy</bar-style>\\n      </barline>\\n    </measure>\\n  </part>\\n</score-partwise>\\n\")\n",
       "            .then(\n",
       "              function() {\n",
       "                console.log(\"rendering data\")\n",
       "                openSheetMusicDisplay.render();\n",
       "              }\n",
       "            );\n",
       "    })\n",
       "    "
      ],
      "text/plain": [
       "<IPython.core.display.Javascript object>"
      ]
     },
     "metadata": {},
     "output_type": "display_data"
    },
    {
     "data": {
      "text/html": [
       "\n",
       "                <div id='midiPlayerDiv10413'></div>\n",
       "                <link rel=\"stylesheet\" href=\"//cuthbertLab.github.io/music21j/css/m21.css\"\n",
       "                    type=\"text/css\" />\n",
       "                <script>\n",
       "                require.config({\n",
       "                    paths: {'music21': '//cuthbertLab.github.io/music21j/src/music21'}\n",
       "                });\n",
       "                require(['music21'], function() {\n",
       "                               mp = new music21.miditools.MidiPlayer();\n",
       "                               mp.addPlayer('#midiPlayerDiv10413');\n",
       "                               mp.base64Load('data:audio/midi;base64,TVRoZAAAAAYAAQABBABNVHJrAAACWQD/AwVQaWFubwDAAADgAEAAwACIAJA8WogAgDwAAJA/WogAgD8AAJBCWogAgEIAAJBFWogAgEUAAJA9WogAgD0AAJA8WogAgDwAAJA9WogAgD0AAJBDWogAgEMAAJBAWogAgEAAAJBFWogAgEUAAJBGWogAgEYAAJA8WogAgDwAAJA8WogAgDwAAJBCWogAgEIAAJBDWogAgEMAAJBAWogAgEAAAJA9WogAgD0AAJBAWogAgEAAAJBGWogAgEYAAJBGWogAgEYAAJBDWogAgEMAAJA9WogAgD0AAJA8WogAgDwAAJBCWogAgEIAAJBFWogAgEUAAJA/WogAgD8AAJA9WogAgD0AAJA8WogAgDwAAJA/WogAgD8AAJA9WogAgD0AAJBGWogAgEYAAJBAWogAgEAAAJA9WogAgD0AAJBAWogAgEAAAJBGWogAgEYAAJBAWogAgEAAAJBCWogAgEIAAJA8WogAgDwAAJBCWogAgEIAAJBDWogAgEMAAJBDWogAgEMAAJBDWogAgEMAAJBDWogAgEMAAJA8WogAgDwAAJBGWogAgEYAAJBFWogAgEUAAJBGWogAgEYAAJA/WogAgD8AAJBGWogAgEYAAJBFWogAgEUAAJBAWogAgEAAAJA9WogAgD0AAJA8WogAgDwAAJA9WogAgD0AAJBDWogAgEMAAJBCWogAgEIAAJA8WogAgDwAAJBGWogAgEYAAJA8WogAgDwAAJBGWogAgEYAAJA/WogAgD8AAJBAWogAgEAAAJA9WogAgD0AAJA/WogAgD8AiAD/LwA=');\n",
       "                        });\n",
       "                </script>"
      ],
      "text/plain": [
       "<IPython.core.display.HTML object>"
      ]
     },
     "metadata": {},
     "output_type": "display_data"
    }
   ],
   "source": [
    "octatonicPitches = [0, 1, 3, 4, 6, 7, 9, 10]\n",
    "octatonicStream = getPitchStreamFromPitchClassSet(octatonicPitches, 0, 64)\n",
    "showScore(octatonicStream)\n",
    "play(octatonicStream)"
   ]
  },
  {
   "cell_type": "code",
   "execution_count": 13,
   "metadata": {},
   "outputs": [
    {
     "name": "stdout",
     "output_type": "stream",
     "text": [
      "DIV_ID OSMD-div-982796\n"
     ]
    },
    {
     "data": {
      "text/html": [
       "<div id=\"OSMD-div-982796\">loading OpenSheetMusicDisplay</div>"
      ],
      "text/plain": [
       "<IPython.core.display.HTML object>"
      ]
     },
     "metadata": {},
     "output_type": "display_data"
    },
    {
     "name": "stdout",
     "output_type": "stream",
     "text": [
      "xml length: 18536\n"
     ]
    },
    {
     "data": {
      "application/javascript": [
       "\n",
       "    console.log(\"loadOSMD()\");\n",
       "    function loadOSMD() { \n",
       "        return new Promise(function(resolve, reject){\n",
       "\n",
       "            if (window.opensheetmusicdisplay) {\n",
       "                console.log(\"already loaded\")\n",
       "                return resolve(window.opensheetmusicdisplay)\n",
       "            }\n",
       "            console.log(\"loading osmd for the first time\")\n",
       "            // OSMD script has a 'define' call which conflicts with requirejs\n",
       "            var _define = window.define // save the define object \n",
       "            window.define = undefined // now the loaded script will ignore requirejs\n",
       "            var s = document.createElement( 'script' );\n",
       "            s.setAttribute( 'src', \"https://cdn.jsdelivr.net/npm/opensheetmusicdisplay@0.3.1/build/opensheetmusicdisplay.min.js\" );\n",
       "            //s.setAttribute( 'src', \"/custom/opensheetmusicdisplay.js\" );\n",
       "            s.onload=function(){\n",
       "                window.define = _define\n",
       "                console.log(\"loaded OSMD for the first time\",opensheetmusicdisplay)\n",
       "                resolve(opensheetmusicdisplay);\n",
       "            };\n",
       "            document.body.appendChild( s ); // browser will try to load the new script tag\n",
       "        }) \n",
       "    }\n",
       "    loadOSMD().then((OSMD)=>{\n",
       "        console.log(\"loaded OSMD\",OSMD)\n",
       "        var div_id = \"OSMD-div-982796\";\n",
       "            console.log(div_id)\n",
       "        window.openSheetMusicDisplay = new OSMD.OpenSheetMusicDisplay(div_id);\n",
       "        openSheetMusicDisplay\n",
       "            .load(\"<?xml version=\\\"1.0\\\" encoding=\\\"utf-8\\\"?>\\n<!DOCTYPE score-partwise  PUBLIC \\\"-//Recordare//DTD MusicXML 3.0 Partwise//EN\\\" \\\"http://www.musicxml.org/dtds/partwise.dtd\\\">\\n<score-partwise version=\\\"3.0\\\">\\n  <movement-title>Music21 Fragment</movement-title>\\n  <identification>\\n    <creator type=\\\"composer\\\">Music21</creator>\\n    <encoding>\\n      <encoding-date>2021-04-13</encoding-date>\\n      <software>music21 v.5.7.2</software>\\n    </encoding>\\n  </identification>\\n  <defaults>\\n    <scaling>\\n      <millimeters>7</millimeters>\\n      <tenths>40</tenths>\\n    </scaling>\\n  </defaults>\\n  <part-list>\\n    <score-part id=\\\"P0d937cf4576f9ee4873d0bf632d0dcea\\\">\\n      <part-name>Piano</part-name>\\n      <part-abbreviation>Pno</part-abbreviation>\\n      <score-instrument id=\\\"I5bc7a5361f170dbb3c834d8e8bac7e4c\\\">\\n        <instrument-name>Piano</instrument-name>\\n        <instrument-abbreviation>Pno</instrument-abbreviation>\\n      </score-instrument>\\n      <midi-instrument id=\\\"I5bc7a5361f170dbb3c834d8e8bac7e4c\\\">\\n        <midi-channel>1</midi-channel>\\n        <midi-program>1</midi-program>\\n      </midi-instrument>\\n    </score-part>\\n  </part-list>\\n  <!--=========================== Part 1 ===========================-->\\n  <part id=\\\"P0d937cf4576f9ee4873d0bf632d0dcea\\\">\\n    <!--========================= Measure 1 ==========================-->\\n    <measure number=\\\"1\\\">\\n      <attributes>\\n        <divisions>10080</divisions>\\n        <time>\\n          <beats>4</beats>\\n          <beat-type>4</beat-type>\\n        </time>\\n        <clef>\\n          <sign>G</sign>\\n          <line>2</line>\\n        </clef>\\n      </attributes>\\n      <note>\\n        <rest />\\n        <duration>10080</duration>\\n        <type>quarter</type>\\n      </note>\\n      <note>\\n        <pitch>\\n          <step>C</step>\\n          <alter>0</alter>\\n          <octave>4</octave>\\n        </pitch>\\n        <duration>10080</duration>\\n        <type>quarter</type>\\n        <accidental>natural</accidental>\\n      </note>\\n      <note>\\n        <pitch>\\n          <step>E</step>\\n          <alter>-1</alter>\\n          <octave>4</octave>\\n        </pitch>\\n        <duration>10080</duration>\\n        <type>quarter</type>\\n        <accidental>flat</accidental>\\n      </note>\\n      <note>\\n        <pitch>\\n          <step>C</step>\\n          <alter>0</alter>\\n          <octave>4</octave>\\n        </pitch>\\n        <duration>10080</duration>\\n        <type>quarter</type>\\n      </note>\\n    </measure>\\n    <!--========================= Measure 2 ==========================-->\\n    <measure number=\\\"2\\\">\\n      <note>\\n        <pitch>\\n          <step>C</step>\\n          <alter>0</alter>\\n          <octave>4</octave>\\n        </pitch>\\n        <duration>10080</duration>\\n        <type>quarter</type>\\n        <accidental>natural</accidental>\\n      </note>\\n      <note>\\n        <pitch>\\n          <step>C</step>\\n          <alter>1</alter>\\n          <octave>4</octave>\\n        </pitch>\\n        <duration>10080</duration>\\n        <type>quarter</type>\\n        <accidental>sharp</accidental>\\n      </note>\\n      <note>\\n        <pitch>\\n          <step>C</step>\\n          <alter>1</alter>\\n          <octave>4</octave>\\n        </pitch>\\n        <duration>10080</duration>\\n        <type>quarter</type>\\n      </note>\\n      <note>\\n        <pitch>\\n          <step>C</step>\\n          <alter>0</alter>\\n          <octave>4</octave>\\n        </pitch>\\n        <duration>10080</duration>\\n        <type>quarter</type>\\n        <accidental>natural</accidental>\\n      </note>\\n    </measure>\\n    <!--========================= Measure 3 ==========================-->\\n    <measure number=\\\"3\\\">\\n      <note>\\n        <pitch>\\n          <step>C</step>\\n          <alter>0</alter>\\n          <octave>4</octave>\\n        </pitch>\\n        <duration>10080</duration>\\n        <type>quarter</type>\\n        <accidental>natural</accidental>\\n      </note>\\n      <note>\\n        <pitch>\\n          <step>E</step>\\n          <alter>-1</alter>\\n          <octave>4</octave>\\n        </pitch>\\n        <duration>10080</duration>\\n        <type>quarter</type>\\n        <accidental>flat</accidental>\\n      </note>\\n      <note>\\n        <pitch>\\n          <step>E</step>\\n          <alter>-1</alter>\\n          <octave>4</octave>\\n        </pitch>\\n        <duration>10080</duration>\\n        <type>quarter</type>\\n      </note>\\n      <note>\\n        <pitch>\\n          <step>E</step>\\n          <alter>-1</alter>\\n          <octave>4</octave>\\n        </pitch>\\n        <duration>10080</duration>\\n        <type>quarter</type>\\n      </note>\\n    </measure>\\n    <!--========================= Measure 4 ==========================-->\\n    <measure number=\\\"4\\\">\\n      <note>\\n        <pitch>\\n          <step>C</step>\\n          <alter>1</alter>\\n          <octave>4</octave>\\n        </pitch>\\n        <duration>10080</duration>\\n        <type>quarter</type>\\n        <accidental>sharp</accidental>\\n      </note>\\n      <note>\\n        <pitch>\\n          <step>C</step>\\n          <alter>1</alter>\\n          <octave>4</octave>\\n        </pitch>\\n        <duration>10080</duration>\\n        <type>quarter</type>\\n      </note>\\n      <note>\\n        <pitch>\\n          <step>C</step>\\n          <alter>1</alter>\\n          <octave>4</octave>\\n        </pitch>\\n        <duration>10080</duration>\\n        <type>quarter</type>\\n      </note>\\n      <note>\\n        <pitch>\\n          <step>E</step>\\n          <alter>-1</alter>\\n          <octave>4</octave>\\n        </pitch>\\n        <duration>10080</duration>\\n        <type>quarter</type>\\n        <accidental>flat</accidental>\\n      </note>\\n    </measure>\\n    <!--========================= Measure 5 ==========================-->\\n    <measure number=\\\"5\\\">\\n      <note>\\n        <pitch>\\n          <step>E</step>\\n          <alter>-1</alter>\\n          <octave>4</octave>\\n        </pitch>\\n        <duration>10080</duration>\\n        <type>quarter</type>\\n        <accidental>flat</accidental>\\n      </note>\\n      <note>\\n        <pitch>\\n          <step>E</step>\\n          <alter>-1</alter>\\n          <octave>4</octave>\\n        </pitch>\\n        <duration>10080</duration>\\n        <type>quarter</type>\\n      </note>\\n      <note>\\n        <pitch>\\n          <step>C</step>\\n          <alter>1</alter>\\n          <octave>4</octave>\\n        </pitch>\\n        <duration>10080</duration>\\n        <type>quarter</type>\\n        <accidental>sharp</accidental>\\n      </note>\\n      <note>\\n        <pitch>\\n          <step>C</step>\\n          <alter>1</alter>\\n          <octave>4</octave>\\n        </pitch>\\n        <duration>10080</duration>\\n        <type>quarter</type>\\n      </note>\\n    </measure>\\n    <!--========================= Measure 6 ==========================-->\\n    <measure number=\\\"6\\\">\\n      <note>\\n        <pitch>\\n          <step>C</step>\\n          <alter>1</alter>\\n          <octave>4</octave>\\n        </pitch>\\n        <duration>10080</duration>\\n        <type>quarter</type>\\n        <accidental>sharp</accidental>\\n      </note>\\n      <note>\\n        <pitch>\\n          <step>C</step>\\n          <alter>1</alter>\\n          <octave>4</octave>\\n        </pitch>\\n        <duration>10080</duration>\\n        <type>quarter</type>\\n      </note>\\n      <note>\\n        <pitch>\\n          <step>C</step>\\n          <alter>1</alter>\\n          <octave>4</octave>\\n        </pitch>\\n        <duration>10080</duration>\\n        <type>quarter</type>\\n      </note>\\n      <note>\\n        <pitch>\\n          <step>C</step>\\n          <alter>1</alter>\\n          <octave>4</octave>\\n        </pitch>\\n        <duration>10080</duration>\\n        <type>quarter</type>\\n      </note>\\n    </measure>\\n    <!--========================= Measure 7 ==========================-->\\n    <measure number=\\\"7\\\">\\n      <note>\\n        <pitch>\\n          <step>E</step>\\n          <alter>-1</alter>\\n          <octave>4</octave>\\n        </pitch>\\n        <duration>10080</duration>\\n        <type>quarter</type>\\n        <accidental>flat</accidental>\\n      </note>\\n      <note>\\n        <pitch>\\n          <step>C</step>\\n          <alter>1</alter>\\n          <octave>4</octave>\\n        </pitch>\\n        <duration>10080</duration>\\n        <type>quarter</type>\\n        <accidental>sharp</accidental>\\n      </note>\\n      <note>\\n        <pitch>\\n          <step>C</step>\\n          <alter>1</alter>\\n          <octave>4</octave>\\n        </pitch>\\n        <duration>10080</duration>\\n        <type>quarter</type>\\n      </note>\\n      <note>\\n        <pitch>\\n          <step>E</step>\\n          <alter>-1</alter>\\n          <octave>4</octave>\\n        </pitch>\\n        <duration>10080</duration>\\n        <type>quarter</type>\\n        <accidental>flat</accidental>\\n      </note>\\n    </measure>\\n    <!--========================= Measure 8 ==========================-->\\n    <measure number=\\\"8\\\">\\n      <note>\\n        <pitch>\\n          <step>C</step>\\n          <alter>1</alter>\\n          <octave>4</octave>\\n        </pitch>\\n        <duration>10080</duration>\\n        <type>quarter</type>\\n        <accidental>sharp</accidental>\\n      </note>\\n      <note>\\n        <pitch>\\n          <step>E</step>\\n          <alter>-1</alter>\\n          <octave>4</octave>\\n        </pitch>\\n        <duration>10080</duration>\\n        <type>quarter</type>\\n        <accidental>flat</accidental>\\n      </note>\\n      <note>\\n        <pitch>\\n          <step>C</step>\\n          <alter>1</alter>\\n          <octave>4</octave>\\n        </pitch>\\n        <duration>10080</duration>\\n        <type>quarter</type>\\n        <accidental>sharp</accidental>\\n      </note>\\n      <note>\\n        <pitch>\\n          <step>E</step>\\n          <alter>-1</alter>\\n          <octave>4</octave>\\n        </pitch>\\n        <duration>10080</duration>\\n        <type>quarter</type>\\n        <accidental>flat</accidental>\\n      </note>\\n    </measure>\\n    <!--========================= Measure 9 ==========================-->\\n    <measure number=\\\"9\\\">\\n      <note>\\n        <pitch>\\n          <step>C</step>\\n          <alter>0</alter>\\n          <octave>4</octave>\\n        </pitch>\\n        <duration>10080</duration>\\n        <type>quarter</type>\\n        <accidental>natural</accidental>\\n      </note>\\n      <note>\\n        <pitch>\\n          <step>C</step>\\n          <alter>0</alter>\\n          <octave>4</octave>\\n        </pitch>\\n        <duration>10080</duration>\\n        <type>quarter</type>\\n      </note>\\n      <note>\\n        <pitch>\\n          <step>E</step>\\n          <alter>-1</alter>\\n          <octave>4</octave>\\n        </pitch>\\n        <duration>10080</duration>\\n        <type>quarter</type>\\n        <accidental>flat</accidental>\\n      </note>\\n      <note>\\n        <pitch>\\n          <step>C</step>\\n          <alter>1</alter>\\n          <octave>4</octave>\\n        </pitch>\\n        <duration>10080</duration>\\n        <type>quarter</type>\\n        <accidental>sharp</accidental>\\n      </note>\\n    </measure>\\n    <!--========================= Measure 10 =========================-->\\n    <measure number=\\\"10\\\">\\n      <note>\\n        <pitch>\\n          <step>C</step>\\n          <alter>1</alter>\\n          <octave>4</octave>\\n        </pitch>\\n        <duration>10080</duration>\\n        <type>quarter</type>\\n        <accidental>sharp</accidental>\\n      </note>\\n      <note>\\n        <pitch>\\n          <step>E</step>\\n          <alter>-1</alter>\\n          <octave>4</octave>\\n        </pitch>\\n        <duration>10080</duration>\\n        <type>quarter</type>\\n        <accidental>flat</accidental>\\n      </note>\\n      <note>\\n        <pitch>\\n          <step>C</step>\\n          <alter>0</alter>\\n          <octave>4</octave>\\n        </pitch>\\n        <duration>10080</duration>\\n        <type>quarter</type>\\n        <accidental>natural</accidental>\\n      </note>\\n      <note>\\n        <pitch>\\n          <step>E</step>\\n          <alter>-1</alter>\\n          <octave>4</octave>\\n        </pitch>\\n        <duration>10080</duration>\\n        <type>quarter</type>\\n        <accidental>flat</accidental>\\n      </note>\\n    </measure>\\n    <!--========================= Measure 11 =========================-->\\n    <measure number=\\\"11\\\">\\n      <note>\\n        <pitch>\\n          <step>C</step>\\n          <alter>0</alter>\\n          <octave>4</octave>\\n        </pitch>\\n        <duration>10080</duration>\\n        <type>quarter</type>\\n        <accidental>natural</accidental>\\n      </note>\\n      <note>\\n        <pitch>\\n          <step>C</step>\\n          <alter>0</alter>\\n          <octave>4</octave>\\n        </pitch>\\n        <duration>10080</duration>\\n        <type>quarter</type>\\n      </note>\\n      <note>\\n        <pitch>\\n          <step>C</step>\\n          <alter>1</alter>\\n          <octave>4</octave>\\n        </pitch>\\n        <duration>10080</duration>\\n        <type>quarter</type>\\n        <accidental>sharp</accidental>\\n      </note>\\n      <note>\\n        <pitch>\\n          <step>E</step>\\n          <alter>-1</alter>\\n          <octave>4</octave>\\n        </pitch>\\n        <duration>10080</duration>\\n        <type>quarter</type>\\n        <accidental>flat</accidental>\\n      </note>\\n    </measure>\\n    <!--========================= Measure 12 =========================-->\\n    <measure number=\\\"12\\\">\\n      <note>\\n        <pitch>\\n          <step>E</step>\\n          <alter>-1</alter>\\n          <octave>4</octave>\\n        </pitch>\\n        <duration>10080</duration>\\n        <type>quarter</type>\\n        <accidental>flat</accidental>\\n      </note>\\n      <note>\\n        <pitch>\\n          <step>E</step>\\n          <alter>-1</alter>\\n          <octave>4</octave>\\n        </pitch>\\n        <duration>10080</duration>\\n        <type>quarter</type>\\n      </note>\\n      <note>\\n        <pitch>\\n          <step>E</step>\\n          <alter>-1</alter>\\n          <octave>4</octave>\\n        </pitch>\\n        <duration>10080</duration>\\n        <type>quarter</type>\\n      </note>\\n      <note>\\n        <pitch>\\n          <step>C</step>\\n          <alter>0</alter>\\n          <octave>4</octave>\\n        </pitch>\\n        <duration>10080</duration>\\n        <type>quarter</type>\\n        <accidental>natural</accidental>\\n      </note>\\n    </measure>\\n    <!--========================= Measure 13 =========================-->\\n    <measure number=\\\"13\\\">\\n      <note>\\n        <pitch>\\n          <step>C</step>\\n          <alter>0</alter>\\n          <octave>4</octave>\\n        </pitch>\\n        <duration>10080</duration>\\n        <type>quarter</type>\\n        <accidental>natural</accidental>\\n      </note>\\n      <note>\\n        <pitch>\\n          <step>E</step>\\n          <alter>-1</alter>\\n          <octave>4</octave>\\n        </pitch>\\n        <duration>10080</duration>\\n        <type>quarter</type>\\n        <accidental>flat</accidental>\\n      </note>\\n      <note>\\n        <pitch>\\n          <step>C</step>\\n          <alter>1</alter>\\n          <octave>4</octave>\\n        </pitch>\\n        <duration>10080</duration>\\n        <type>quarter</type>\\n        <accidental>sharp</accidental>\\n      </note>\\n      <note>\\n        <pitch>\\n          <step>E</step>\\n          <alter>-1</alter>\\n          <octave>4</octave>\\n        </pitch>\\n        <duration>10080</duration>\\n        <type>quarter</type>\\n        <accidental>flat</accidental>\\n      </note>\\n    </measure>\\n    <!--========================= Measure 14 =========================-->\\n    <measure number=\\\"14\\\">\\n      <note>\\n        <pitch>\\n          <step>E</step>\\n          <alter>-1</alter>\\n          <octave>4</octave>\\n        </pitch>\\n        <duration>10080</duration>\\n        <type>quarter</type>\\n        <accidental>flat</accidental>\\n      </note>\\n      <note>\\n        <pitch>\\n          <step>E</step>\\n          <alter>-1</alter>\\n          <octave>4</octave>\\n        </pitch>\\n        <duration>10080</duration>\\n        <type>quarter</type>\\n      </note>\\n      <note>\\n        <pitch>\\n          <step>C</step>\\n          <alter>1</alter>\\n          <octave>4</octave>\\n        </pitch>\\n        <duration>10080</duration>\\n        <type>quarter</type>\\n        <accidental>sharp</accidental>\\n      </note>\\n      <note>\\n        <pitch>\\n          <step>E</step>\\n          <alter>-1</alter>\\n          <octave>4</octave>\\n        </pitch>\\n        <duration>10080</duration>\\n        <type>quarter</type>\\n        <accidental>flat</accidental>\\n      </note>\\n    </measure>\\n    <!--========================= Measure 15 =========================-->\\n    <measure number=\\\"15\\\">\\n      <note>\\n        <pitch>\\n          <step>E</step>\\n          <alter>-1</alter>\\n          <octave>4</octave>\\n        </pitch>\\n        <duration>10080</duration>\\n        <type>quarter</type>\\n        <accidental>flat</accidental>\\n      </note>\\n      <note>\\n        <pitch>\\n          <step>C</step>\\n          <alter>0</alter>\\n          <octave>4</octave>\\n        </pitch>\\n        <duration>10080</duration>\\n        <type>quarter</type>\\n        <accidental>natural</accidental>\\n      </note>\\n      <note>\\n        <pitch>\\n          <step>E</step>\\n          <alter>-1</alter>\\n          <octave>4</octave>\\n        </pitch>\\n        <duration>10080</duration>\\n        <type>quarter</type>\\n        <accidental>flat</accidental>\\n      </note>\\n      <note>\\n        <pitch>\\n          <step>C</step>\\n          <alter>0</alter>\\n          <octave>4</octave>\\n        </pitch>\\n        <duration>10080</duration>\\n        <type>quarter</type>\\n      </note>\\n    </measure>\\n    <!--========================= Measure 16 =========================-->\\n    <measure number=\\\"16\\\">\\n      <note>\\n        <pitch>\\n          <step>C</step>\\n          <alter>0</alter>\\n          <octave>4</octave>\\n        </pitch>\\n        <duration>10080</duration>\\n        <type>quarter</type>\\n        <accidental>natural</accidental>\\n      </note>\\n      <note>\\n        <pitch>\\n          <step>E</step>\\n          <alter>-1</alter>\\n          <octave>4</octave>\\n        </pitch>\\n        <duration>10080</duration>\\n        <type>quarter</type>\\n        <accidental>flat</accidental>\\n      </note>\\n      <note>\\n        <pitch>\\n          <step>E</step>\\n          <alter>-1</alter>\\n          <octave>4</octave>\\n        </pitch>\\n        <duration>10080</duration>\\n        <type>quarter</type>\\n      </note>\\n      <note>\\n        <pitch>\\n          <step>C</step>\\n          <alter>0</alter>\\n          <octave>4</octave>\\n        </pitch>\\n        <duration>10080</duration>\\n        <type>quarter</type>\\n      </note>\\n    </measure>\\n    <!--========================= Measure 17 =========================-->\\n    <measure number=\\\"17\\\">\\n      <note>\\n        <pitch>\\n          <step>C</step>\\n          <alter>1</alter>\\n          <octave>4</octave>\\n        </pitch>\\n        <duration>10080</duration>\\n        <type>quarter</type>\\n        <accidental>sharp</accidental>\\n      </note>\\n      <barline location=\\\"right\\\">\\n        <bar-style>light-heavy</bar-style>\\n      </barline>\\n    </measure>\\n  </part>\\n</score-partwise>\\n\")\n",
       "            .then(\n",
       "              function() {\n",
       "                console.log(\"rendering data\")\n",
       "                openSheetMusicDisplay.render();\n",
       "              }\n",
       "            );\n",
       "    })\n",
       "    "
      ],
      "text/plain": [
       "<IPython.core.display.Javascript object>"
      ]
     },
     "metadata": {},
     "output_type": "display_data"
    },
    {
     "data": {
      "text/html": [
       "\n",
       "                <div id='midiPlayerDiv13927'></div>\n",
       "                <link rel=\"stylesheet\" href=\"//cuthbertLab.github.io/music21j/css/m21.css\"\n",
       "                    type=\"text/css\" />\n",
       "                <script>\n",
       "                require.config({\n",
       "                    paths: {'music21': '//cuthbertLab.github.io/music21j/src/music21'}\n",
       "                });\n",
       "                require(['music21'], function() {\n",
       "                               mp = new music21.miditools.MidiPlayer();\n",
       "                               mp.addPlayer('#midiPlayerDiv13927');\n",
       "                               mp.base64Load('data:audio/midi;base64,TVRoZAAAAAYAAQABBABNVHJrAAACWQD/AwVQaWFubwDAAADgAEAAwACIAJA8WogAgDwAAJA/WogAgD8AAJA8WogAgDwAAJA8WogAgDwAAJA9WogAgD0AAJA9WogAgD0AAJA8WogAgDwAAJA8WogAgDwAAJA/WogAgD8AAJA/WogAgD8AAJA/WogAgD8AAJA9WogAgD0AAJA9WogAgD0AAJA9WogAgD0AAJA/WogAgD8AAJA/WogAgD8AAJA/WogAgD8AAJA9WogAgD0AAJA9WogAgD0AAJA9WogAgD0AAJA9WogAgD0AAJA9WogAgD0AAJA9WogAgD0AAJA/WogAgD8AAJA9WogAgD0AAJA9WogAgD0AAJA/WogAgD8AAJA9WogAgD0AAJA/WogAgD8AAJA9WogAgD0AAJA/WogAgD8AAJA8WogAgDwAAJA8WogAgDwAAJA/WogAgD8AAJA9WogAgD0AAJA9WogAgD0AAJA/WogAgD8AAJA8WogAgDwAAJA/WogAgD8AAJA8WogAgDwAAJA8WogAgDwAAJA9WogAgD0AAJA/WogAgD8AAJA/WogAgD8AAJA/WogAgD8AAJA/WogAgD8AAJA8WogAgDwAAJA8WogAgDwAAJA/WogAgD8AAJA9WogAgD0AAJA/WogAgD8AAJA/WogAgD8AAJA/WogAgD8AAJA9WogAgD0AAJA/WogAgD8AAJA/WogAgD8AAJA8WogAgDwAAJA/WogAgD8AAJA8WogAgDwAAJA8WogAgDwAAJA/WogAgD8AAJA/WogAgD8AAJA8WogAgDwAAJA9WogAgD0AiAD/LwA=');\n",
       "                        });\n",
       "                </script>"
      ],
      "text/plain": [
       "<IPython.core.display.HTML object>"
      ]
     },
     "metadata": {},
     "output_type": "display_data"
    }
   ],
   "source": [
    "trichordPitches = [0, 1, 3]\n",
    "trichordStream = getPitchStreamFromPitchClassSet(trichordPitches, 0, 64)\n",
    "showScore(trichordStream)\n",
    "play(trichordStream)"
   ]
  },
  {
   "cell_type": "code",
   "execution_count": 14,
   "metadata": {},
   "outputs": [
    {
     "name": "stdout",
     "output_type": "stream",
     "text": [
      "DIV_ID OSMD-div-634759\n"
     ]
    },
    {
     "data": {
      "text/html": [
       "<div id=\"OSMD-div-634759\">loading OpenSheetMusicDisplay</div>"
      ],
      "text/plain": [
       "<IPython.core.display.HTML object>"
      ]
     },
     "metadata": {},
     "output_type": "display_data"
    },
    {
     "name": "stdout",
     "output_type": "stream",
     "text": [
      "xml length: 18826\n"
     ]
    },
    {
     "data": {
      "application/javascript": [
       "\n",
       "    console.log(\"loadOSMD()\");\n",
       "    function loadOSMD() { \n",
       "        return new Promise(function(resolve, reject){\n",
       "\n",
       "            if (window.opensheetmusicdisplay) {\n",
       "                console.log(\"already loaded\")\n",
       "                return resolve(window.opensheetmusicdisplay)\n",
       "            }\n",
       "            console.log(\"loading osmd for the first time\")\n",
       "            // OSMD script has a 'define' call which conflicts with requirejs\n",
       "            var _define = window.define // save the define object \n",
       "            window.define = undefined // now the loaded script will ignore requirejs\n",
       "            var s = document.createElement( 'script' );\n",
       "            s.setAttribute( 'src', \"https://cdn.jsdelivr.net/npm/opensheetmusicdisplay@0.3.1/build/opensheetmusicdisplay.min.js\" );\n",
       "            //s.setAttribute( 'src', \"/custom/opensheetmusicdisplay.js\" );\n",
       "            s.onload=function(){\n",
       "                window.define = _define\n",
       "                console.log(\"loaded OSMD for the first time\",opensheetmusicdisplay)\n",
       "                resolve(opensheetmusicdisplay);\n",
       "            };\n",
       "            document.body.appendChild( s ); // browser will try to load the new script tag\n",
       "        }) \n",
       "    }\n",
       "    loadOSMD().then((OSMD)=>{\n",
       "        console.log(\"loaded OSMD\",OSMD)\n",
       "        var div_id = \"OSMD-div-634759\";\n",
       "            console.log(div_id)\n",
       "        window.openSheetMusicDisplay = new OSMD.OpenSheetMusicDisplay(div_id);\n",
       "        openSheetMusicDisplay\n",
       "            .load(\"<?xml version=\\\"1.0\\\" encoding=\\\"utf-8\\\"?>\\n<!DOCTYPE score-partwise  PUBLIC \\\"-//Recordare//DTD MusicXML 3.0 Partwise//EN\\\" \\\"http://www.musicxml.org/dtds/partwise.dtd\\\">\\n<score-partwise version=\\\"3.0\\\">\\n  <movement-title>Music21 Fragment</movement-title>\\n  <identification>\\n    <creator type=\\\"composer\\\">Music21</creator>\\n    <encoding>\\n      <encoding-date>2021-04-13</encoding-date>\\n      <software>music21 v.5.7.2</software>\\n    </encoding>\\n  </identification>\\n  <defaults>\\n    <scaling>\\n      <millimeters>7</millimeters>\\n      <tenths>40</tenths>\\n    </scaling>\\n  </defaults>\\n  <part-list>\\n    <score-part id=\\\"P7f51e32c55c9cd9637967a571f533872\\\">\\n      <part-name>Piano</part-name>\\n      <part-abbreviation>Pno</part-abbreviation>\\n      <score-instrument id=\\\"Ifa5747ca21b70d0b31c12e2f98cd06bf\\\">\\n        <instrument-name>Piano</instrument-name>\\n        <instrument-abbreviation>Pno</instrument-abbreviation>\\n      </score-instrument>\\n      <midi-instrument id=\\\"Ifa5747ca21b70d0b31c12e2f98cd06bf\\\">\\n        <midi-channel>1</midi-channel>\\n        <midi-program>1</midi-program>\\n      </midi-instrument>\\n    </score-part>\\n  </part-list>\\n  <!--=========================== Part 1 ===========================-->\\n  <part id=\\\"P7f51e32c55c9cd9637967a571f533872\\\">\\n    <!--========================= Measure 1 ==========================-->\\n    <measure number=\\\"1\\\">\\n      <attributes>\\n        <divisions>10080</divisions>\\n        <time>\\n          <beats>4</beats>\\n          <beat-type>4</beat-type>\\n        </time>\\n        <clef>\\n          <sign>G</sign>\\n          <line>2</line>\\n        </clef>\\n      </attributes>\\n      <note>\\n        <rest />\\n        <duration>10080</duration>\\n        <type>quarter</type>\\n      </note>\\n      <note>\\n        <pitch>\\n          <step>C</step>\\n          <alter>1</alter>\\n          <octave>4</octave>\\n        </pitch>\\n        <duration>10080</duration>\\n        <type>quarter</type>\\n        <accidental>sharp</accidental>\\n      </note>\\n      <note>\\n        <pitch>\\n          <step>E</step>\\n          <alter>-1</alter>\\n          <octave>4</octave>\\n        </pitch>\\n        <duration>10080</duration>\\n        <type>quarter</type>\\n        <accidental>flat</accidental>\\n      </note>\\n      <note>\\n        <pitch>\\n          <step>C</step>\\n          <alter>1</alter>\\n          <octave>4</octave>\\n        </pitch>\\n        <duration>10080</duration>\\n        <type>quarter</type>\\n        <accidental>sharp</accidental>\\n      </note>\\n    </measure>\\n    <!--========================= Measure 2 ==========================-->\\n    <measure number=\\\"2\\\">\\n      <note>\\n        <pitch>\\n          <step>G</step>\\n          <alter>0</alter>\\n          <octave>4</octave>\\n        </pitch>\\n        <duration>10080</duration>\\n        <type>quarter</type>\\n        <accidental>natural</accidental>\\n      </note>\\n      <note>\\n        <pitch>\\n          <step>F</step>\\n          <alter>0</alter>\\n          <octave>4</octave>\\n        </pitch>\\n        <duration>10080</duration>\\n        <type>quarter</type>\\n        <accidental>natural</accidental>\\n      </note>\\n      <note>\\n        <pitch>\\n          <step>C</step>\\n          <alter>1</alter>\\n          <octave>4</octave>\\n        </pitch>\\n        <duration>10080</duration>\\n        <type>quarter</type>\\n        <accidental>sharp</accidental>\\n      </note>\\n      <note>\\n        <pitch>\\n          <step>E</step>\\n          <alter>-1</alter>\\n          <octave>4</octave>\\n        </pitch>\\n        <duration>10080</duration>\\n        <type>quarter</type>\\n        <accidental>flat</accidental>\\n      </note>\\n    </measure>\\n    <!--========================= Measure 3 ==========================-->\\n    <measure number=\\\"3\\\">\\n      <note>\\n        <pitch>\\n          <step>A</step>\\n          <alter>0</alter>\\n          <octave>4</octave>\\n        </pitch>\\n        <duration>10080</duration>\\n        <type>quarter</type>\\n        <accidental>natural</accidental>\\n      </note>\\n      <note>\\n        <pitch>\\n          <step>C</step>\\n          <alter>1</alter>\\n          <octave>4</octave>\\n        </pitch>\\n        <duration>10080</duration>\\n        <type>quarter</type>\\n        <accidental>sharp</accidental>\\n      </note>\\n      <note>\\n        <pitch>\\n          <step>G</step>\\n          <alter>0</alter>\\n          <octave>4</octave>\\n        </pitch>\\n        <duration>10080</duration>\\n        <type>quarter</type>\\n        <accidental>natural</accidental>\\n      </note>\\n      <note>\\n        <pitch>\\n          <step>G</step>\\n          <alter>0</alter>\\n          <octave>4</octave>\\n        </pitch>\\n        <duration>10080</duration>\\n        <type>quarter</type>\\n      </note>\\n    </measure>\\n    <!--========================= Measure 4 ==========================-->\\n    <measure number=\\\"4\\\">\\n      <note>\\n        <pitch>\\n          <step>A</step>\\n          <alter>0</alter>\\n          <octave>4</octave>\\n        </pitch>\\n        <duration>10080</duration>\\n        <type>quarter</type>\\n        <accidental>natural</accidental>\\n      </note>\\n      <note>\\n        <pitch>\\n          <step>G</step>\\n          <alter>0</alter>\\n          <octave>4</octave>\\n        </pitch>\\n        <duration>10080</duration>\\n        <type>quarter</type>\\n        <accidental>natural</accidental>\\n      </note>\\n      <note>\\n        <pitch>\\n          <step>G</step>\\n          <alter>0</alter>\\n          <octave>4</octave>\\n        </pitch>\\n        <duration>10080</duration>\\n        <type>quarter</type>\\n      </note>\\n      <note>\\n        <pitch>\\n          <step>G</step>\\n          <alter>0</alter>\\n          <octave>4</octave>\\n        </pitch>\\n        <duration>10080</duration>\\n        <type>quarter</type>\\n      </note>\\n    </measure>\\n    <!--========================= Measure 5 ==========================-->\\n    <measure number=\\\"5\\\">\\n      <note>\\n        <pitch>\\n          <step>C</step>\\n          <alter>1</alter>\\n          <octave>4</octave>\\n        </pitch>\\n        <duration>10080</duration>\\n        <type>quarter</type>\\n        <accidental>sharp</accidental>\\n      </note>\\n      <note>\\n        <pitch>\\n          <step>A</step>\\n          <alter>0</alter>\\n          <octave>4</octave>\\n        </pitch>\\n        <duration>10080</duration>\\n        <type>quarter</type>\\n        <accidental>natural</accidental>\\n      </note>\\n      <note>\\n        <pitch>\\n          <step>A</step>\\n          <alter>0</alter>\\n          <octave>4</octave>\\n        </pitch>\\n        <duration>10080</duration>\\n        <type>quarter</type>\\n      </note>\\n      <note>\\n        <pitch>\\n          <step>A</step>\\n          <alter>0</alter>\\n          <octave>4</octave>\\n        </pitch>\\n        <duration>10080</duration>\\n        <type>quarter</type>\\n      </note>\\n    </measure>\\n    <!--========================= Measure 6 ==========================-->\\n    <measure number=\\\"6\\\">\\n      <note>\\n        <pitch>\\n          <step>A</step>\\n          <alter>0</alter>\\n          <octave>4</octave>\\n        </pitch>\\n        <duration>10080</duration>\\n        <type>quarter</type>\\n        <accidental>natural</accidental>\\n      </note>\\n      <note>\\n        <pitch>\\n          <step>G</step>\\n          <alter>0</alter>\\n          <octave>4</octave>\\n        </pitch>\\n        <duration>10080</duration>\\n        <type>quarter</type>\\n        <accidental>natural</accidental>\\n      </note>\\n      <note>\\n        <pitch>\\n          <step>C</step>\\n          <alter>1</alter>\\n          <octave>4</octave>\\n        </pitch>\\n        <duration>10080</duration>\\n        <type>quarter</type>\\n        <accidental>sharp</accidental>\\n      </note>\\n      <note>\\n        <pitch>\\n          <step>G</step>\\n          <alter>0</alter>\\n          <octave>4</octave>\\n        </pitch>\\n        <duration>10080</duration>\\n        <type>quarter</type>\\n      </note>\\n    </measure>\\n    <!--========================= Measure 7 ==========================-->\\n    <measure number=\\\"7\\\">\\n      <note>\\n        <pitch>\\n          <step>A</step>\\n          <alter>0</alter>\\n          <octave>4</octave>\\n        </pitch>\\n        <duration>10080</duration>\\n        <type>quarter</type>\\n        <accidental>natural</accidental>\\n      </note>\\n      <note>\\n        <pitch>\\n          <step>C</step>\\n          <alter>1</alter>\\n          <octave>4</octave>\\n        </pitch>\\n        <duration>10080</duration>\\n        <type>quarter</type>\\n        <accidental>sharp</accidental>\\n      </note>\\n      <note>\\n        <pitch>\\n          <step>C</step>\\n          <alter>1</alter>\\n          <octave>4</octave>\\n        </pitch>\\n        <duration>10080</duration>\\n        <type>quarter</type>\\n      </note>\\n      <note>\\n        <pitch>\\n          <step>A</step>\\n          <alter>0</alter>\\n          <octave>4</octave>\\n        </pitch>\\n        <duration>10080</duration>\\n        <type>quarter</type>\\n      </note>\\n    </measure>\\n    <!--========================= Measure 8 ==========================-->\\n    <measure number=\\\"8\\\">\\n      <note>\\n        <pitch>\\n          <step>C</step>\\n          <alter>1</alter>\\n          <octave>4</octave>\\n        </pitch>\\n        <duration>10080</duration>\\n        <type>quarter</type>\\n        <accidental>sharp</accidental>\\n      </note>\\n      <note>\\n        <pitch>\\n          <step>B</step>\\n          <alter>0</alter>\\n          <octave>4</octave>\\n        </pitch>\\n        <duration>10080</duration>\\n        <type>quarter</type>\\n        <accidental>natural</accidental>\\n      </note>\\n      <note>\\n        <pitch>\\n          <step>A</step>\\n          <alter>0</alter>\\n          <octave>4</octave>\\n        </pitch>\\n        <duration>10080</duration>\\n        <type>quarter</type>\\n        <accidental>natural</accidental>\\n      </note>\\n      <note>\\n        <pitch>\\n          <step>E</step>\\n          <alter>-1</alter>\\n          <octave>4</octave>\\n        </pitch>\\n        <duration>10080</duration>\\n        <type>quarter</type>\\n        <accidental>flat</accidental>\\n      </note>\\n    </measure>\\n    <!--========================= Measure 9 ==========================-->\\n    <measure number=\\\"9\\\">\\n      <note>\\n        <pitch>\\n          <step>A</step>\\n          <alter>0</alter>\\n          <octave>4</octave>\\n        </pitch>\\n        <duration>10080</duration>\\n        <type>quarter</type>\\n        <accidental>natural</accidental>\\n      </note>\\n      <note>\\n        <pitch>\\n          <step>E</step>\\n          <alter>-1</alter>\\n          <octave>4</octave>\\n        </pitch>\\n        <duration>10080</duration>\\n        <type>quarter</type>\\n        <accidental>flat</accidental>\\n      </note>\\n      <note>\\n        <pitch>\\n          <step>C</step>\\n          <alter>1</alter>\\n          <octave>4</octave>\\n        </pitch>\\n        <duration>10080</duration>\\n        <type>quarter</type>\\n        <accidental>sharp</accidental>\\n      </note>\\n      <note>\\n        <pitch>\\n          <step>E</step>\\n          <alter>-1</alter>\\n          <octave>4</octave>\\n        </pitch>\\n        <duration>10080</duration>\\n        <type>quarter</type>\\n        <accidental>flat</accidental>\\n      </note>\\n    </measure>\\n    <!--========================= Measure 10 =========================-->\\n    <measure number=\\\"10\\\">\\n      <note>\\n        <pitch>\\n          <step>A</step>\\n          <alter>0</alter>\\n          <octave>4</octave>\\n        </pitch>\\n        <duration>10080</duration>\\n        <type>quarter</type>\\n        <accidental>natural</accidental>\\n      </note>\\n      <note>\\n        <pitch>\\n          <step>G</step>\\n          <alter>0</alter>\\n          <octave>4</octave>\\n        </pitch>\\n        <duration>10080</duration>\\n        <type>quarter</type>\\n        <accidental>natural</accidental>\\n      </note>\\n      <note>\\n        <pitch>\\n          <step>C</step>\\n          <alter>1</alter>\\n          <octave>4</octave>\\n        </pitch>\\n        <duration>10080</duration>\\n        <type>quarter</type>\\n        <accidental>sharp</accidental>\\n      </note>\\n      <note>\\n        <pitch>\\n          <step>E</step>\\n          <alter>-1</alter>\\n          <octave>4</octave>\\n        </pitch>\\n        <duration>10080</duration>\\n        <type>quarter</type>\\n        <accidental>flat</accidental>\\n      </note>\\n    </measure>\\n    <!--========================= Measure 11 =========================-->\\n    <measure number=\\\"11\\\">\\n      <note>\\n        <pitch>\\n          <step>C</step>\\n          <alter>1</alter>\\n          <octave>4</octave>\\n        </pitch>\\n        <duration>10080</duration>\\n        <type>quarter</type>\\n        <accidental>sharp</accidental>\\n      </note>\\n      <note>\\n        <pitch>\\n          <step>C</step>\\n          <alter>1</alter>\\n          <octave>4</octave>\\n        </pitch>\\n        <duration>10080</duration>\\n        <type>quarter</type>\\n      </note>\\n      <note>\\n        <pitch>\\n          <step>A</step>\\n          <alter>0</alter>\\n          <octave>4</octave>\\n        </pitch>\\n        <duration>10080</duration>\\n        <type>quarter</type>\\n        <accidental>natural</accidental>\\n      </note>\\n      <note>\\n        <pitch>\\n          <step>E</step>\\n          <alter>-1</alter>\\n          <octave>4</octave>\\n        </pitch>\\n        <duration>10080</duration>\\n        <type>quarter</type>\\n        <accidental>flat</accidental>\\n      </note>\\n    </measure>\\n    <!--========================= Measure 12 =========================-->\\n    <measure number=\\\"12\\\">\\n      <note>\\n        <pitch>\\n          <step>E</step>\\n          <alter>-1</alter>\\n          <octave>4</octave>\\n        </pitch>\\n        <duration>10080</duration>\\n        <type>quarter</type>\\n        <accidental>flat</accidental>\\n      </note>\\n      <note>\\n        <pitch>\\n          <step>A</step>\\n          <alter>0</alter>\\n          <octave>4</octave>\\n        </pitch>\\n        <duration>10080</duration>\\n        <type>quarter</type>\\n        <accidental>natural</accidental>\\n      </note>\\n      <note>\\n        <pitch>\\n          <step>C</step>\\n          <alter>1</alter>\\n          <octave>4</octave>\\n        </pitch>\\n        <duration>10080</duration>\\n        <type>quarter</type>\\n        <accidental>sharp</accidental>\\n      </note>\\n      <note>\\n        <pitch>\\n          <step>A</step>\\n          <alter>0</alter>\\n          <octave>4</octave>\\n        </pitch>\\n        <duration>10080</duration>\\n        <type>quarter</type>\\n      </note>\\n    </measure>\\n    <!--========================= Measure 13 =========================-->\\n    <measure number=\\\"13\\\">\\n      <note>\\n        <pitch>\\n          <step>C</step>\\n          <alter>1</alter>\\n          <octave>4</octave>\\n        </pitch>\\n        <duration>10080</duration>\\n        <type>quarter</type>\\n        <accidental>sharp</accidental>\\n      </note>\\n      <note>\\n        <pitch>\\n          <step>C</step>\\n          <alter>1</alter>\\n          <octave>4</octave>\\n        </pitch>\\n        <duration>10080</duration>\\n        <type>quarter</type>\\n      </note>\\n      <note>\\n        <pitch>\\n          <step>E</step>\\n          <alter>-1</alter>\\n          <octave>4</octave>\\n        </pitch>\\n        <duration>10080</duration>\\n        <type>quarter</type>\\n        <accidental>flat</accidental>\\n      </note>\\n      <note>\\n        <pitch>\\n          <step>A</step>\\n          <alter>0</alter>\\n          <octave>4</octave>\\n        </pitch>\\n        <duration>10080</duration>\\n        <type>quarter</type>\\n        <accidental>natural</accidental>\\n      </note>\\n    </measure>\\n    <!--========================= Measure 14 =========================-->\\n    <measure number=\\\"14\\\">\\n      <note>\\n        <pitch>\\n          <step>C</step>\\n          <alter>1</alter>\\n          <octave>4</octave>\\n        </pitch>\\n        <duration>10080</duration>\\n        <type>quarter</type>\\n        <accidental>sharp</accidental>\\n      </note>\\n      <note>\\n        <pitch>\\n          <step>A</step>\\n          <alter>0</alter>\\n          <octave>4</octave>\\n        </pitch>\\n        <duration>10080</duration>\\n        <type>quarter</type>\\n        <accidental>natural</accidental>\\n      </note>\\n      <note>\\n        <pitch>\\n          <step>C</step>\\n          <alter>1</alter>\\n          <octave>4</octave>\\n        </pitch>\\n        <duration>10080</duration>\\n        <type>quarter</type>\\n        <accidental>sharp</accidental>\\n      </note>\\n      <note>\\n        <pitch>\\n          <step>A</step>\\n          <alter>0</alter>\\n          <octave>4</octave>\\n        </pitch>\\n        <duration>10080</duration>\\n        <type>quarter</type>\\n      </note>\\n    </measure>\\n    <!--========================= Measure 15 =========================-->\\n    <measure number=\\\"15\\\">\\n      <note>\\n        <pitch>\\n          <step>G</step>\\n          <alter>0</alter>\\n          <octave>4</octave>\\n        </pitch>\\n        <duration>10080</duration>\\n        <type>quarter</type>\\n        <accidental>natural</accidental>\\n      </note>\\n      <note>\\n        <pitch>\\n          <step>C</step>\\n          <alter>1</alter>\\n          <octave>4</octave>\\n        </pitch>\\n        <duration>10080</duration>\\n        <type>quarter</type>\\n        <accidental>sharp</accidental>\\n      </note>\\n      <note>\\n        <pitch>\\n          <step>E</step>\\n          <alter>-1</alter>\\n          <octave>4</octave>\\n        </pitch>\\n        <duration>10080</duration>\\n        <type>quarter</type>\\n        <accidental>flat</accidental>\\n      </note>\\n      <note>\\n        <pitch>\\n          <step>A</step>\\n          <alter>0</alter>\\n          <octave>4</octave>\\n        </pitch>\\n        <duration>10080</duration>\\n        <type>quarter</type>\\n        <accidental>natural</accidental>\\n      </note>\\n    </measure>\\n    <!--========================= Measure 16 =========================-->\\n    <measure number=\\\"16\\\">\\n      <note>\\n        <pitch>\\n          <step>A</step>\\n          <alter>0</alter>\\n          <octave>4</octave>\\n        </pitch>\\n        <duration>10080</duration>\\n        <type>quarter</type>\\n        <accidental>natural</accidental>\\n      </note>\\n      <note>\\n        <pitch>\\n          <step>E</step>\\n          <alter>-1</alter>\\n          <octave>4</octave>\\n        </pitch>\\n        <duration>10080</duration>\\n        <type>quarter</type>\\n        <accidental>flat</accidental>\\n      </note>\\n      <note>\\n        <pitch>\\n          <step>A</step>\\n          <alter>0</alter>\\n          <octave>4</octave>\\n        </pitch>\\n        <duration>10080</duration>\\n        <type>quarter</type>\\n      </note>\\n      <note>\\n        <pitch>\\n          <step>A</step>\\n          <alter>0</alter>\\n          <octave>4</octave>\\n        </pitch>\\n        <duration>10080</duration>\\n        <type>quarter</type>\\n        <accidental>natural</accidental>\\n      </note>\\n    </measure>\\n    <!--========================= Measure 17 =========================-->\\n    <measure number=\\\"17\\\">\\n      <note>\\n        <pitch>\\n          <step>C</step>\\n          <alter>1</alter>\\n          <octave>4</octave>\\n        </pitch>\\n        <duration>10080</duration>\\n        <type>quarter</type>\\n        <accidental>sharp</accidental>\\n      </note>\\n      <barline location=\\\"right\\\">\\n        <bar-style>light-heavy</bar-style>\\n      </barline>\\n    </measure>\\n  </part>\\n</score-partwise>\\n\")\n",
       "            .then(\n",
       "              function() {\n",
       "                console.log(\"rendering data\")\n",
       "                openSheetMusicDisplay.render();\n",
       "              }\n",
       "            );\n",
       "    })\n",
       "    "
      ],
      "text/plain": [
       "<IPython.core.display.Javascript object>"
      ]
     },
     "metadata": {},
     "output_type": "display_data"
    },
    {
     "data": {
      "text/html": [
       "\n",
       "                <div id='midiPlayerDiv17441'></div>\n",
       "                <link rel=\"stylesheet\" href=\"//cuthbertLab.github.io/music21j/css/m21.css\"\n",
       "                    type=\"text/css\" />\n",
       "                <script>\n",
       "                require.config({\n",
       "                    paths: {'music21': '//cuthbertLab.github.io/music21j/src/music21'}\n",
       "                });\n",
       "                require(['music21'], function() {\n",
       "                               mp = new music21.miditools.MidiPlayer();\n",
       "                               mp.addPlayer('#midiPlayerDiv17441');\n",
       "                               mp.base64Load('data:audio/midi;base64,TVRoZAAAAAYAAQABBABNVHJrAAACWQD/AwVQaWFubwDAAADgAEAAwACIAJA9WogAgD0AAJA/WogAgD8AAJA9WogAgD0AAJBDWogAgEMAAJBBWogAgEEAAJA9WogAgD0AAJA/WogAgD8AAJBFWogAgEUAAJA9WogAgD0AAJBDWogAgEMAAJBDWogAgEMAAJBFWogAgEUAAJBDWogAgEMAAJBDWogAgEMAAJBDWogAgEMAAJA9WogAgD0AAJBFWogAgEUAAJBFWogAgEUAAJBFWogAgEUAAJBFWogAgEUAAJBDWogAgEMAAJA9WogAgD0AAJBDWogAgEMAAJBFWogAgEUAAJA9WogAgD0AAJA9WogAgD0AAJBFWogAgEUAAJA9WogAgD0AAJBHWogAgEcAAJBFWogAgEUAAJA/WogAgD8AAJBFWogAgEUAAJA/WogAgD8AAJA9WogAgD0AAJA/WogAgD8AAJBFWogAgEUAAJBDWogAgEMAAJA9WogAgD0AAJA/WogAgD8AAJA9WogAgD0AAJA9WogAgD0AAJBFWogAgEUAAJA/WogAgD8AAJA/WogAgD8AAJBFWogAgEUAAJA9WogAgD0AAJBFWogAgEUAAJA9WogAgD0AAJA9WogAgD0AAJA/WogAgD8AAJBFWogAgEUAAJA9WogAgD0AAJBFWogAgEUAAJA9WogAgD0AAJBFWogAgEUAAJBDWogAgEMAAJA9WogAgD0AAJA/WogAgD8AAJBFWogAgEUAAJBFWogAgEUAAJA/WogAgD8AAJBFWogAgEUAAJBFWogAgEUAAJA9WogAgD0AiAD/LwA=');\n",
       "                        });\n",
       "                </script>"
      ],
      "text/plain": [
       "<IPython.core.display.HTML object>"
      ]
     },
     "metadata": {},
     "output_type": "display_data"
    }
   ],
   "source": [
    "WTPitches = [1, 3, 5, 7, 9, 11]\n",
    "WTStream = getPitchStreamFromPitchClassSet(WTPitches, 0, 64)\n",
    "showScore(WTStream)\n",
    "play(WTStream)"
   ]
  },
  {
   "cell_type": "code",
   "execution_count": null,
   "metadata": {},
   "outputs": [],
   "source": []
  }
 ],
 "metadata": {
  "kernelspec": {
   "display_name": "Python 3",
   "language": "python",
   "name": "python3"
  },
  "language_info": {
   "codemirror_mode": {
    "name": "ipython",
    "version": 3
   },
   "file_extension": ".py",
   "mimetype": "text/x-python",
   "name": "python",
   "nbconvert_exporter": "python",
   "pygments_lexer": "ipython3",
   "version": "3.7.3"
  }
 },
 "nbformat": 4,
 "nbformat_minor": 4
}
